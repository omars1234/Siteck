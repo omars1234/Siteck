{
 "cells": [
  {
   "cell_type": "code",
   "execution_count": null,
   "metadata": {},
   "outputs": [],
   "source": [
    "%run C:\\Users\\Omar\\Desktop\\Omar_Files\\Python_Analysis\\Siteck\\Pyhton_Projects\\demand_sales_data_Analysi\\NoteBooks\\1.Data_Importing.ipynb"
   ]
  },
  {
   "cell_type": "markdown",
   "metadata": {},
   "source": [
    "## *Data Cleaning*"
   ]
  },
  {
   "cell_type": "markdown",
   "metadata": {},
   "source": [
    "### *A. colums names cleaning: (converting all to small letters and add \"_\" in spaces between words)*"
   ]
  },
  {
   "cell_type": "code",
   "execution_count": 5,
   "metadata": {},
   "outputs": [
    {
     "data": {
      "text/plain": [
       "Index(['date', 'Order_ID', 'Company', 'Company_Region', 'Product_ID',\n",
       "       'Product', 'Customer_ID', 'Product Category01', 'Product Category02',\n",
       "       'Product Category03', 'Quantity', 'unit', 'price_per_case'],\n",
       "      dtype='object')"
      ]
     },
     "execution_count": 5,
     "metadata": {},
     "output_type": "execute_result"
    }
   ],
   "source": [
    "df.columns"
   ]
  },
  {
   "cell_type": "code",
   "execution_count": 6,
   "metadata": {},
   "outputs": [],
   "source": [
    "import janitor\n",
    "df=df.clean_names()"
   ]
  },
  {
   "cell_type": "code",
   "execution_count": 7,
   "metadata": {},
   "outputs": [
    {
     "data": {
      "text/plain": [
       "Index(['date', 'order_id', 'company', 'company_region', 'product_id',\n",
       "       'product', 'customer_id', 'product_category01', 'product_category02',\n",
       "       'product_category03', 'quantity', 'unit', 'price_per_case'],\n",
       "      dtype='object')"
      ]
     },
     "execution_count": 7,
     "metadata": {},
     "output_type": "execute_result"
    }
   ],
   "source": [
    "df.columns"
   ]
  },
  {
   "cell_type": "markdown",
   "metadata": {},
   "source": [
    "---\n",
    "---"
   ]
  },
  {
   "cell_type": "markdown",
   "metadata": {},
   "source": [
    "### *Duplicated data  :*"
   ]
  },
  {
   "cell_type": "code",
   "execution_count": 8,
   "metadata": {},
   "outputs": [
    {
     "data": {
      "text/plain": [
       "48"
      ]
     },
     "execution_count": 8,
     "metadata": {},
     "output_type": "execute_result"
    }
   ],
   "source": [
    "df.duplicated().sum()"
   ]
  },
  {
   "cell_type": "code",
   "execution_count": 9,
   "metadata": {},
   "outputs": [],
   "source": [
    "df.drop_duplicates(inplace=True)"
   ]
  },
  {
   "cell_type": "markdown",
   "metadata": {},
   "source": [
    "---\n",
    "---"
   ]
  },
  {
   "cell_type": "markdown",
   "metadata": {},
   "source": [
    "### *B. na-values :*"
   ]
  },
  {
   "cell_type": "markdown",
   "metadata": {},
   "source": [
    "#### Missing data : \n",
    "- Missing completly at random (MCR) : the data not mentioned at all and not dependens on any other features at all like   (forgotten to mention)\n",
    "- Missing at random (MR): the missed data are based on other featurs in the dataset\n",
    "- Missing not at random (MNR): the missed data are missed by intention like not mentioning name ,age,weight,etc.."
   ]
  },
  {
   "cell_type": "markdown",
   "metadata": {},
   "source": [
    "---"
   ]
  },
  {
   "cell_type": "markdown",
   "metadata": {},
   "source": [
    "#### The number of missing data :"
   ]
  },
  {
   "cell_type": "code",
   "execution_count": 10,
   "metadata": {},
   "outputs": [
    {
     "name": "stdout",
     "output_type": "stream",
     "text": [
      "The total number of na_values are : 753\n",
      "\n",
      "The number of na-values in each features are :\n"
     ]
    },
    {
     "data": {
      "text/plain": [
       "date                    0\n",
       "order_id                0\n",
       "company                 0\n",
       "company_region          0\n",
       "product_id              0\n",
       "product               146\n",
       "customer_id             0\n",
       "product_category01    237\n",
       "product_category02    248\n",
       "product_category03    122\n",
       "quantity                0\n",
       "unit                    0\n",
       "price_per_case          0\n",
       "dtype: int64"
      ]
     },
     "execution_count": 10,
     "metadata": {},
     "output_type": "execute_result"
    }
   ],
   "source": [
    "print(\"The total number of na_values are :\",df.isna().sum().sum())\n",
    "print()\n",
    "print(\"The number of na-values in each features are :\")\n",
    "df.isna().sum()"
   ]
  },
  {
   "cell_type": "markdown",
   "metadata": {},
   "source": [
    "---"
   ]
  },
  {
   "cell_type": "markdown",
   "metadata": {},
   "source": [
    "#### *B.1 Important observations :*"
   ]
  },
  {
   "cell_type": "markdown",
   "metadata": {},
   "source": [
    "- The product feature names constructed of parts from another features :  \n",
    "example: <br> 1. The 1st three charachters : are common between all products names<br>2. The 2nd two charachters : are numbers exctacted for the product category01<br>3. The 3rd three charachters : are exctacted for the product category02 <br>4. The 4th last charachters : are numbers exctacted for the product category03\n",
    "- some products are unknown , will fill the unkown products based on the product_id column as it contains unique id's( Missing at random (MR))"
   ]
  },
  {
   "cell_type": "markdown",
   "metadata": {},
   "source": [
    "---"
   ]
  },
  {
   "cell_type": "markdown",
   "metadata": {},
   "source": [
    "##### *B.1.1: Filling the unkown products based on the product_id column as it contains unique id's :*"
   ]
  },
  {
   "cell_type": "code",
   "execution_count": 11,
   "metadata": {},
   "outputs": [
    {
     "name": "stdout",
     "output_type": "stream",
     "text": [
      "The products names as per he product ID are as below: \n"
     ]
    },
    {
     "data": {
      "text/plain": [
       "product_id\n",
       "11133    [AVO60CNV2, nan]\n",
       "11177         [AVO32ORG0]\n",
       "11385         [AVO48CNV2]\n",
       "11501         [AVO32CNV1]\n",
       "11541         [AVO60CNV1]\n",
       "11829    [AVO32CNV2, nan]\n",
       "11931    [AVO48CNV1, nan]\n",
       "Name: product, dtype: object"
      ]
     },
     "execution_count": 11,
     "metadata": {},
     "output_type": "execute_result"
    }
   ],
   "source": [
    "print(\"The products names as per he product ID are as below: \")\n",
    "df.groupby(\"product_id\")[\"product\"].unique()"
   ]
  },
  {
   "cell_type": "code",
   "execution_count": 12,
   "metadata": {},
   "outputs": [],
   "source": [
    "# To fill the names will use the below function\n",
    "\n",
    "df.loc[df.product_id == 11133, 'product'] = \"AVO60CNV2\"\n",
    "df.loc[df.product_id == 11829, 'product'] = \"AVO32CNV2\"\n",
    "df.loc[df.product_id == 11931, 'product'] = \"AVO48CNV1\""
   ]
  },
  {
   "cell_type": "code",
   "execution_count": 13,
   "metadata": {},
   "outputs": [
    {
     "data": {
      "text/plain": [
       "date                    0\n",
       "order_id                0\n",
       "company                 0\n",
       "company_region          0\n",
       "product_id              0\n",
       "product                 0\n",
       "customer_id             0\n",
       "product_category01    237\n",
       "product_category02    248\n",
       "product_category03    122\n",
       "quantity                0\n",
       "unit                    0\n",
       "price_per_case          0\n",
       "dtype: int64"
      ]
     },
     "execution_count": 13,
     "metadata": {},
     "output_type": "execute_result"
    }
   ],
   "source": [
    "# recheck id product fetaure still has na values or not:\n",
    "df.isna().sum()"
   ]
  },
  {
   "cell_type": "markdown",
   "metadata": {},
   "source": [
    "---"
   ]
  },
  {
   "cell_type": "code",
   "execution_count": 14,
   "metadata": {},
   "outputs": [],
   "source": [
    "# To do so will use the below function:\n",
    "\n",
    "df[\"product_category01\"]=df[\"product\"].str.slice(3,5)\n",
    "df[\"product_category02\"]=df[\"product\"].str.slice(5,8)\n",
    "df[\"product_category03\"]=df[\"product\"].str.slice(-1)"
   ]
  },
  {
   "cell_type": "code",
   "execution_count": 15,
   "metadata": {},
   "outputs": [
    {
     "data": {
      "text/plain": [
       "date                  0\n",
       "order_id              0\n",
       "company               0\n",
       "company_region        0\n",
       "product_id            0\n",
       "product               0\n",
       "customer_id           0\n",
       "product_category01    0\n",
       "product_category02    0\n",
       "product_category03    0\n",
       "quantity              0\n",
       "unit                  0\n",
       "price_per_case        0\n",
       "dtype: int64"
      ]
     },
     "execution_count": 15,
     "metadata": {},
     "output_type": "execute_result"
    }
   ],
   "source": [
    "# recheck if the features : [product_category01,product_category02,product_category03] still has na values or not:\n",
    "df.isna().sum()"
   ]
  },
  {
   "cell_type": "markdown",
   "metadata": {},
   "source": [
    "* *converting the order_id and product_id to object Data Type:*"
   ]
  },
  {
   "cell_type": "code",
   "execution_count": 16,
   "metadata": {},
   "outputs": [],
   "source": [
    "df[\"order_id\"]=df[\"order_id\"].astype(\"str\")\n",
    "df[\"product_id\"]=df[\"product_id\"].astype(\"str\")"
   ]
  },
  {
   "cell_type": "markdown",
   "metadata": {},
   "source": [
    "* *creating total sales feature:*"
   ]
  },
  {
   "cell_type": "code",
   "execution_count": 17,
   "metadata": {},
   "outputs": [],
   "source": [
    "df[\"total_sales\"]=df[\"price_per_case\"]*df[\"quantity\"]"
   ]
  },
  {
   "cell_type": "markdown",
   "metadata": {},
   "source": [
    "* *D.2 creating year,month,day features:*"
   ]
  },
  {
   "cell_type": "code",
   "execution_count": 18,
   "metadata": {},
   "outputs": [],
   "source": [
    "from datetime import datetime\n",
    "df[\"date\"]=pd.to_datetime(df[\"date\"])\n",
    "df[\"year\"]=df[\"date\"].dt.year           # creating year feature\n",
    "df[\"year\"]=df[\"year\"].astype(\"str\")\n",
    "df[\"month\"]=df[\"date\"].dt.month         # creating month feature\n",
    "df[\"month_name\"]=df[\"date\"].dt.month_name()\n",
    "df[\"day\"]=df[\"date\"].dt.day             # creating day feature\n",
    "df[\"day_name\"]=df[\"date\"].dt.day_name()"
   ]
  },
  {
   "cell_type": "code",
   "execution_count": 19,
   "metadata": {},
   "outputs": [],
   "source": [
    "df.to_csv(r\"C:\\Users\\Omar\\Desktop\\Omar_Files\\Python_Analysis\\Siteck\\Pyhton_Projects\\demand_sales_data_Analysi\\Data_Set\\data_set_for_stats.csv\",index=False)"
   ]
  },
  {
   "cell_type": "markdown",
   "metadata": {},
   "source": [
    "---\n",
    "---"
   ]
  }
 ],
 "metadata": {
  "kernelspec": {
   "display_name": "Python 3",
   "language": "python",
   "name": "python3"
  },
  "language_info": {
   "codemirror_mode": {
    "name": "ipython",
    "version": 3
   },
   "file_extension": ".py",
   "mimetype": "text/x-python",
   "name": "python",
   "nbconvert_exporter": "python",
   "pygments_lexer": "ipython3",
   "version": "3.11.4"
  }
 },
 "nbformat": 4,
 "nbformat_minor": 2
}
