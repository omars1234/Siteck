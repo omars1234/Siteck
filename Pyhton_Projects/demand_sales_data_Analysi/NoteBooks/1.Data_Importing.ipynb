{
 "cells": [
  {
   "cell_type": "code",
   "execution_count": 9,
   "metadata": {},
   "outputs": [],
   "source": [
    "import pandas as pd\n",
    "import numpy as np\n",
    "from matplotlib import pyplot as plt\n",
    "%matplotlib inline\n",
    "import matplotlib\n",
    "matplotlib.rcParams[\"figure.figsize\"]=(20,10)\n",
    "import seaborn as sns;sns.set()\n",
    "import warnings\n",
    "warnings.filterwarnings('ignore')\n",
    "import plotly.express as px"
   ]
  },
  {
   "cell_type": "markdown",
   "metadata": {},
   "source": [
    "## *Importing data*"
   ]
  },
  {
   "cell_type": "code",
   "execution_count": 10,
   "metadata": {},
   "outputs": [
    {
     "data": {
      "text/html": [
       "<div>\n",
       "<style scoped>\n",
       "    .dataframe tbody tr th:only-of-type {\n",
       "        vertical-align: middle;\n",
       "    }\n",
       "\n",
       "    .dataframe tbody tr th {\n",
       "        vertical-align: top;\n",
       "    }\n",
       "\n",
       "    .dataframe thead th {\n",
       "        text-align: right;\n",
       "    }\n",
       "</style>\n",
       "<table border=\"1\" class=\"dataframe\">\n",
       "  <thead>\n",
       "    <tr style=\"text-align: right;\">\n",
       "      <th></th>\n",
       "      <th>date</th>\n",
       "      <th>Order_ID</th>\n",
       "      <th>Company</th>\n",
       "      <th>Company_Region</th>\n",
       "      <th>Product_ID</th>\n",
       "      <th>Product</th>\n",
       "      <th>Customer_ID</th>\n",
       "      <th>Product Category01</th>\n",
       "      <th>Product Category02</th>\n",
       "      <th>Product Category03</th>\n",
       "      <th>Quantity</th>\n",
       "      <th>unit</th>\n",
       "      <th>price_per_case</th>\n",
       "    </tr>\n",
       "  </thead>\n",
       "  <tbody>\n",
       "    <tr>\n",
       "      <th>0</th>\n",
       "      <td>1/1/2021</td>\n",
       "      <td>6141309</td>\n",
       "      <td>121</td>\n",
       "      <td>South</td>\n",
       "      <td>11829</td>\n",
       "      <td>AVO32CNV2</td>\n",
       "      <td>DMKUT</td>\n",
       "      <td>32.0</td>\n",
       "      <td>CNV</td>\n",
       "      <td>#2</td>\n",
       "      <td>224</td>\n",
       "      <td>case</td>\n",
       "      <td>41</td>\n",
       "    </tr>\n",
       "    <tr>\n",
       "      <th>1</th>\n",
       "      <td>1/1/2021</td>\n",
       "      <td>6377268</td>\n",
       "      <td>131</td>\n",
       "      <td>North</td>\n",
       "      <td>11541</td>\n",
       "      <td>AVO60CNV1</td>\n",
       "      <td>QPDXK</td>\n",
       "      <td>60.0</td>\n",
       "      <td>CNV</td>\n",
       "      <td>1</td>\n",
       "      <td>396</td>\n",
       "      <td>case</td>\n",
       "      <td>46</td>\n",
       "    </tr>\n",
       "    <tr>\n",
       "      <th>2</th>\n",
       "      <td>1/1/2021</td>\n",
       "      <td>6377268</td>\n",
       "      <td>131</td>\n",
       "      <td>North</td>\n",
       "      <td>11931</td>\n",
       "      <td>AVO48CNV1</td>\n",
       "      <td>QPDXK</td>\n",
       "      <td>NaN</td>\n",
       "      <td>CNV</td>\n",
       "      <td>1</td>\n",
       "      <td>148</td>\n",
       "      <td>case</td>\n",
       "      <td>45</td>\n",
       "    </tr>\n",
       "    <tr>\n",
       "      <th>3</th>\n",
       "      <td>1/1/2021</td>\n",
       "      <td>6191867</td>\n",
       "      <td>121</td>\n",
       "      <td>South</td>\n",
       "      <td>11829</td>\n",
       "      <td>AVO32CNV2</td>\n",
       "      <td>IEHDJ</td>\n",
       "      <td>32.0</td>\n",
       "      <td>CNV</td>\n",
       "      <td>#2</td>\n",
       "      <td>150</td>\n",
       "      <td>case</td>\n",
       "      <td>41</td>\n",
       "    </tr>\n",
       "    <tr>\n",
       "      <th>4</th>\n",
       "      <td>1/1/2021</td>\n",
       "      <td>6191867</td>\n",
       "      <td>121</td>\n",
       "      <td>South</td>\n",
       "      <td>11385</td>\n",
       "      <td>AVO48CNV2</td>\n",
       "      <td>IEHDJ</td>\n",
       "      <td>48.0</td>\n",
       "      <td>CNV</td>\n",
       "      <td>#2</td>\n",
       "      <td>294</td>\n",
       "      <td>case</td>\n",
       "      <td>49</td>\n",
       "    </tr>\n",
       "  </tbody>\n",
       "</table>\n",
       "</div>"
      ],
      "text/plain": [
       "       date  Order_ID  Company Company_Region  Product_ID    Product  \\\n",
       "0  1/1/2021   6141309      121          South       11829  AVO32CNV2   \n",
       "1  1/1/2021   6377268      131          North       11541  AVO60CNV1   \n",
       "2  1/1/2021   6377268      131          North       11931  AVO48CNV1   \n",
       "3  1/1/2021   6191867      121          South       11829  AVO32CNV2   \n",
       "4  1/1/2021   6191867      121          South       11385  AVO48CNV2   \n",
       "\n",
       "  Customer_ID  Product Category01 Product Category02 Product Category03  \\\n",
       "0       DMKUT                32.0                CNV                 #2   \n",
       "1       QPDXK                60.0                CNV                  1   \n",
       "2       QPDXK                 NaN                CNV                  1   \n",
       "3       IEHDJ                32.0                CNV                 #2   \n",
       "4       IEHDJ                48.0                CNV                 #2   \n",
       "\n",
       "   Quantity  unit  price_per_case  \n",
       "0       224  case              41  \n",
       "1       396  case              46  \n",
       "2       148  case              45  \n",
       "3       150  case              41  \n",
       "4       294  case              49  "
      ]
     },
     "execution_count": 10,
     "metadata": {},
     "output_type": "execute_result"
    }
   ],
   "source": [
    "df=pd.read_csv(r\"C:\\Users\\Omar\\Desktop\\SiTeck\\Month_1\\Week_1\\DataFiles\\demand_sales_data.csv\")\n",
    "df.head()"
   ]
  },
  {
   "cell_type": "markdown",
   "metadata": {},
   "source": [
    "## *Data shape*"
   ]
  },
  {
   "cell_type": "code",
   "execution_count": 11,
   "metadata": {},
   "outputs": [
    {
     "name": "stdout",
     "output_type": "stream",
     "text": [
      "(11386, 13)\n",
      "The data set has 11386 rows, and 13 features\n",
      "This means the Date set has in total 148018 elemensts or cells\n"
     ]
    }
   ],
   "source": [
    "print(df.shape)\n",
    "print(\"The data set has\",df.shape[0],\"rows, and\",df.shape[1],\"features\\nThis means the Date set has in total\",df.size,\"elemensts or cells\")"
   ]
  },
  {
   "cell_type": "markdown",
   "metadata": {},
   "source": [
    "---"
   ]
  },
  {
   "cell_type": "markdown",
   "metadata": {},
   "source": [
    "## *Data types*"
   ]
  },
  {
   "cell_type": "code",
   "execution_count": 12,
   "metadata": {},
   "outputs": [
    {
     "data": {
      "text/plain": [
       "date                   object\n",
       "Order_ID                int64\n",
       "Company                 int64\n",
       "Company_Region         object\n",
       "Product_ID              int64\n",
       "Product                object\n",
       "Customer_ID            object\n",
       "Product Category01    float64\n",
       "Product Category02     object\n",
       "Product Category03     object\n",
       "Quantity                int64\n",
       "unit                   object\n",
       "price_per_case          int64\n",
       "dtype: object"
      ]
     },
     "execution_count": 12,
     "metadata": {},
     "output_type": "execute_result"
    }
   ],
   "source": [
    "df.dtypes"
   ]
  },
  {
   "cell_type": "markdown",
   "metadata": {},
   "source": [
    "---"
   ]
  },
  {
   "cell_type": "markdown",
   "metadata": {},
   "source": [
    "## *Data info*"
   ]
  },
  {
   "cell_type": "code",
   "execution_count": 13,
   "metadata": {},
   "outputs": [
    {
     "name": "stdout",
     "output_type": "stream",
     "text": [
      "<class 'pandas.core.frame.DataFrame'>\n",
      "RangeIndex: 11386 entries, 0 to 11385\n",
      "Data columns (total 13 columns):\n",
      " #   Column              Non-Null Count  Dtype  \n",
      "---  ------              --------------  -----  \n",
      " 0   date                11386 non-null  object \n",
      " 1   Order_ID            11386 non-null  int64  \n",
      " 2   Company             11386 non-null  int64  \n",
      " 3   Company_Region      11386 non-null  object \n",
      " 4   Product_ID          11386 non-null  int64  \n",
      " 5   Product             11240 non-null  object \n",
      " 6   Customer_ID         11386 non-null  object \n",
      " 7   Product Category01  11148 non-null  float64\n",
      " 8   Product Category02  11138 non-null  object \n",
      " 9   Product Category03  11264 non-null  object \n",
      " 10  Quantity            11386 non-null  int64  \n",
      " 11  unit                11386 non-null  object \n",
      " 12  price_per_case      11386 non-null  int64  \n",
      "dtypes: float64(1), int64(5), object(7)\n",
      "memory usage: 1.1+ MB\n"
     ]
    }
   ],
   "source": [
    "df.info()"
   ]
  },
  {
   "cell_type": "markdown",
   "metadata": {},
   "source": [
    "---"
   ]
  },
  {
   "cell_type": "markdown",
   "metadata": {},
   "source": [
    ">  --->*obviously we need to to do some cleaning*"
   ]
  },
  {
   "cell_type": "markdown",
   "metadata": {},
   "source": [
    "---"
   ]
  }
 ],
 "metadata": {
  "kernelspec": {
   "display_name": "Python 3",
   "language": "python",
   "name": "python3"
  },
  "language_info": {
   "codemirror_mode": {
    "name": "ipython",
    "version": 3
   },
   "file_extension": ".py",
   "mimetype": "text/x-python",
   "name": "python",
   "nbconvert_exporter": "python",
   "pygments_lexer": "ipython3",
   "version": "3.11.4"
  }
 },
 "nbformat": 4,
 "nbformat_minor": 2
}
