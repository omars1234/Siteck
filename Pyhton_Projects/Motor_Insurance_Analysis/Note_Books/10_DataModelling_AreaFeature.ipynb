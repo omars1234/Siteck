{
 "cells": [
  {
   "cell_type": "markdown",
   "metadata": {},
   "source": [
    "##  <u> *Data Modelling*  </u>"
   ]
  },
  {
   "cell_type": "code",
   "execution_count": null,
   "metadata": {},
   "outputs": [],
   "source": [
    "%run 3_EDA.ipynb"
   ]
  },
  {
   "cell_type": "markdown",
   "metadata": {},
   "source": [
    "---"
   ]
  },
  {
   "cell_type": "markdown",
   "metadata": {},
   "source": [
    "### <u>*Calssifications Modelling for gender as a Target Feature*</u>"
   ]
  },
  {
   "cell_type": "code",
   "execution_count": 13,
   "metadata": {},
   "outputs": [],
   "source": [
    "from sklearn.compose import ColumnTransformer\n",
    "from sklearn.pipeline import Pipeline\n",
    "from sklearn.impute import SimpleImputer\n",
    "from sklearn.preprocessing import OneHotEncoder,LabelEncoder,StandardScaler\n",
    "from sklearn.model_selection import train_test_split,cross_val_score\n",
    "from sklearn.ensemble import RandomForestRegressor,AdaBoostRegressor\n",
    "from sklearn.metrics import (\n",
    "    r2_score,accuracy_score,roc_auc_score,auc,roc_curve,precision_score,\n",
    "    recall_score,precision_recall_curve,r2_score,classification_report,RocCurveDisplay,\n",
    "    confusion_matrix,f1_score,ConfusionMatrixDisplay\n",
    "    )\n",
    "\n",
    "from sklearn.svm import SVR,SVC\n",
    "from sklearn.linear_model import LinearRegression, Ridge,Lasso\n",
    "from sklearn.model_selection import RandomizedSearchCV\n",
    "from sklearn.neighbors import KNeighborsRegressor,KNeighborsClassifier\n",
    "from sklearn.tree import DecisionTreeRegressor,DecisionTreeClassifier\n",
    "from catboost import CatBoostRegressor,CatBoostClassifier\n",
    "from xgboost import XGBRegressor,XGBRFRegressor,XGBClassifier,XGBRFClassifier\n",
    "import warnings\n",
    "from catboost import CatBoostRegressor,CatBoostClassifier\n",
    "from sklearn.ensemble import (\n",
    "    AdaBoostClassifier,\n",
    "    GradientBoostingRegressor,\n",
    "    RandomForestClassifier,\n",
    "    GradientBoostingClassifier\n",
    ")\n",
    "\n",
    "from hyperopt import fmin,tpe,STATUS_OK,Trials,hp\n",
    "from sklearn.utils.multiclass import unique_labels\n",
    "import plotclassification ,plotly\n",
    "# import matplotlib.pyplot as plt\n",
    "from yellowbrick.classifier import ClassificationReport"
   ]
  },
  {
   "cell_type": "markdown",
   "metadata": {},
   "source": [
    "### *C.* <u>*gender as a Target Feature :*</u>"
   ]
  },
  {
   "cell_type": "markdown",
   "metadata": {},
   "source": [
    "#### *C.1*<br> <u>*Basic Models Comparison :*</u>"
   ]
  },
  {
   "cell_type": "markdown",
   "metadata": {},
   "source": [
    "##### *C.1.1*<br> <u>*Models :*</u>"
   ]
  },
  {
   "cell_type": "code",
   "execution_count": 14,
   "metadata": {},
   "outputs": [],
   "source": [
    "models = {\n",
    "                \"Random Forest\": RandomForestClassifier(),\n",
    "                \"Decision Tree\": DecisionTreeClassifier(),\n",
    "                \"Gradient Boosting\": GradientBoostingClassifier(),\n",
    "                \"XGBRegressor\": XGBClassifier(),\n",
    "                \"CatBoosting Regressor\": CatBoostClassifier(verbose=False),\n",
    "                \"AdaBoost Regressor\": AdaBoostClassifier(),\n",
    "            }"
   ]
  },
  {
   "cell_type": "markdown",
   "metadata": {},
   "source": [
    "##### *C.1.2*<br> <u>*Prepare Date :*</u>"
   ]
  },
  {
   "cell_type": "code",
   "execution_count": 15,
   "metadata": {},
   "outputs": [],
   "source": [
    "LabelEncoder_cat = LabelEncoder()\n",
    "df_area=df.copy()\n",
    "df_area[\"area\"]=LabelEncoder_cat.fit_transform(df_area[\"area\"])\n",
    "x_area=df_area.drop(\"area\",axis=1)\n",
    "y_area= df_area[\"area\"]\n",
    "\n",
    "\n",
    "\n",
    "xtrain_full,xtest_full, ytrain, ytest = train_test_split(x_area, y_area, train_size=0.8, test_size=0.2,random_state=0)\n",
    "\n",
    "numerical_cols = [col for col in xtrain_full.columns if xtrain_full[col].dtype in ['int64', 'float64']]\n",
    "categorical_cols =[col for col in xtrain_full.columns if  xtrain_full[col].dtype == \"object\"]\n",
    "\n",
    "my_cols = categorical_cols + numerical_cols\n",
    "xtrain = xtrain_full[my_cols].copy()\n",
    "xtest = xtest_full[my_cols].copy()\n",
    "\n",
    "numerical_transformer = Pipeline(steps=[\n",
    "    (\"scaler\",StandardScaler())\n",
    "    ])\n",
    "\n",
    "\n",
    "categorical_transformer = Pipeline(steps=[\n",
    "    ('onehot', OneHotEncoder(handle_unknown='ignore')),\n",
    "    (\"scaler\",StandardScaler(with_mean=False))\n",
    "    ])\n",
    "\n",
    "preprocessor = ColumnTransformer(\n",
    "    transformers=[\n",
    "        ('num', numerical_transformer, numerical_cols),\n",
    "        ('cat', categorical_transformer, categorical_cols)\n",
    "    ])\n",
    "\n"
   ]
  },
  {
   "cell_type": "markdown",
   "metadata": {},
   "source": [
    "##### *C.1.3*<br> <u>*Apply Models :*</u>"
   ]
  },
  {
   "cell_type": "code",
   "execution_count": 16,
   "metadata": {},
   "outputs": [
    {
     "name": "stdout",
     "output_type": "stream",
     "text": [
      "Random Forest\n",
      "Model performance for Training set\n",
      "- Accuracy Score: 0.9896\n",
      "----------------------------------\n",
      "Model performance for Test set\n",
      "- Accuracy Score: 0.2458\n",
      "===================================\n",
      "\n",
      "\n",
      "Decision Tree\n",
      "Model performance for Training set\n",
      "- Accuracy Score: 0.9896\n",
      "----------------------------------\n",
      "Model performance for Test set\n",
      "- Accuracy Score: 0.2264\n",
      "===================================\n",
      "\n",
      "\n",
      "Gradient Boosting\n",
      "Model performance for Training set\n",
      "- Accuracy Score: 0.3215\n",
      "----------------------------------\n",
      "Model performance for Test set\n",
      "- Accuracy Score: 0.3095\n",
      "===================================\n",
      "\n",
      "\n",
      "XGBRegressor\n",
      "Model performance for Training set\n",
      "- Accuracy Score: 0.4161\n",
      "----------------------------------\n",
      "Model performance for Test set\n",
      "- Accuracy Score: 0.3032\n",
      "===================================\n",
      "\n",
      "\n",
      "CatBoosting Regressor\n",
      "Model performance for Training set\n",
      "- Accuracy Score: 0.3937\n",
      "----------------------------------\n",
      "Model performance for Test set\n",
      "- Accuracy Score: 0.3023\n",
      "===================================\n",
      "\n",
      "\n",
      "AdaBoost Regressor\n",
      "Model performance for Training set\n",
      "- Accuracy Score: 0.3058\n",
      "----------------------------------\n",
      "Model performance for Test set\n",
      "- Accuracy Score: 0.3105\n",
      "===================================\n",
      "\n",
      "\n"
     ]
    }
   ],
   "source": [
    "def Cat_evaluate_model(true, predicted):\n",
    "    AccuracyScore = accuracy_score(true, predicted)\n",
    "    \n",
    "    return AccuracyScore\n",
    "\n",
    "###################################################\n",
    "\n",
    "model_list = []\n",
    "accurecy_list =[]\n",
    "#mae_list=[]\n",
    "#aucScore_list=[]\n",
    "\n",
    "for i in range(len(list(models))):\n",
    "    model = list(models.values())[i]\n",
    "    my_pipeline = Pipeline(steps=[\n",
    "        ('preprocessor', preprocessor),\n",
    "        ('model', model)\n",
    "        ])\n",
    "    \n",
    "    my_pipeline.fit(xtrain, ytrain) \n",
    "\n",
    "    y_train_pred = my_pipeline.predict(xtrain)\n",
    "    y_test_pred = my_pipeline.predict(xtest)\n",
    "\n",
    "    model_train_AccuracyScore = Cat_evaluate_model(ytrain, y_train_pred)\n",
    "    model_test_AccuracyScore = Cat_evaluate_model(ytest, y_test_pred)\n",
    "\n",
    "\n",
    "    print(list(models.keys())[i])\n",
    "    model_list.append(list(models.keys())[i])\n",
    "    \n",
    "    print('Model performance for Training set')\n",
    "    print(\"- Accuracy Score: {:.4f}\".format(model_train_AccuracyScore))\n",
    "    \n",
    "\n",
    "\n",
    "    print('----------------------------------')\n",
    "    \n",
    "    print('Model performance for Test set')\n",
    "    print(\"- Accuracy Score: {:.4f}\".format(model_test_AccuracyScore))\n",
    "   \n",
    " \n",
    "    accurecy_list.append(model_test_AccuracyScore)\n",
    "    #aucScore_list.append(model_test_aucScore)\n",
    "    #mae_list.append(model_test_mae)\n",
    "    \n",
    "    print('='*35)\n",
    "    print('\\n')\n",
    "\n"
   ]
  },
  {
   "cell_type": "markdown",
   "metadata": {},
   "source": [
    "##### *C.1.4*<br> <u>*Best Model :*</u>"
   ]
  },
  {
   "cell_type": "code",
   "execution_count": 17,
   "metadata": {},
   "outputs": [
    {
     "data": {
      "text/html": [
       "<div>\n",
       "<style scoped>\n",
       "    .dataframe tbody tr th:only-of-type {\n",
       "        vertical-align: middle;\n",
       "    }\n",
       "\n",
       "    .dataframe tbody tr th {\n",
       "        vertical-align: top;\n",
       "    }\n",
       "\n",
       "    .dataframe thead th {\n",
       "        text-align: right;\n",
       "    }\n",
       "</style>\n",
       "<table border=\"1\" class=\"dataframe\">\n",
       "  <thead>\n",
       "    <tr style=\"text-align: right;\">\n",
       "      <th></th>\n",
       "      <th>Model Name</th>\n",
       "      <th>accurecy</th>\n",
       "    </tr>\n",
       "  </thead>\n",
       "  <tbody>\n",
       "    <tr>\n",
       "      <th>5</th>\n",
       "      <td>AdaBoost Regressor</td>\n",
       "      <td>0.310492</td>\n",
       "    </tr>\n",
       "    <tr>\n",
       "      <th>2</th>\n",
       "      <td>Gradient Boosting</td>\n",
       "      <td>0.309461</td>\n",
       "    </tr>\n",
       "    <tr>\n",
       "      <th>3</th>\n",
       "      <td>XGBRegressor</td>\n",
       "      <td>0.303198</td>\n",
       "    </tr>\n",
       "    <tr>\n",
       "      <th>4</th>\n",
       "      <td>CatBoosting Regressor</td>\n",
       "      <td>0.302314</td>\n",
       "    </tr>\n",
       "    <tr>\n",
       "      <th>0</th>\n",
       "      <td>Random Forest</td>\n",
       "      <td>0.245800</td>\n",
       "    </tr>\n",
       "    <tr>\n",
       "      <th>1</th>\n",
       "      <td>Decision Tree</td>\n",
       "      <td>0.226422</td>\n",
       "    </tr>\n",
       "  </tbody>\n",
       "</table>\n",
       "</div>"
      ],
      "text/plain": [
       "              Model Name  accurecy\n",
       "5     AdaBoost Regressor  0.310492\n",
       "2      Gradient Boosting  0.309461\n",
       "3           XGBRegressor  0.303198\n",
       "4  CatBoosting Regressor  0.302314\n",
       "0          Random Forest  0.245800\n",
       "1          Decision Tree  0.226422"
      ]
     },
     "execution_count": 17,
     "metadata": {},
     "output_type": "execute_result"
    }
   ],
   "source": [
    "pd.DataFrame(list(zip(model_list,accurecy_list)), \n",
    "             columns=['Model Name', 'accurecy']).sort_values(by=[\"accurecy\"],ascending=False)"
   ]
  },
  {
   "cell_type": "markdown",
   "metadata": {},
   "source": [
    "##### *C.1.5*<br> <u>*Apply Best Model :*</u>"
   ]
  },
  {
   "cell_type": "code",
   "execution_count": 18,
   "metadata": {},
   "outputs": [],
   "source": [
    "my_pipeline = Pipeline(steps=[('preprocessor', preprocessor),\n",
    "                              ('melbourne', AdaBoostClassifier())# or ('melbourne_model', RandomForestRegressor(random_state=0,n_estimators=50)) \n",
    "                             ])\n",
    "my_pipeline.fit(xtrain, ytrain)\n",
    "preds = my_pipeline.predict(xtest)"
   ]
  },
  {
   "cell_type": "markdown",
   "metadata": {},
   "source": [
    "##### *C.1.6*<br> <u>*classification_report - Best Model :*</u>"
   ]
  },
  {
   "cell_type": "code",
   "execution_count": 19,
   "metadata": {},
   "outputs": [
    {
     "name": "stdout",
     "output_type": "stream",
     "text": [
      "              precision    recall  f1-score   support\n",
      "\n",
      "           0       0.30      0.03      0.05      3214\n",
      "           1       0.12      0.00      0.00      2623\n",
      "           2       0.31      0.95      0.47      4179\n",
      "           3       0.23      0.05      0.09      1622\n",
      "           4       0.23      0.03      0.05      1180\n",
      "           5       0.29      0.04      0.07       754\n",
      "\n",
      "    accuracy                           0.31     13572\n",
      "   macro avg       0.25      0.18      0.12     13572\n",
      "weighted avg       0.25      0.31      0.18     13572\n",
      "\n"
     ]
    }
   ],
   "source": [
    "print(classification_report(ytest,preds))"
   ]
  },
  {
   "cell_type": "code",
   "execution_count": 20,
   "metadata": {},
   "outputs": [
    {
     "name": "stdout",
     "output_type": "stream",
     "text": [
      "- Accuracy :  0.3104921898025346\n",
      "===================================\n",
      "- Precision Score \n",
      " (Positive Predictive Power) = True Positives / (True Positives + False Positives) :\n",
      "  0.25460385886124853\n",
      "===================================\n",
      "- Recall Score \n",
      " (True Positive Rate)  = True Positives / (True Positives + False Negatives) :\n",
      "  0.3104921898025346\n",
      "===================================\n",
      "- F1-Score:  0.17569726141102124\n",
      "===================================\n",
      "-Precision Score :\n",
      "The ratio of True Females amoung Predicted True Females 0.6442377260981912\n",
      "The ratio of True Males amoung Predicted True Males 0.6279189119835771\n",
      "===================================\n",
      "-recall Score :\n",
      "The ratio of True Females amoung all Females 0.8112716386828062\n",
      "The ratio of True Males amoung all Males 0.4155204618780778\n",
      "===================================\n"
     ]
    }
   ],
   "source": [
    "print(\"- Accuracy : \",\n",
    "      accuracy_score(ytest, preds))\n",
    "print('='*35)\n",
    "\n",
    "print(\"- Precision Score \\n (Positive Predictive Power) = True Positives / (True Positives + False Positives) :\\n \", \n",
    "      precision_score(ytest, preds, average='weighted'))\n",
    "print('='*35)\n",
    "print(\"- Recall Score \\n (True Positive Rate)  = True Positives / (True Positives + False Negatives) :\\n \",\n",
    "      recall_score(ytest, preds, average='weighted'))\n",
    "print('='*35)\n",
    "print(\"- F1-Score: \",\n",
    "      f1_score(ytest, preds, average='weighted'))\n",
    "print('='*35)\n",
    "print(\"-Precision Score :\")\n",
    "print(f\"The ratio of True Females amoung Predicted True Females {6233/(6233+3442)}\")\n",
    "print(f\"The ratio of True Males amoung Predicted True Males {2447/(1450+2447)}\")\n",
    "\n",
    "print('='*35)\n",
    "print(\"-recall Score :\")\n",
    "print(f\"The ratio of True Females amoung all Females {6233/(6233+1450)}\")\n",
    "print(f\"The ratio of True Males amoung all Males {2447/(3442+2447)}\")\n",
    "print('='*35)"
   ]
  },
  {
   "cell_type": "markdown",
   "metadata": {},
   "source": [
    "##### *C.1.7*<br> <u>*Visualize Best Model :*</u>"
   ]
  },
  {
   "cell_type": "code",
   "execution_count": 21,
   "metadata": {},
   "outputs": [
    {
     "data": {
      "text/html": [
       "<div>\n",
       "<style scoped>\n",
       "    .dataframe tbody tr th:only-of-type {\n",
       "        vertical-align: middle;\n",
       "    }\n",
       "\n",
       "    .dataframe tbody tr th {\n",
       "        vertical-align: top;\n",
       "    }\n",
       "\n",
       "    .dataframe thead th {\n",
       "        text-align: right;\n",
       "    }\n",
       "</style>\n",
       "<table border=\"1\" class=\"dataframe\">\n",
       "  <thead>\n",
       "    <tr style=\"text-align: right;\">\n",
       "      <th></th>\n",
       "      <th>predicted0</th>\n",
       "      <th>predicted1</th>\n",
       "      <th>predicted2</th>\n",
       "      <th>predicted3</th>\n",
       "      <th>predicted4</th>\n",
       "      <th>predicted5</th>\n",
       "    </tr>\n",
       "  </thead>\n",
       "  <tbody>\n",
       "    <tr>\n",
       "      <th>Actual0</th>\n",
       "      <td>83</td>\n",
       "      <td>2</td>\n",
       "      <td>3048</td>\n",
       "      <td>58</td>\n",
       "      <td>12</td>\n",
       "      <td>11</td>\n",
       "    </tr>\n",
       "    <tr>\n",
       "      <th>Actual1</th>\n",
       "      <td>49</td>\n",
       "      <td>1</td>\n",
       "      <td>2490</td>\n",
       "      <td>56</td>\n",
       "      <td>16</td>\n",
       "      <td>11</td>\n",
       "    </tr>\n",
       "    <tr>\n",
       "      <th>Actual2</th>\n",
       "      <td>76</td>\n",
       "      <td>2</td>\n",
       "      <td>3979</td>\n",
       "      <td>73</td>\n",
       "      <td>25</td>\n",
       "      <td>24</td>\n",
       "    </tr>\n",
       "    <tr>\n",
       "      <th>Actual3</th>\n",
       "      <td>32</td>\n",
       "      <td>3</td>\n",
       "      <td>1455</td>\n",
       "      <td>88</td>\n",
       "      <td>34</td>\n",
       "      <td>10</td>\n",
       "    </tr>\n",
       "    <tr>\n",
       "      <th>Actual4</th>\n",
       "      <td>23</td>\n",
       "      <td>0</td>\n",
       "      <td>1033</td>\n",
       "      <td>73</td>\n",
       "      <td>33</td>\n",
       "      <td>18</td>\n",
       "    </tr>\n",
       "    <tr>\n",
       "      <th>Actual5</th>\n",
       "      <td>16</td>\n",
       "      <td>0</td>\n",
       "      <td>643</td>\n",
       "      <td>43</td>\n",
       "      <td>22</td>\n",
       "      <td>30</td>\n",
       "    </tr>\n",
       "  </tbody>\n",
       "</table>\n",
       "</div>"
      ],
      "text/plain": [
       "         predicted0  predicted1  predicted2  predicted3  predicted4  \\\n",
       "Actual0          83           2        3048          58          12   \n",
       "Actual1          49           1        2490          56          16   \n",
       "Actual2          76           2        3979          73          25   \n",
       "Actual3          32           3        1455          88          34   \n",
       "Actual4          23           0        1033          73          33   \n",
       "Actual5          16           0         643          43          22   \n",
       "\n",
       "         predicted5  \n",
       "Actual0          11  \n",
       "Actual1          11  \n",
       "Actual2          24  \n",
       "Actual3          10  \n",
       "Actual4          18  \n",
       "Actual5          30  "
      ]
     },
     "execution_count": 21,
     "metadata": {},
     "output_type": "execute_result"
    }
   ],
   "source": [
    "unique_labels(ytest)\n",
    "labels=unique_labels(ytest)\n",
    "col_names=[f\"predicted{label}\"for label in labels ]\n",
    "index_names=[f\"Actual{label}\"for label in labels ]\n",
    "pd.DataFrame(confusion_matrix(ytest, preds),columns=col_names,index=index_names)"
   ]
  },
  {
   "cell_type": "code",
   "execution_count": 22,
   "metadata": {},
   "outputs": [
    {
     "data": {
      "text/plain": [
       "<sklearn.metrics._plot.confusion_matrix.ConfusionMatrixDisplay at 0x279e16a8a50>"
      ]
     },
     "execution_count": 22,
     "metadata": {},
     "output_type": "execute_result"
    },
    {
     "data": {
      "image/png": "[encoded data removed]",
      "text/plain": [
       "<Figure size 2000x1000 with 2 Axes>"
      ]
     },
     "metadata": {},
     "output_type": "display_data"
    }
   ],
   "source": [
    "ConfusionMatrixDisplay(confusion_matrix(ytest,preds)).plot()"
   ]
  },
  {
   "cell_type": "markdown",
   "metadata": {},
   "source": [
    "##### *C.1.8*<br> <u>*Visualize The classification_report :*</u>"
   ]
  },
  {
   "cell_type": "code",
   "execution_count": 25,
   "metadata": {},
   "outputs": [],
   "source": [
    "classes = ['A','B','C','D','E','F']\n",
    "visualizer = ClassificationReport(AdaBoostClassifier(), classes=classes, support=True)"
   ]
  },
  {
   "cell_type": "code",
   "execution_count": 26,
   "metadata": {},
   "outputs": [
    {
     "ename": "AttributeError",
     "evalue": "'Pipeline' object has no attribute 'show'",
     "output_type": "error",
     "traceback": [
      "\u001b[1;31m---------------------------------------------------------------------------\u001b[0m",
      "\u001b[1;31mAttributeError\u001b[0m                            Traceback (most recent call last)",
      "\u001b[1;32mc:\\Users\\Omar\\Siteck\\Pyhton_Projects\\Motor_Insurance_Analysis\\Note_Books\\10_DataModelling_AreaFeature.ipynb Cell 26\u001b[0m line \u001b[0;36m6\n\u001b[0;32m      <a href='vscode-notebook-cell:/c%3A/Users/Omar/Siteck/Pyhton_Projects/Motor_Insurance_Analysis/Note_Books/10_DataModelling_AreaFeature.ipynb#X34sZmlsZQ%3D%3D?line=3'>4</a>\u001b[0m visualizer_Plot\u001b[39m.\u001b[39mfit(xtrain, ytrain)        \u001b[39m# Fit the visualizer and the model\u001b[39;00m\n\u001b[0;32m      <a href='vscode-notebook-cell:/c%3A/Users/Omar/Siteck/Pyhton_Projects/Motor_Insurance_Analysis/Note_Books/10_DataModelling_AreaFeature.ipynb#X34sZmlsZQ%3D%3D?line=4'>5</a>\u001b[0m visualizer_Plot\u001b[39m.\u001b[39mscore(xtest, ytest)        \u001b[39m# Evaluate the model on the test data\u001b[39;00m\n\u001b[1;32m----> <a href='vscode-notebook-cell:/c%3A/Users/Omar/Siteck/Pyhton_Projects/Motor_Insurance_Analysis/Note_Books/10_DataModelling_AreaFeature.ipynb#X34sZmlsZQ%3D%3D?line=5'>6</a>\u001b[0m visualizer_Plot\u001b[39m.\u001b[39;49mshow()\n",
      "\u001b[1;31mAttributeError\u001b[0m: 'Pipeline' object has no attribute 'show'"
     ]
    },
    {
     "data": {
      "image/png": "[encoded data removed]",
      "text/plain": [
       "<Figure size 2000x1000 with 2 Axes>"
      ]
     },
     "metadata": {},
     "output_type": "display_data"
    }
   ],
   "source": [
    "visualizer_Plot= Pipeline(steps=[('preprocessor', preprocessor),\n",
    "                              ('melbourne_model', visualizer)# or ('melbourne_model', RandomForestRegressor(random_state=0,n_estimators=50)) \n",
    "                             ])\n",
    "visualizer_Plot.fit(xtrain, ytrain)        # Fit the visualizer and the model\n",
    "visualizer_Plot.score(xtest, ytest)        # Evaluate the model on the test data\n",
    "visualizer_Plot.show()"
   ]
  },
  {
   "cell_type": "markdown",
   "metadata": {},
   "source": [
    "##### *C.1.9*<br> <u>*ROC-CURVE :*</u>"
   ]
  },
  {
   "cell_type": "markdown",
   "metadata": {},
   "source": [
    "* ##### *Area Under Curve (auc)*"
   ]
  },
  {
   "cell_type": "code",
   "execution_count": 30,
   "metadata": {},
   "outputs": [
    {
     "name": "stdout",
     "output_type": "stream",
     "text": [
      "AUC: 0.610\n"
     ]
    }
   ],
   "source": [
    "auc = roc_auc_score(ytest, my_pipeline.predict_proba(xtest),multi_class=\"ovr\")\n",
    "#auc_0=roc_auc_score(ytest, my_pipeline.predict_proba(xtest)[:,1])\n",
    "#auc_f=roc_auc_score(ytest, my_pipeline.predict_proba(xtest)[:,0])\n",
    "print('AUC: %.3f' % auc)\n",
    "#print('AUC for male Class : %.3f' % auc_m)\n",
    "#print('AUC for Femal Class: %.3f' % auc_f)\n"
   ]
  },
  {
   "cell_type": "markdown",
   "metadata": {},
   "source": [
    "* ##### *Area Under Curve (auc) Visualization :*"
   ]
  },
  {
   "cell_type": "markdown",
   "metadata": {},
   "source": [
    "### PrecisionRecallDisplay¶"
   ]
  },
  {
   "cell_type": "markdown",
   "metadata": {},
   "source": [
    "----"
   ]
  }
 ],
 "metadata": {
  "kernelspec": {
   "display_name": "Python 3",
   "language": "python",
   "name": "python3"
  },
  "language_info": {
   "codemirror_mode": {
    "name": "ipython",
    "version": 3
   },
   "file_extension": ".py",
   "mimetype": "text/x-python",
   "name": "python",
   "nbconvert_exporter": "python",
   "pygments_lexer": "ipython3",
   "version": "3.11.4"
  }
 },
 "nbformat": 4,
 "nbformat_minor": 2
}
