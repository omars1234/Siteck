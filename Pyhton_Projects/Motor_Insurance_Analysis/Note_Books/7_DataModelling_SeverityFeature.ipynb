{
 "cells": [
  {
   "cell_type": "markdown",
   "metadata": {},
   "source": [
    "##  <u> *Data Modelling*  </u>"
   ]
  },
  {
   "cell_type": "code",
   "execution_count": null,
   "metadata": {
    "slideshow": {
     "slide_type": "fragment"
    }
   },
   "outputs": [],
   "source": [
    "%run 3_EDA.ipynb"
   ]
  },
  {
   "cell_type": "markdown",
   "metadata": {},
   "source": [
    "---"
   ]
  },
  {
   "cell_type": "markdown",
   "metadata": {},
   "source": [
    "### <u>*Regression Modelling for severity as a Target Features*</u>\n"
   ]
  },
  {
   "cell_type": "code",
   "execution_count": 3,
   "metadata": {},
   "outputs": [],
   "source": [
    "from sklearn.compose import ColumnTransformer\n",
    "from sklearn.pipeline import Pipeline\n",
    "from sklearn.impute import SimpleImputer\n",
    "from sklearn.preprocessing import OneHotEncoder,StandardScaler\n",
    "from sklearn.model_selection import train_test_split\n",
    "from sklearn.ensemble import RandomForestRegressor,AdaBoostRegressor\n",
    "from sklearn.metrics import mean_absolute_error,mean_squared_error, r2_score\n",
    "from sklearn.svm import SVR\n",
    "from sklearn.linear_model import LinearRegression, Ridge,Lasso\n",
    "from sklearn.model_selection import RandomizedSearchCV\n",
    "from sklearn.neighbors import KNeighborsRegressor\n",
    "from sklearn.tree import DecisionTreeRegressor\n",
    "from catboost import CatBoostRegressor\n",
    "from xgboost import XGBRegressor,XGBRFRegressor\n",
    "import warnings\n",
    "from catboost import CatBoostRegressor\n",
    "from sklearn.ensemble import (\n",
    "    AdaBoostRegressor,\n",
    "    GradientBoostingRegressor,\n",
    "    RandomForestRegressor,\n",
    ")\n",
    "\n",
    "from sklearn.linear_model import LinearRegression\n",
    "from sklearn.metrics import r2_score\n",
    "from sklearn.neighbors import KNeighborsRegressor\n",
    "from sklearn.tree import DecisionTreeRegressor\n",
    "from xgboost import XGBRegressor\n",
    "from hyperopt import fmin,tpe,STATUS_OK,Trials,hp\n"
   ]
  },
  {
   "cell_type": "markdown",
   "metadata": {},
   "source": [
    "---"
   ]
  },
  {
   "cell_type": "markdown",
   "metadata": {},
   "source": [
    "#### *B.1*<br> <u>*Basic Models Comparison :*</u>"
   ]
  },
  {
   "cell_type": "markdown",
   "metadata": {},
   "source": [
    "##### *B.1.1*<br> <u>*Models :*</u>"
   ]
  },
  {
   "cell_type": "code",
   "execution_count": 4,
   "metadata": {},
   "outputs": [],
   "source": [
    "models = {\n",
    "                \"Random Forest\": RandomForestRegressor(random_state=41),\n",
    "                \"Decision Tree\": DecisionTreeRegressor(random_state=41),\n",
    "                \"Gradient Boosting\": GradientBoostingRegressor(random_state=41),\n",
    "                \"XGBRFRegressor\":XGBRFRegressor(random_state=41),\n",
    "                \"CatBoosting Regressor\": CatBoostRegressor(verbose=False,random_state=41),\n",
    "                \"AdaBoost Regressor\": AdaBoostRegressor(random_state=41),\n",
    "            }"
   ]
  },
  {
   "cell_type": "markdown",
   "metadata": {},
   "source": [
    "##### *B.1.2*<br> <u>*Prepare Date :*</u>"
   ]
  },
  {
   "cell_type": "code",
   "execution_count": 5,
   "metadata": {},
   "outputs": [],
   "source": [
    "\n",
    "x_severity=df.drop(\"severity\",axis=1)\n",
    "y_severity=df[\"severity\"]\n",
    "\n",
    "xtrain_full,xtest_full, ytrain, ytest = train_test_split(x_severity, y_severity, train_size=0.8, test_size=0.2,random_state=0)\n",
    "\n",
    "numerical_cols = [col for col in xtrain_full.columns if xtrain_full[col].dtype in ['int64', 'float64']]\n",
    "categorical_cols =[col for col in xtrain_full.columns if  xtrain_full[col].dtype == \"object\"]\n",
    "\n",
    "my_cols = categorical_cols + numerical_cols\n",
    "xtrain = xtrain_full[my_cols].copy()\n",
    "xtest = xtest_full[my_cols].copy()\n",
    "\n",
    "numerical_transformer = Pipeline(steps=[\n",
    "    (\"scaler\",StandardScaler())\n",
    "    ])\n",
    "\n",
    "\n",
    "categorical_transformer = Pipeline(steps=[\n",
    "    ('onehot', OneHotEncoder(handle_unknown='ignore')),\n",
    "    (\"scaler\",StandardScaler(with_mean=False))\n",
    "    ])\n",
    "\n",
    "preprocessor = ColumnTransformer(\n",
    "    transformers=[\n",
    "        ('num', numerical_transformer, numerical_cols),\n",
    "        ('cat', categorical_transformer, categorical_cols)\n",
    "    ])"
   ]
  },
  {
   "cell_type": "markdown",
   "metadata": {},
   "source": [
    "##### *B.1.3*<br> <u>*Apply Models :*</u>"
   ]
  },
  {
   "cell_type": "code",
   "execution_count": 7,
   "metadata": {},
   "outputs": [
    {
     "name": "stdout",
     "output_type": "stream",
     "text": [
      "Random Forest\n",
      "Model performance for Training set\n",
      "- Root Mean Squared Error: 28.1504\n",
      "- Mean Absolute Error: 0.5953\n",
      "- R2 Score: 0.9992\n",
      "----------------------------------\n",
      "Model performance for Test set\n",
      "- Root Mean Squared Error: 127.6796\n",
      "- Mean Absolute Error: 2.7136\n",
      "- R2 Score: 0.9845\n",
      "===================================\n",
      "\n",
      "\n",
      "Decision Tree\n",
      "Model performance for Training set\n",
      "- Root Mean Squared Error: 0.0000\n",
      "- Mean Absolute Error: 0.0000\n",
      "- R2 Score: 1.0000\n",
      "----------------------------------\n",
      "Model performance for Test set\n",
      "- Root Mean Squared Error: 81.6631\n",
      "- Mean Absolute Error: 1.9854\n",
      "- R2 Score: 0.9936\n",
      "===================================\n",
      "\n",
      "\n",
      "Gradient Boosting\n",
      "Model performance for Training set\n",
      "- Root Mean Squared Error: 14.1260\n",
      "- Mean Absolute Error: 2.0642\n",
      "- R2 Score: 0.9998\n",
      "----------------------------------\n",
      "Model performance for Test set\n",
      "- Root Mean Squared Error: 82.9799\n",
      "- Mean Absolute Error: 3.1708\n",
      "- R2 Score: 0.9934\n",
      "===================================\n",
      "\n",
      "\n",
      "XGBRFRegressor\n",
      "Model performance for Training set\n",
      "- Root Mean Squared Error: 32.5511\n",
      "- Mean Absolute Error: 4.3800\n",
      "- R2 Score: 0.9990\n",
      "----------------------------------\n",
      "Model performance for Test set\n",
      "- Root Mean Squared Error: 136.4175\n",
      "- Mean Absolute Error: 6.5462\n",
      "- R2 Score: 0.9823\n",
      "===================================\n",
      "\n",
      "\n",
      "CatBoosting Regressor\n",
      "Model performance for Training set\n",
      "- Root Mean Squared Error: 4.8302\n",
      "- Mean Absolute Error: 0.9714\n",
      "- R2 Score: 1.0000\n",
      "----------------------------------\n",
      "Model performance for Test set\n",
      "- Root Mean Squared Error: 204.5558\n",
      "- Mean Absolute Error: 4.4689\n",
      "- R2 Score: 0.9601\n",
      "===================================\n",
      "\n",
      "\n",
      "AdaBoost Regressor\n",
      "Model performance for Training set\n",
      "- Root Mean Squared Error: 226.6895\n",
      "- Mean Absolute Error: 200.9888\n",
      "- R2 Score: 0.9510\n",
      "----------------------------------\n",
      "Model performance for Test set\n",
      "- Root Mean Squared Error: 248.1904\n",
      "- Mean Absolute Error: 202.6976\n",
      "- R2 Score: 0.9413\n",
      "===================================\n",
      "\n",
      "\n"
     ]
    }
   ],
   "source": [
    "def evaluate_model(true, predicted):\n",
    "    mae = mean_absolute_error(true, predicted)\n",
    "    mse = mean_squared_error(true, predicted)\n",
    "    rmse = np.sqrt(mean_squared_error(true, predicted))\n",
    "    r2_square = r2_score(true, predicted)\n",
    "    return mae, rmse, r2_square\n",
    "\n",
    "\n",
    "model_list = []\n",
    "r2_list =[]\n",
    "mae_list=[]\n",
    "rmse_list=[]\n",
    "\n",
    "for i in range(len(list(models))):\n",
    "    model = list(models.values())[i]\n",
    "    model =my_pipeline = Pipeline(steps=[('preprocessor', preprocessor),\n",
    "                              ('melbourne_model', model)# or ('melbourne_model', RandomForestRegressor(random_state=0,n_estimators=50)) \n",
    "                             ])\n",
    "    model.fit(xtrain, ytrain) \n",
    "\n",
    "    y_train_pred = model.predict(xtrain)\n",
    "    y_test_pred = model.predict(xtest)\n",
    "\n",
    "    model_train_mae , model_train_rmse, model_train_r2 = evaluate_model(ytrain, y_train_pred)\n",
    "    model_test_mae , model_test_rmse, model_test_r2 = evaluate_model(ytest, y_test_pred)\n",
    "\n",
    "    print(list(models.keys())[i])\n",
    "    model_list.append(list(models.keys())[i])\n",
    "    \n",
    "    print('Model performance for Training set')\n",
    "    print(\"- Root Mean Squared Error: {:.4f}\".format(model_train_rmse))\n",
    "    print(\"- Mean Absolute Error: {:.4f}\".format(model_train_mae))\n",
    "    print(\"- R2 Score: {:.4f}\".format(model_train_r2))\n",
    "\n",
    "    print('----------------------------------')\n",
    "    \n",
    "    print('Model performance for Test set')\n",
    "    print(\"- Root Mean Squared Error: {:.4f}\".format(model_test_rmse))\n",
    "    print(\"- Mean Absolute Error: {:.4f}\".format(model_test_mae))\n",
    "    print(\"- R2 Score: {:.4f}\".format(model_test_r2))\n",
    "    r2_list.append(model_test_r2)\n",
    "    rmse_list.append(model_test_rmse)\n",
    "    mae_list.append(model_test_mae)\n",
    "    \n",
    "    print('='*35)\n",
    "    print('\\n')\n",
    "\n"
   ]
  },
  {
   "cell_type": "markdown",
   "metadata": {},
   "source": [
    "##### *B.1.4*<br> <u>*Best Model :*</u>"
   ]
  },
  {
   "cell_type": "code",
   "execution_count": 8,
   "metadata": {},
   "outputs": [
    {
     "data": {
      "text/html": [
       "<div>\n",
       "<style scoped>\n",
       "    .dataframe tbody tr th:only-of-type {\n",
       "        vertical-align: middle;\n",
       "    }\n",
       "\n",
       "    .dataframe tbody tr th {\n",
       "        vertical-align: top;\n",
       "    }\n",
       "\n",
       "    .dataframe thead th {\n",
       "        text-align: right;\n",
       "    }\n",
       "</style>\n",
       "<table border=\"1\" class=\"dataframe\">\n",
       "  <thead>\n",
       "    <tr style=\"text-align: right;\">\n",
       "      <th></th>\n",
       "      <th>Model Name</th>\n",
       "      <th>rmse_Score</th>\n",
       "      <th>mae_Score</th>\n",
       "      <th>r2_Score</th>\n",
       "    </tr>\n",
       "  </thead>\n",
       "  <tbody>\n",
       "    <tr>\n",
       "      <th>1</th>\n",
       "      <td>Decision Tree</td>\n",
       "      <td>81.663051</td>\n",
       "      <td>1.985411</td>\n",
       "      <td>0.993640</td>\n",
       "    </tr>\n",
       "    <tr>\n",
       "      <th>0</th>\n",
       "      <td>Random Forest</td>\n",
       "      <td>127.679613</td>\n",
       "      <td>2.713639</td>\n",
       "      <td>0.984454</td>\n",
       "    </tr>\n",
       "    <tr>\n",
       "      <th>2</th>\n",
       "      <td>Gradient Boosting</td>\n",
       "      <td>82.979904</td>\n",
       "      <td>3.170842</td>\n",
       "      <td>0.993434</td>\n",
       "    </tr>\n",
       "    <tr>\n",
       "      <th>4</th>\n",
       "      <td>CatBoosting Regressor</td>\n",
       "      <td>204.555801</td>\n",
       "      <td>4.468886</td>\n",
       "      <td>0.960097</td>\n",
       "    </tr>\n",
       "    <tr>\n",
       "      <th>3</th>\n",
       "      <td>XGBRFRegressor</td>\n",
       "      <td>136.417456</td>\n",
       "      <td>6.546190</td>\n",
       "      <td>0.982253</td>\n",
       "    </tr>\n",
       "    <tr>\n",
       "      <th>5</th>\n",
       "      <td>AdaBoost Regressor</td>\n",
       "      <td>248.190359</td>\n",
       "      <td>202.697564</td>\n",
       "      <td>0.941257</td>\n",
       "    </tr>\n",
       "  </tbody>\n",
       "</table>\n",
       "</div>"
      ],
      "text/plain": [
       "              Model Name  rmse_Score   mae_Score  r2_Score\n",
       "1          Decision Tree   81.663051    1.985411  0.993640\n",
       "0          Random Forest  127.679613    2.713639  0.984454\n",
       "2      Gradient Boosting   82.979904    3.170842  0.993434\n",
       "4  CatBoosting Regressor  204.555801    4.468886  0.960097\n",
       "3         XGBRFRegressor  136.417456    6.546190  0.982253\n",
       "5     AdaBoost Regressor  248.190359  202.697564  0.941257"
      ]
     },
     "execution_count": 8,
     "metadata": {},
     "output_type": "execute_result"
    }
   ],
   "source": [
    "pd.DataFrame(list(zip(model_list,rmse_list,mae_list,r2_list)), \n",
    "             columns=['Model Name', 'rmse_Score','mae_Score','r2_Score']).sort_values(by=[\"mae_Score\"],ascending=True)"
   ]
  },
  {
   "cell_type": "markdown",
   "metadata": {},
   "source": [
    "##### *B.1.5*<br> <u>*Apply Best Model :*</u>"
   ]
  },
  {
   "cell_type": "code",
   "execution_count": 9,
   "metadata": {},
   "outputs": [
    {
     "name": "stdout",
     "output_type": "stream",
     "text": [
      "MAE: 2.1356469201296786\n",
      " Accuracy of the model is 99.27\n"
     ]
    }
   ],
   "source": [
    "DecisionTreeRegressor_model = DecisionTreeRegressor()\n",
    "my_pipeline = Pipeline(steps=[('preprocessor', preprocessor),\n",
    "                              ('melbourne_model', DecisionTreeRegressor_model)# or ('melbourne_model', RandomForestRegressor(random_state=0,n_estimators=50)) \n",
    "                             ])\n",
    "my_pipeline.fit(xtrain, ytrain)\n",
    "preds = my_pipeline.predict(xtest)\n",
    "score = mean_absolute_error(ytest, preds)\n",
    "print('MAE:', score)\n",
    "score = r2_score(ytest, preds)*100\n",
    "print(\" Accuracy of the model is %.2f\" %score)"
   ]
  },
  {
   "cell_type": "markdown",
   "metadata": {},
   "source": [
    "##### *B.1.6*<br> <u>*Visualize Best Model :*</u>"
   ]
  },
  {
   "cell_type": "code",
   "execution_count": 10,
   "metadata": {},
   "outputs": [
    {
     "data": {
      "image/png": "[encoded data removed]",
      "text/plain": [
       "<Figure size 2000x1000 with 2 Axes>"
      ]
     },
     "metadata": {},
     "output_type": "display_data"
    }
   ],
   "source": [
    "plt.subplot(221)\n",
    "plt.scatter(ytest,preds);\n",
    "\n",
    "plt.xlabel('Actual');\n",
    "plt.ylabel('Severity');\n",
    "\n",
    "plt.subplot(222)\n",
    "sns.regplot(x=ytest,y=preds,ci=None,color ='red');"
   ]
  },
  {
   "cell_type": "markdown",
   "metadata": {},
   "source": [
    "---"
   ]
  },
  {
   "cell_type": "markdown",
   "metadata": {},
   "source": [
    "#### *B.2*<br> <u>*Hyperopt Models Comparison :*</u>"
   ]
  },
  {
   "cell_type": "markdown",
   "metadata": {},
   "source": [
    "##### *B.2.1*<br> <u>*Create Spaces for each model :*</u>"
   ]
  },
  {
   "cell_type": "code",
   "execution_count": 11,
   "metadata": {},
   "outputs": [],
   "source": [
    "space_rf = {\n",
    "    'n_estimators': hp.choice('n_estimators', range(10, 200)),\n",
    "    'max_depth': hp.choice('max_depth', range(1, 20)),\n",
    "    'criterion': hp.choice('criterion', ['gini', 'entropy'])\n",
    "    }\n",
    "\n",
    "space_SVR = {\n",
    "    'C': hp.loguniform('C', -5, 2), \n",
    "    'epsilon': hp.loguniform('epsilon', -3, 0), \n",
    "    'kernel': hp.choice('kernel', ['linear', 'rbf']) \n",
    "\n",
    "}\n",
    "\n",
    "space_dt = {\n",
    "    'max_depth': hp.choice('max_depth', range(1, 20)),\n",
    "    'criterion': hp.choice('criterion', ['gini', 'entropy'])\n",
    "    }\n",
    "\n",
    "space_XGBRFRegressor = {\n",
    "  'colsample_bynode': hp.uniform(\"colsample_bynode\", 0.5,1), \n",
    "  \"learning_rate\": hp.uniform(\"learning_rate\", 0, 1),\n",
    "  'max_depth': hp.choice(\"max_depth\", np.arange(1,20,1)),\n",
    "  \"num_parallel_tree\": 100,\n",
    "  \"subsample\": hp.uniform(\"subsample\", 0.5,1)\n",
    "}\n",
    "\n",
    "space_catboost = {\n",
    "    'learning_rate': hp.uniform('learning_rate', 0.01, 0.2),\n",
    "    'depth': hp.choice('depth', range(1, 12)),\n",
    "    'iterations': hp.choice('iterations', range(50, 200)),\n",
    "}\n",
    "\n",
    "space_adaboost = {\n",
    "    'n_estimators': hp.choice('n_estimators', range(50, 200)),\n",
    "    'learning_rate': hp.uniform('learning_rate', 0.01, 1.0),\n",
    "}\n",
    "\n",
    "space_gradientboost = {\n",
    "    'n_estimators': hp.choice('n_estimators', range(50, 200)),\n",
    "    'learning_rate': hp.uniform('learning_rate', 0.01, 0.2),\n",
    "    'max_depth': hp.choice('max_depth', range(1, 12)),\n",
    "}"
   ]
  },
  {
   "cell_type": "markdown",
   "metadata": {},
   "source": [
    "##### *B.2.2*<br> <u>*Apply hyperopt :*</u>"
   ]
  },
  {
   "cell_type": "code",
   "execution_count": 12,
   "metadata": {},
   "outputs": [],
   "source": [
    "def model_catboost(space_catboost):\n",
    "    model_opt = Pipeline(\n",
    "        steps=[\n",
    "            ('preprocessor', preprocessor),\n",
    "            (\"CatBoostRegressor\",CatBoostRegressor(\n",
    "                                    learning_rate=float(space_catboost['learning_rate']),\n",
    "                                    depth=int(space_catboost[\"depth\"]),                                                       \n",
    "                                    iterations=int(space_catboost['iterations'])\n",
    "                                    ))\n",
    "\n",
    "                                    ])\n",
    "                                              \n",
    "                                  \n",
    "    model_opt.fit(xtrain,ytrain)\n",
    "    mae_scores =[]\n",
    "    mae=mean_absolute_error(ytest,model_opt.predict(xtest))\n",
    "    mae_scores.append(mae)                         \n",
    "    mean_mae=np.mean(mae_scores)                          \n",
    "    return { \n",
    "           'loss': mean_mae,\n",
    "           'status': STATUS_OK\n",
    "            } \n",
    "\n",
    "#####################################################################\n",
    "\n",
    "def model_rf(space_rf):\n",
    "    model_opt = Pipeline(\n",
    "        steps=[\n",
    "            ('preprocessor', preprocessor),\n",
    "            (\"RandomForestRegressor\",RandomForestRegressor(\n",
    "                                    n_estimators=int(space_rf['n_estimators']),\n",
    "                                    max_depth=int(space_rf[\"max_depth\"])                                                       \n",
    "                                    #criterion=str(space_rf['criterion'])\n",
    "                                    ))\n",
    "\n",
    "                                    ])\n",
    "                                              \n",
    "                                  \n",
    "    model_opt.fit(xtrain,ytrain)\n",
    "    mae_scores =[]\n",
    "    mae=mean_absolute_error(ytest,model_opt.predict(xtest))\n",
    "    mae_scores.append(mae)                         \n",
    "    mean_mae=np.mean(mae_scores)                          \n",
    "    return { \n",
    "           'loss': mean_mae,\n",
    "           'status': STATUS_OK\n",
    "            }   \n",
    "\n",
    "\n",
    "#####################################################################\n",
    "\n",
    "def model_gboost(space_gradientboost):\n",
    "    model_opt = Pipeline(\n",
    "        steps=[\n",
    "            ('preprocessor', preprocessor),\n",
    "            (\"GradientBoostingRegressor\",GradientBoostingRegressor(\n",
    "                                    n_estimators=int(space_gradientboost['n_estimators']),\n",
    "                                    learning_rate=float(space_gradientboost[\"learning_rate\"]),                                           \n",
    "                                    max_depth=int(space_gradientboost['max_depth'])\n",
    "                                    ))\n",
    "\n",
    "                                    ])\n",
    "\n",
    "                                  \n",
    "    model_opt.fit(xtrain,ytrain)\n",
    "    mae_scores =[]\n",
    "    mae=mean_absolute_error(ytest,model_opt.predict(xtest))\n",
    "    mae_scores.append(mae)                         \n",
    "    mean_mae=np.mean(mae_scores)                          \n",
    "    return { \n",
    "           'loss': mean_mae,\n",
    "           'status': STATUS_OK\n",
    "            } \n",
    "\n",
    "#####################################################################\n",
    "\n",
    "def model_XGBRFRegressor(space_XGBRFRegressor):\n",
    "    model_opt = Pipeline(\n",
    "        steps=[\n",
    "            ('preprocessor', preprocessor),\n",
    "            (\"XGBRFRegressor\",XGBRFRegressor(\n",
    "                                    colsample_bynode=float(space_XGBRFRegressor['colsample_bynode']),\n",
    "                                    learning_rate=float(space_XGBRFRegressor[\"learning_rate\"]),                                           \n",
    "                                    max_depth=int(space_XGBRFRegressor['max_depth']),\n",
    "                                    num_parallel_tree=int(space_XGBRFRegressor['num_parallel_tree']),\n",
    "                                    subsample=float(space_XGBRFRegressor['subsample'])\n",
    "                                    ))\n",
    "\n",
    "                                    ])\n",
    "\n",
    "                                  \n",
    "    model_opt.fit(xtrain,ytrain)\n",
    "    mae_scores =[]\n",
    "    mae=mean_absolute_error(ytest,model_opt.predict(xtest))\n",
    "    mae_scores.append(mae)                         \n",
    "    mean_mae=np.mean(mae_scores)                          \n",
    "    return { \n",
    "           'loss': mean_mae,\n",
    "           'status': STATUS_OK\n",
    "            }       \n",
    "\n",
    "#####################################################################\n",
    "\n",
    "def model_adaboost(space_adaboost):\n",
    "    model_opt = Pipeline(\n",
    "        steps=[\n",
    "            ('preprocessor', preprocessor),\n",
    "            (\"AdaBoostRegressor\",AdaBoostRegressor(\n",
    "                                    n_estimators=int(space_adaboost['n_estimators']),\n",
    "                                    learning_rate=float(space_adaboost[\"learning_rate\"])\n",
    "                                    ))\n",
    "\n",
    "                                    ])\n",
    "\n",
    "                                  \n",
    "    model_opt.fit(xtrain,ytrain)\n",
    "    mae_scores =[]\n",
    "    mae=mean_absolute_error(ytest,model_opt.predict(xtest))\n",
    "    mae_scores.append(mae)                         \n",
    "    mean_mae=np.mean(mae_scores)                          \n",
    "    return { \n",
    "           'loss': mean_mae,\n",
    "           'status': STATUS_OK\n",
    "            } "
   ]
  },
  {
   "cell_type": "code",
   "execution_count": null,
   "metadata": {},
   "outputs": [],
   "source": [
    "best_model_catboost = fmin(fn=model_catboost, space=space_catboost, algo=tpe.suggest, max_evals=50)\n",
    "best_model_rf = fmin(fn=model_rf, space=space_rf, algo=tpe.suggest, max_evals=50)\n",
    "best_model_gboost = fmin(fn=model_gboost, space=space_gradientboost, algo=tpe.suggest, max_evals=50)\n",
    "best_model_XGBRFRegressor = fmin(fn=model_XGBRFRegressor, space=space_XGBRFRegressor, algo=tpe.suggest, max_evals=50)\n",
    "best_model_adaboost = fmin(fn=model_adaboost, space=space_adaboost, algo=tpe.suggest, max_evals=50)"
   ]
  },
  {
   "cell_type": "markdown",
   "metadata": {},
   "source": [
    "##### *B.2.3*<br> <u>*hyperopt best params:*</u>"
   ]
  },
  {
   "cell_type": "code",
   "execution_count": 15,
   "metadata": {},
   "outputs": [
    {
     "name": "stdout",
     "output_type": "stream",
     "text": [
      "best_model_catboost {'depth': 6, 'iterations': 104, 'learning_rate': 0.17246090855714713}\n",
      "best_model_rf {'criterion': 1, 'max_depth': 17, 'n_estimators': 18}\n",
      "best_model_gboost {'learning_rate': 0.08243748499575798, 'max_depth': 5, 'n_estimators': 49}\n",
      "best_model_XGBRFRegressor {'colsample_bynode': 0.8208525636156797, 'learning_rate': 0.994971913175845, 'max_depth': 10, 'subsample': 0.8863354292267782}\n",
      "best_model_adaboost {'learning_rate': 0.010461199408414473, 'n_estimators': 6}\n"
     ]
    }
   ],
   "source": [
    "print(\"best_model_catboost\",best_model_catboost)\n",
    "print(\"best_model_rf\",best_model_rf)\n",
    "print(\"best_model_gboost\",best_model_gboost)\n",
    "print(\"best_model_XGBRFRegressor\",best_model_XGBRFRegressor)\n",
    "print(\"best_model_adaboost\",best_model_adaboost)"
   ]
  },
  {
   "cell_type": "markdown",
   "metadata": {},
   "source": [
    "##### *B.2.4*<br> <u>*Apply hyperopt best params:*</u>"
   ]
  },
  {
   "cell_type": "code",
   "execution_count": 16,
   "metadata": {},
   "outputs": [],
   "source": [
    "def model_catboost_best(best_model_catboost ):\n",
    "    y_CatBoostRegressor_best=[]\n",
    "    model_opt_best = Pipeline(\n",
    "        steps=[\n",
    "            ('preprocessor', preprocessor),\n",
    "            (\"CatBoostRegressor\",CatBoostRegressor(\n",
    "                                    learning_rate=float(best_model_catboost ['learning_rate']),\n",
    "                                    depth=int(best_model_catboost [\"depth\"]),                                                       \n",
    "                                    iterations=int(best_model_catboost ['iterations'])\n",
    "                                    ))\n",
    "\n",
    "                                    ]).fit(xtrain,ytrain)  \n",
    "    \n",
    "    y_pred = model_opt_best.predict(xtest)\n",
    "    y_CatBoostRegressor_best.append(y_pred)\n",
    "\n",
    "    score = mean_absolute_error(ytest, y_pred)\n",
    "    print('model_catboost_best MAE:', score)\n",
    "    score = r2_score(ytest, y_pred)*100\n",
    "    print(\" Accuracy of the model_catboost_best is %.2f\" %score)\n",
    "\n",
    "#####################################################################\n",
    "\n",
    "def model_rf_best(best_model_rf):\n",
    "    y_RandomForestRegressor_best=[]\n",
    "    model_opt_best = Pipeline(\n",
    "        steps=[\n",
    "            ('preprocessor', preprocessor),\n",
    "            (\"RandomForestRegressor\",RandomForestRegressor(\n",
    "                                    n_estimators=int(best_model_rf['n_estimators']),\n",
    "                                    max_depth=int(best_model_rf[\"max_depth\"])                                                       \n",
    "                                    #criterion=str(best_model_rf['criterion'])\n",
    "                                    ))\n",
    "\n",
    "                                    ]).fit(xtrain,ytrain)  \n",
    "    \n",
    "    y_pred = model_opt_best.predict(xtest)\n",
    "    y_RandomForestRegressor_best.append(y_pred)\n",
    "\n",
    "    score = mean_absolute_error(ytest, y_pred)\n",
    "    print('model_rf_best MAE:', score)\n",
    "    score = r2_score(ytest, y_pred)*100\n",
    "    print(\" Accuracy of the model_rf_best is %.2f\" %score) \n",
    "\n",
    "#####################################################################\n",
    "\n",
    "def model_gboost_best(best_model_gboost):\n",
    "    y_gboost_best=[]\n",
    "    model_opt_best = Pipeline(\n",
    "        steps=[\n",
    "            ('preprocessor', preprocessor),\n",
    "            (\"GradientBoostingRegressor\",GradientBoostingRegressor(\n",
    "                                    n_estimators=int(best_model_gboost['n_estimators']),\n",
    "                                    learning_rate=float(best_model_gboost[\"learning_rate\"]),                                           \n",
    "                                    max_depth=int(best_model_gboost['max_depth'])\n",
    "                                    ))\n",
    "\n",
    "                                    ]).fit(xtrain,ytrain)\n",
    "    y_pred = model_opt_best.predict(xtest)\n",
    "    y_gboost_best.append(y_pred)\n",
    "\n",
    "    score = mean_absolute_error(ytest, y_pred)\n",
    "    print('model_gboost_best MAE:', score)\n",
    "    score = r2_score(ytest, y_pred)*100\n",
    "    print(\" Accuracy of the model_gboost_best is %.2f\" %score)\n",
    "\n",
    "#####################################################################\n",
    "\n",
    "def model_XGBRFRegressor_best(best_model_XGBRFRegressor):\n",
    "    y_XGBRFRegressor_best=[]\n",
    "    model_opt_best = Pipeline(\n",
    "        steps=[\n",
    "            ('preprocessor', preprocessor),\n",
    "            (\"XGBRFRegressor\",XGBRFRegressor(\n",
    "                                    colsample_bynode=float(best_model_XGBRFRegressor['colsample_bynode']),\n",
    "                                    learning_rate=float(best_model_XGBRFRegressor[\"learning_rate\"]),                                           \n",
    "                                    max_depth=int(best_model_XGBRFRegressor['max_depth']),\n",
    "                                    # num_parallel_tree=int(best_model_XGBRFRegressor['num_parallel_tree']),\n",
    "                                    subsample=float(best_model_XGBRFRegressor['subsample'])\n",
    "                                    ))\n",
    "\n",
    "                                    ]).fit(xtrain,ytrain)\n",
    "    \n",
    "    y_pred = model_opt_best.predict(xtest)\n",
    "    y_XGBRFRegressor_best.append(y_pred)\n",
    "\n",
    "    score = mean_absolute_error(ytest, y_pred)\n",
    "    print('model_XGBRFRegressor_best MAE:', score)\n",
    "    score = r2_score(ytest, y_pred)*100\n",
    "    print(\" Accuracy of the model_XGBRFRegressor_best is %.2f\" %score)\n",
    "\n",
    "#####################################################################\n",
    "\n",
    "def model_adaboost_best(best_model_adaboost):\n",
    "    y_adaboost_best=[]\n",
    "    model_opt_best = Pipeline(\n",
    "        steps=[\n",
    "            ('preprocessor', preprocessor),\n",
    "            (\"AdaBoostRegressor\",AdaBoostRegressor(\n",
    "                                    n_estimators=int(best_model_adaboost['n_estimators']),\n",
    "                                    learning_rate=float(best_model_adaboost[\"learning_rate\"])\n",
    "                                    ))\n",
    "\n",
    "                                    ]).fit(xtrain,ytrain)\n",
    "    \n",
    "    y_pred = model_opt_best.predict(xtest)\n",
    "    y_adaboost_best.append(y_pred)\n",
    "\n",
    "    score = mean_absolute_error(ytest, y_pred)\n",
    "    print('model_adaboost_best MAE:', score)\n",
    "    score = r2_score(ytest, y_pred)*100\n",
    "    print(\" Accuracy of the model_adaboost_best is %.2f\" %score)"
   ]
  },
  {
   "cell_type": "markdown",
   "metadata": {},
   "source": [
    "##### *B.2.5*<br> <u>*Determine the best model and hyperopt best params:*</u>"
   ]
  },
  {
   "cell_type": "code",
   "execution_count": null,
   "metadata": {},
   "outputs": [],
   "source": [
    "\n",
    "model_catboost_best(best_model_catboost)"
   ]
  },
  {
   "cell_type": "code",
   "execution_count": 18,
   "metadata": {},
   "outputs": [
    {
     "name": "stdout",
     "output_type": "stream",
     "text": [
      "model_rf_best MAE: 3.0755436028424548\n",
      " Accuracy of the model_rf_best is 98.06\n"
     ]
    }
   ],
   "source": [
    "model_rf_best(best_model_rf)"
   ]
  },
  {
   "cell_type": "code",
   "execution_count": 19,
   "metadata": {},
   "outputs": [
    {
     "name": "stdout",
     "output_type": "stream",
     "text": [
      "model_gboost_best MAE: 5.0819603521436445\n",
      " Accuracy of the model_gboost_best is 99.02\n"
     ]
    }
   ],
   "source": [
    "model_gboost_best(best_model_gboost)\n"
   ]
  },
  {
   "cell_type": "code",
   "execution_count": 20,
   "metadata": {},
   "outputs": [
    {
     "name": "stdout",
     "output_type": "stream",
     "text": [
      "model_XGBRFRegressor_best MAE: 2.7811341648239964\n",
      " Accuracy of the model_XGBRFRegressor_best is 98.77\n"
     ]
    }
   ],
   "source": [
    "model_XGBRFRegressor_best(best_model_XGBRFRegressor)\n"
   ]
  },
  {
   "cell_type": "code",
   "execution_count": 21,
   "metadata": {},
   "outputs": [
    {
     "name": "stdout",
     "output_type": "stream",
     "text": [
      "model_adaboost_best MAE: 33.53274670670324\n",
      " Accuracy of the model_adaboost_best is 91.52\n"
     ]
    }
   ],
   "source": [
    "model_adaboost_best(best_model_adaboost)"
   ]
  },
  {
   "cell_type": "code",
   "execution_count": 22,
   "metadata": {},
   "outputs": [
    {
     "name": "stdout",
     "output_type": "stream",
     "text": [
      "model_XGBRFRegressor_best(best_model_XGBRFRegressor) ,has the lowest mae with 105.00095882582306 with the best parameters:\n",
      " {'colsample_bynode': 0.8208525636156797, 'learning_rate': 0.994971913175845, 'max_depth': 10, 'subsample': 0.8863354292267782}\n"
     ]
    }
   ],
   "source": [
    "print(f\"model_XGBRFRegressor_best(best_model_XGBRFRegressor) ,has the lowest mae with 105.00095882582306 with the best parameters:\\n {best_model_XGBRFRegressor}\" )"
   ]
  },
  {
   "cell_type": "code",
   "execution_count": 6,
   "metadata": {},
   "outputs": [
    {
     "name": "stdout",
     "output_type": "stream",
     "text": [
      "MAE: 2.7811341648239964\n",
      " Accuracy of the model is 98.77\n"
     ]
    }
   ],
   "source": [
    "XGBRFRegressor_model = XGBRFRegressor()\n",
    "my_pipeline = Pipeline(steps=[('preprocessor', preprocessor),\n",
    "                              ('XGBRFRegressor_model', XGBRFRegressor(\n",
    "                                    colsample_bynode=0.8208525636156797,\n",
    "                                    learning_rate=0.994971913175845,                                           \n",
    "                                    max_depth=10,\n",
    "                                    # num_parallel_tree=int(best_model_XGBRFRegressor['num_parallel_tree']),\n",
    "                                    subsample=0.8863354292267782))\n",
    "                                    ])\n",
    "\n",
    "my_pipeline.fit(xtrain, ytrain)\n",
    "preds = my_pipeline.predict(xtest)\n",
    "score = mean_absolute_error(ytest, preds)\n",
    "print('MAE:', score)\n",
    "score = r2_score(ytest, preds)*100\n",
    "print(\" Accuracy of the model is %.2f\" %score)"
   ]
  },
  {
   "cell_type": "code",
   "execution_count": 7,
   "metadata": {},
   "outputs": [
    {
     "data": {
      "image/png": "[encoded data removed]",
      "text/plain": [
       "<Figure size 2000x1000 with 2 Axes>"
      ]
     },
     "metadata": {},
     "output_type": "display_data"
    }
   ],
   "source": [
    "plt.subplot(221)\n",
    "plt.scatter(ytest,preds);\n",
    "\n",
    "plt.xlabel('Actual');\n",
    "plt.ylabel('Severity');\n",
    "\n",
    "plt.subplot(222)\n",
    "sns.regplot(x=ytest,y=preds,ci=None,color ='red');"
   ]
  },
  {
   "cell_type": "markdown",
   "metadata": {},
   "source": [
    "---"
   ]
  }
 ],
 "metadata": {
  "kernelspec": {
   "display_name": "Python 3",
   "language": "python",
   "name": "python3"
  },
  "language_info": {
   "codemirror_mode": {
    "name": "ipython",
    "version": 3
   },
   "file_extension": ".py",
   "mimetype": "text/x-python",
   "name": "python",
   "nbconvert_exporter": "python",
   "pygments_lexer": "ipython3",
   "version": "3.11.4"
  }
 },
 "nbformat": 4,
 "nbformat_minor": 2
}
