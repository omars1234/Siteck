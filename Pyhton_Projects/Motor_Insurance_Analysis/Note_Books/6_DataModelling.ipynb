{
 "cells": [
  {
   "cell_type": "markdown",
   "metadata": {},
   "source": [
    "##  <u> ***Data Modelling***  </u>"
   ]
  },
  {
   "cell_type": "code",
   "execution_count": null,
   "metadata": {},
   "outputs": [],
   "source": [
    "%run 2_DataCleaning&Preperations.ipynb"
   ]
  },
  {
   "cell_type": "markdown",
   "metadata": {},
   "source": [
    "* #### *Import Needed Libraries :*"
   ]
  },
  {
   "cell_type": "code",
   "execution_count": 74,
   "metadata": {},
   "outputs": [],
   "source": [
    "from sklearn.compose import ColumnTransformer\n",
    "from sklearn.pipeline import Pipeline\n",
    "from sklearn.impute import SimpleImputer\n",
    "from sklearn.preprocessing import OneHotEncoder\n",
    "from sklearn.model_selection import train_test_split\n",
    "from sklearn.ensemble import RandomForestRegressor,AdaBoostRegressor\n",
    "from sklearn.metrics import mean_absolute_error,mean_squared_error, r2_score\n",
    "from sklearn.svm import SVR\n",
    "from sklearn.linear_model import LinearRegression, Ridge,Lasso\n",
    "from sklearn.model_selection import RandomizedSearchCV\n",
    "from sklearn.neighbors import KNeighborsRegressor\n",
    "from sklearn.tree import DecisionTreeRegressor\n",
    "from catboost import CatBoostRegressor\n",
    "from xgboost import XGBRegressor,XGBRFRegressor\n",
    "import warnings\n",
    "from catboost import CatBoostRegressor\n",
    "from sklearn.ensemble import (\n",
    "    AdaBoostRegressor,\n",
    "    GradientBoostingRegressor,\n",
    "    RandomForestRegressor,\n",
    ")\n",
    "\n",
    "from sklearn.linear_model import LinearRegression\n",
    "from sklearn.metrics import r2_score\n",
    "from sklearn.neighbors import KNeighborsRegressor\n",
    "from sklearn.tree import DecisionTreeRegressor\n",
    "from xgboost import XGBRegressor\n",
    "from hyperopt import fmin,tpe,STATUS_OK,Trials,hp\n"
   ]
  },
  {
   "cell_type": "markdown",
   "metadata": {},
   "source": [
    "---"
   ]
  },
  {
   "cell_type": "markdown",
   "metadata": {},
   "source": [
    "### ***A.*** <u>***Frequency as a Target Feature :***</u>"
   ]
  },
  {
   "cell_type": "markdown",
   "metadata": {},
   "source": [
    "#### ***A.1***<br> <u>***Basic Models Comparison :***</u>"
   ]
  },
  {
   "cell_type": "markdown",
   "metadata": {},
   "source": [
    "##### ***A.1.1***<br> <u>***Models :***</u>"
   ]
  },
  {
   "cell_type": "code",
   "execution_count": 81,
   "metadata": {},
   "outputs": [],
   "source": [
    "models = {\n",
    "                \"Random Forest\": RandomForestRegressor(),\n",
    "                \"Decision Tree\": DecisionTreeRegressor(),\n",
    "                \"Gradient Boosting\": GradientBoostingRegressor(),\n",
    "                \"XGBRFRegressor\":XGBRFRegressor(),\n",
    "                \"CatBoosting Regressor\": CatBoostRegressor(verbose=False),\n",
    "                \"AdaBoost Regressor\": AdaBoostRegressor(),\n",
    "            }"
   ]
  },
  {
   "cell_type": "markdown",
   "metadata": {},
   "source": [
    "##### ***A.1.2***<br> <u>***Prepare Date :***</u>"
   ]
  },
  {
   "cell_type": "code",
   "execution_count": 75,
   "metadata": {},
   "outputs": [],
   "source": [
    "x_frequincy=df.drop(\"frequincy\",axis=1)\n",
    "y_frequincy=df[\"frequincy\"]\n",
    "\n",
    "xtrain_full,xtest_full, ytrain, ytest = train_test_split(x_frequincy, y_frequincy, train_size=0.8, test_size=0.2,random_state=0)\n",
    "\n",
    "numerical_cols = [col for col in xtrain_full.columns if xtrain_full[col].dtype in ['int64', 'float64']]\n",
    "categorical_cols =[col for col in xtrain_full.columns if  xtrain_full[col].dtype == \"object\"]\n",
    "\n",
    "my_cols = categorical_cols + numerical_cols\n",
    "xtrain = xtrain_full[my_cols].copy()\n",
    "xtest = xtest_full[my_cols].copy()\n",
    "\n",
    "categorical_transformer = Pipeline(steps=[#('imputer', SimpleImputer(strategy='most_frequent')),\n",
    "                                          ('onehot', OneHotEncoder(handle_unknown='ignore'))])\n",
    "\n",
    "preprocessor = ColumnTransformer(\n",
    "    transformers=[\n",
    "        #('num', numerical_transformer, numerical_cols),\n",
    "        ('cat', categorical_transformer, categorical_cols)\n",
    "    ])"
   ]
  },
  {
   "cell_type": "markdown",
   "metadata": {},
   "source": [
    "##### ***A.1.3***<br> <u>***Apply Models :***</u>"
   ]
  },
  {
   "cell_type": "code",
   "execution_count": 76,
   "metadata": {},
   "outputs": [
    {
     "name": "stdout",
     "output_type": "stream",
     "text": [
      "Random Forest\n",
      "Model performance for Training set\n",
      "- Root Mean Squared Error: 2.3573\n",
      "- Mean Absolute Error: 0.1488\n",
      "- R2 Score: 0.4247\n",
      "----------------------------------\n",
      "Model performance for Test set\n",
      "- Root Mean Squared Error: 2.4961\n",
      "- Mean Absolute Error: 0.1601\n",
      "- R2 Score: -1.1917\n",
      "===================================\n",
      "\n",
      "\n",
      "Decision Tree\n",
      "Model performance for Training set\n",
      "- Root Mean Squared Error: 2.2392\n",
      "- Mean Absolute Error: 0.1340\n",
      "- R2 Score: 0.4809\n",
      "----------------------------------\n",
      "Model performance for Test set\n",
      "- Root Mean Squared Error: 3.4848\n",
      "- Mean Absolute Error: 0.1693\n",
      "- R2 Score: -3.2719\n",
      "===================================\n",
      "\n",
      "\n",
      "Gradient Boosting\n",
      "Model performance for Training set\n",
      "- Root Mean Squared Error: 2.9650\n",
      "- Mean Absolute Error: 0.1886\n",
      "- R2 Score: 0.0898\n",
      "----------------------------------\n",
      "Model performance for Test set\n",
      "- Root Mean Squared Error: 1.5435\n",
      "- Mean Absolute Error: 0.1616\n",
      "- R2 Score: 0.1619\n",
      "===================================\n",
      "\n",
      "\n",
      "XGBRFRegressor\n",
      "Model performance for Training set\n",
      "- Root Mean Squared Error: 2.4229\n",
      "- Mean Absolute Error: 0.1638\n",
      "- R2 Score: 0.3922\n",
      "----------------------------------\n",
      "Model performance for Test set\n",
      "- Root Mean Squared Error: 2.9280\n",
      "- Mean Absolute Error: 0.1627\n",
      "- R2 Score: -2.0158\n",
      "===================================\n",
      "\n",
      "\n",
      "CatBoosting Regressor\n",
      "Model performance for Training set\n",
      "- Root Mean Squared Error: 2.3190\n",
      "- Mean Absolute Error: 0.1663\n",
      "- R2 Score: 0.4432\n",
      "----------------------------------\n",
      "Model performance for Test set\n",
      "- Root Mean Squared Error: 3.2210\n",
      "- Mean Absolute Error: 0.1784\n",
      "- R2 Score: -2.6496\n",
      "===================================\n",
      "\n",
      "\n",
      "AdaBoost Regressor\n",
      "Model performance for Training set\n",
      "- Root Mean Squared Error: 3.9425\n",
      "- Mean Absolute Error: 0.5428\n",
      "- R2 Score: -0.6092\n",
      "----------------------------------\n",
      "Model performance for Test set\n",
      "- Root Mean Squared Error: 3.5527\n",
      "- Mean Absolute Error: 0.5147\n",
      "- R2 Score: -3.4401\n",
      "===================================\n",
      "\n",
      "\n"
     ]
    }
   ],
   "source": [
    "def evaluate_model(true, predicted):\n",
    "    mae = mean_absolute_error(true, predicted)\n",
    "    mse = mean_squared_error(true, predicted)\n",
    "    rmse = np.sqrt(mean_squared_error(true, predicted))\n",
    "    r2_square = r2_score(true, predicted)\n",
    "    return mae, rmse, r2_square\n",
    "\n",
    "\n",
    "model_list = []\n",
    "r2_list =[]\n",
    "mae_list=[]\n",
    "rmse_list=[]\n",
    "\n",
    "for i in range(len(list(models))):\n",
    "    model = list(models.values())[i]\n",
    "    model =my_pipeline = Pipeline(steps=[('preprocessor', preprocessor),\n",
    "                              ('melbourne_model', model)# or ('melbourne_model', RandomForestRegressor(random_state=0,n_estimators=50)) \n",
    "                             ])\n",
    "    model.fit(xtrain, ytrain) \n",
    "\n",
    "    y_train_pred = model.predict(xtrain)\n",
    "    y_test_pred = model.predict(xtest)\n",
    "\n",
    "    model_train_mae , model_train_rmse, model_train_r2 = evaluate_model(ytrain, y_train_pred)\n",
    "    model_test_mae , model_test_rmse, model_test_r2 = evaluate_model(ytest, y_test_pred)\n",
    "\n",
    "    print(list(models.keys())[i])\n",
    "    model_list.append(list(models.keys())[i])\n",
    "    \n",
    "    print('Model performance for Training set')\n",
    "    print(\"- Root Mean Squared Error: {:.4f}\".format(model_train_rmse))\n",
    "    print(\"- Mean Absolute Error: {:.4f}\".format(model_train_mae))\n",
    "    print(\"- R2 Score: {:.4f}\".format(model_train_r2))\n",
    "\n",
    "    print('----------------------------------')\n",
    "    \n",
    "    print('Model performance for Test set')\n",
    "    print(\"- Root Mean Squared Error: {:.4f}\".format(model_test_rmse))\n",
    "    print(\"- Mean Absolute Error: {:.4f}\".format(model_test_mae))\n",
    "    print(\"- R2 Score: {:.4f}\".format(model_test_r2))\n",
    "    r2_list.append(model_test_r2)\n",
    "    rmse_list.append(model_test_rmse)\n",
    "    mae_list.append(model_test_mae)\n",
    "    \n",
    "    print('='*35)\n",
    "    print('\\n')\n",
    "\n"
   ]
  },
  {
   "cell_type": "markdown",
   "metadata": {},
   "source": [
    "##### ***A.1.4***<br> <u>***Best Model :***</u>"
   ]
  },
  {
   "cell_type": "code",
   "execution_count": 77,
   "metadata": {},
   "outputs": [
    {
     "data": {
      "text/html": [
       "<div>\n",
       "<style scoped>\n",
       "    .dataframe tbody tr th:only-of-type {\n",
       "        vertical-align: middle;\n",
       "    }\n",
       "\n",
       "    .dataframe tbody tr th {\n",
       "        vertical-align: top;\n",
       "    }\n",
       "\n",
       "    .dataframe thead th {\n",
       "        text-align: right;\n",
       "    }\n",
       "</style>\n",
       "<table border=\"1\" class=\"dataframe\">\n",
       "  <thead>\n",
       "    <tr style=\"text-align: right;\">\n",
       "      <th></th>\n",
       "      <th>Model Name</th>\n",
       "      <th>rmse_Score</th>\n",
       "      <th>mae_Score</th>\n",
       "    </tr>\n",
       "  </thead>\n",
       "  <tbody>\n",
       "    <tr>\n",
       "      <th>0</th>\n",
       "      <td>Random Forest</td>\n",
       "      <td>2.496066</td>\n",
       "      <td>0.160073</td>\n",
       "    </tr>\n",
       "    <tr>\n",
       "      <th>2</th>\n",
       "      <td>Gradient Boosting</td>\n",
       "      <td>1.543545</td>\n",
       "      <td>0.161563</td>\n",
       "    </tr>\n",
       "    <tr>\n",
       "      <th>3</th>\n",
       "      <td>XGBRFRegressor</td>\n",
       "      <td>2.927967</td>\n",
       "      <td>0.162677</td>\n",
       "    </tr>\n",
       "    <tr>\n",
       "      <th>1</th>\n",
       "      <td>Decision Tree</td>\n",
       "      <td>3.484821</td>\n",
       "      <td>0.169282</td>\n",
       "    </tr>\n",
       "    <tr>\n",
       "      <th>4</th>\n",
       "      <td>CatBoosting Regressor</td>\n",
       "      <td>3.221000</td>\n",
       "      <td>0.178402</td>\n",
       "    </tr>\n",
       "    <tr>\n",
       "      <th>5</th>\n",
       "      <td>AdaBoost Regressor</td>\n",
       "      <td>3.552744</td>\n",
       "      <td>0.514650</td>\n",
       "    </tr>\n",
       "  </tbody>\n",
       "</table>\n",
       "</div>"
      ],
      "text/plain": [
       "              Model Name  rmse_Score  mae_Score\n",
       "0          Random Forest    2.496066   0.160073\n",
       "2      Gradient Boosting    1.543545   0.161563\n",
       "3         XGBRFRegressor    2.927967   0.162677\n",
       "1          Decision Tree    3.484821   0.169282\n",
       "4  CatBoosting Regressor    3.221000   0.178402\n",
       "5     AdaBoost Regressor    3.552744   0.514650"
      ]
     },
     "execution_count": 77,
     "metadata": {},
     "output_type": "execute_result"
    }
   ],
   "source": [
    "pd.DataFrame(list(zip(model_list,rmse_list,mae_list)), \n",
    "             columns=['Model Name', 'rmse_Score','mae_Score']).sort_values(by=[\"mae_Score\"],ascending=True)"
   ]
  },
  {
   "cell_type": "markdown",
   "metadata": {},
   "source": [
    "##### ***A.1.5***<br> <u>***Apply Best Model :***</u>"
   ]
  },
  {
   "cell_type": "code",
   "execution_count": 78,
   "metadata": {},
   "outputs": [
    {
     "name": "stdout",
     "output_type": "stream",
     "text": [
      "MAE: 0.16157286047609706\n",
      " Accuracy of the model is -124.70\n"
     ]
    }
   ],
   "source": [
    "RandomForestRegressor_model = RandomForestRegressor()\n",
    "my_pipeline = Pipeline(steps=[('preprocessor', preprocessor),\n",
    "                              ('melbourne_model', RandomForestRegressor_model)# or ('melbourne_model', RandomForestRegressor(random_state=0,n_estimators=50)) \n",
    "                             ])\n",
    "my_pipeline.fit(xtrain, ytrain)\n",
    "preds = my_pipeline.predict(xtest)\n",
    "score = mean_absolute_error(ytest, preds)\n",
    "print('MAE:', score)\n",
    "score = r2_score(ytest, preds)*100\n",
    "print(\" Accuracy of the model is %.2f\" %score)"
   ]
  },
  {
   "cell_type": "markdown",
   "metadata": {},
   "source": [
    "##### ***A.1.6***<br> <u>***Visualize Best Model :***</u>"
   ]
  },
  {
   "cell_type": "code",
   "execution_count": 80,
   "metadata": {},
   "outputs": [
    {
     "data": {
      "image/png": "[encoded data removed]",
      "text/plain": [
       "<Figure size 2000x1000 with 2 Axes>"
      ]
     },
     "metadata": {},
     "output_type": "display_data"
    }
   ],
   "source": [
    "plt.subplot(221)\n",
    "plt.scatter(ytest,preds);\n",
    "\n",
    "plt.xlabel('Actual');\n",
    "plt.ylabel('Predicted');\n",
    "\n",
    "plt.subplot(222)\n",
    "sns.regplot(x=ytest,y=preds,ci=None,color ='red');"
   ]
  },
  {
   "cell_type": "markdown",
   "metadata": {},
   "source": [
    "#### ***A.2***<br> <u>***Hyperopt Models Comparison :***</u>"
   ]
  },
  {
   "cell_type": "markdown",
   "metadata": {},
   "source": [
    "##### ***A.2.1***<br> <u>***Create Spaces for each model :***</u>"
   ]
  },
  {
   "cell_type": "code",
   "execution_count": 26,
   "metadata": {},
   "outputs": [],
   "source": [
    "space_rf = {\n",
    "    'n_estimators': hp.choice('n_estimators', range(10, 200)),\n",
    "    'max_depth': hp.choice('max_depth', range(1, 20)),\n",
    "    'criterion': hp.choice('criterion', ['gini', 'entropy'])\n",
    "    }\n",
    "\n",
    "space_dt = {\n",
    "    'max_depth': hp.choice('max_depth', range(1, 20)),\n",
    "    'criterion': hp.choice('criterion', ['gini', 'entropy'])\n",
    "    }\n",
    "\n",
    "space_XGBRFRegressor = {\n",
    "  'colsample_bynode': hp.uniform(\"colsample_bynode\", 0.5,1), \n",
    "  \"learning_rate\": hp.uniform(\"learning_rate\", 0, 1),\n",
    "  'max_depth': hp.choice(\"max_depth\", np.arange(1,20,1)),\n",
    "  \"num_parallel_tree\": 100,\n",
    "  \"subsample\": hp.uniform(\"subsample\", 0.5,1)\n",
    "}\n",
    "\n",
    "space_catboost = {\n",
    "    'learning_rate': hp.uniform('learning_rate', 0.01, 0.2),\n",
    "    'depth': hp.choice('depth', range(1, 12)),\n",
    "    'iterations': hp.choice('iterations', range(50, 200)),\n",
    "}\n",
    "\n",
    "space_adaboost = {\n",
    "    'n_estimators': hp.choice('n_estimators', range(50, 200)),\n",
    "    'learning_rate': hp.uniform('learning_rate', 0.01, 1.0),\n",
    "}\n",
    "\n",
    "space_gradientboost = {\n",
    "    'n_estimators': hp.choice('n_estimators', range(50, 200)),\n",
    "    'learning_rate': hp.uniform('learning_rate', 0.01, 0.2),\n",
    "    'max_depth': hp.choice('max_depth', range(1, 12)),\n",
    "}"
   ]
  },
  {
   "cell_type": "markdown",
   "metadata": {},
   "source": [
    "##### ***A.2.2***<br> <u>***Apply hyperopt :***</u>"
   ]
  },
  {
   "cell_type": "code",
   "execution_count": 42,
   "metadata": {},
   "outputs": [],
   "source": [
    "def model_catboost(space_catboost):\n",
    "    model_opt = Pipeline(\n",
    "        steps=[\n",
    "            ('preprocessor', preprocessor),\n",
    "            (\"CatBoostRegressor\",CatBoostRegressor(\n",
    "                                    learning_rate=float(space_catboost['learning_rate']),\n",
    "                                    depth=int(space_catboost[\"depth\"]),                                                       \n",
    "                                    iterations=int(space_catboost['iterations'])\n",
    "                                    ))\n",
    "\n",
    "                                    ])\n",
    "                                              \n",
    "                                  \n",
    "    model_opt.fit(xtrain,ytrain)\n",
    "    mae_scores =[]\n",
    "    mae=mean_absolute_error(ytest,model_opt.predict(xtest))\n",
    "    mae_scores.append(mae)                         \n",
    "    mean_mae=np.mean(mae_scores)                          \n",
    "    return { \n",
    "           'loss': mean_mae,\n",
    "           'status': STATUS_OK\n",
    "            } \n",
    "\n",
    "#####################################################################\n",
    "\n",
    "def model_rf(space_rf):\n",
    "    model_opt = Pipeline(\n",
    "        steps=[\n",
    "            ('preprocessor', preprocessor),\n",
    "            (\"RandomForestRegressor\",RandomForestRegressor(\n",
    "                                    n_estimators=int(space_rf['n_estimators']),\n",
    "                                    max_depth=int(space_rf[\"max_depth\"])                                                       \n",
    "                                    #criterion=str(space_rf['criterion'])\n",
    "                                    ))\n",
    "\n",
    "                                    ])\n",
    "                                              \n",
    "                                  \n",
    "    model_opt.fit(xtrain,ytrain)\n",
    "    mae_scores =[]\n",
    "    mae=mean_absolute_error(ytest,model_opt.predict(xtest))\n",
    "    mae_scores.append(mae)                         \n",
    "    mean_mae=np.mean(mae_scores)                          \n",
    "    return { \n",
    "           'loss': mean_mae,\n",
    "           'status': STATUS_OK\n",
    "            }   \n",
    "\n",
    "\n",
    "#####################################################################\n",
    "\n",
    "def model_gboost(space_gradientboost):\n",
    "    model_opt = Pipeline(\n",
    "        steps=[\n",
    "            ('preprocessor', preprocessor),\n",
    "            (\"GradientBoostingRegressor\",GradientBoostingRegressor(\n",
    "                                    n_estimators=int(space_gradientboost['n_estimators']),\n",
    "                                    learning_rate=float(space_gradientboost[\"learning_rate\"]),                                           \n",
    "                                    max_depth=int(space_gradientboost['max_depth'])\n",
    "                                    ))\n",
    "\n",
    "                                    ])\n",
    "\n",
    "                                  \n",
    "    model_opt.fit(xtrain,ytrain)\n",
    "    mae_scores =[]\n",
    "    mae=mean_absolute_error(ytest,model_opt.predict(xtest))\n",
    "    mae_scores.append(mae)                         \n",
    "    mean_mae=np.mean(mae_scores)                          \n",
    "    return { \n",
    "           'loss': mean_mae,\n",
    "           'status': STATUS_OK\n",
    "            } \n",
    "\n",
    "#####################################################################\n",
    "\n",
    "def model_XGBRFRegressor(space_XGBRFRegressor):\n",
    "    model_opt = Pipeline(\n",
    "        steps=[\n",
    "            ('preprocessor', preprocessor),\n",
    "            (\"XGBRFRegressor\",XGBRFRegressor(\n",
    "                                    colsample_bynode=float(space_XGBRFRegressor['colsample_bynode']),\n",
    "                                    learning_rate=float(space_XGBRFRegressor[\"learning_rate\"]),                                           \n",
    "                                    max_depth=int(space_XGBRFRegressor['max_depth']),\n",
    "                                    num_parallel_tree=int(space_XGBRFRegressor['num_parallel_tree']),\n",
    "                                    subsample=float(space_XGBRFRegressor['subsample'])\n",
    "                                    ))\n",
    "\n",
    "                                    ])\n",
    "\n",
    "                                  \n",
    "    model_opt.fit(xtrain,ytrain)\n",
    "    mae_scores =[]\n",
    "    mae=mean_absolute_error(ytest,model_opt.predict(xtest))\n",
    "    mae_scores.append(mae)                         \n",
    "    mean_mae=np.mean(mae_scores)                          \n",
    "    return { \n",
    "           'loss': mean_mae,\n",
    "           'status': STATUS_OK\n",
    "            }       \n",
    "\n",
    "#####################################################################\n",
    "\n",
    "def model_adaboost(space_adaboost):\n",
    "    model_opt = Pipeline(\n",
    "        steps=[\n",
    "            ('preprocessor', preprocessor),\n",
    "            (\"AdaBoostRegressor\",AdaBoostRegressor(\n",
    "                                    n_estimators=int(space_adaboost['n_estimators']),\n",
    "                                    learning_rate=float(space_adaboost[\"learning_rate\"])\n",
    "                                    ))\n",
    "\n",
    "                                    ])\n",
    "\n",
    "                                  \n",
    "    model_opt.fit(xtrain,ytrain)\n",
    "    mae_scores =[]\n",
    "    mae=mean_absolute_error(ytest,model_opt.predict(xtest))\n",
    "    mae_scores.append(mae)                         \n",
    "    mean_mae=np.mean(mae_scores)                          \n",
    "    return { \n",
    "           'loss': mean_mae,\n",
    "           'status': STATUS_OK\n",
    "            }       "
   ]
  },
  {
   "cell_type": "code",
   "execution_count": 43,
   "metadata": {},
   "outputs": [
    {
     "name": "stdout",
     "output_type": "stream",
     "text": [
      "100%|██████████| 50/50 [04:51<00:00,  5.84s/trial, best loss: 0.14645292707524804]\n",
      "100%|██████████| 50/50 [05:53<00:00,  7.08s/trial, best loss: 0.15073121797266933]\n",
      "100%|██████████| 50/50 [01:46<00:00,  2.14s/trial, best loss: 0.1627177144669481] \n",
      "100%|██████████| 50/50 [01:21<00:00,  1.64s/trial, best loss: 0.28424209462063454]\n"
     ]
    }
   ],
   "source": [
    "best_model_catboost = fmin(fn=model_catboost, space=space_catboost, algo=tpe.suggest, max_evals=50)\n",
    "best_model_rf = fmin(fn=model_rf, space=space_rf, algo=tpe.suggest, max_evals=50)\n",
    "best_model_gboost = fmin(fn=model_gboost, space=space_gradientboost, algo=tpe.suggest, max_evals=50)\n",
    "best_model_XGBRFRegressor = fmin(fn=model_XGBRFRegressor, space=space_XGBRFRegressor, algo=tpe.suggest, max_evals=50)\n",
    "best_model_adaboost = fmin(fn=model_adaboost, space=space_adaboost, algo=tpe.suggest, max_evals=50)"
   ]
  },
  {
   "cell_type": "markdown",
   "metadata": {},
   "source": [
    "##### ***A.2.3***<br> <u>***hyperopt best params:***</u>"
   ]
  },
  {
   "cell_type": "code",
   "execution_count": 44,
   "metadata": {},
   "outputs": [
    {
     "name": "stdout",
     "output_type": "stream",
     "text": [
      "best_model_catboost {'depth': 1, 'iterations': 74, 'learning_rate': 0.03940650784205581}\n",
      "best_model_rf {'criterion': 0, 'max_depth': 3, 'n_estimators': 1}\n",
      "best_model_gboost {'learning_rate': 0.10992415172319682, 'max_depth': 3, 'n_estimators': 8}\n",
      "best_model_XGBRFRegressor {'colsample_bynode': 0.85779412656548, 'learning_rate': 0.9888324230327836, 'max_depth': 4, 'subsample': 0.5014079447756978}\n",
      "best_model_adaboost {'learning_rate': 0.5384782272949582, 'n_estimators': 47}\n"
     ]
    }
   ],
   "source": [
    "print(\"best_model_catboost\",best_model_catboost)\n",
    "print(\"best_model_rf\",best_model_rf)\n",
    "print(\"best_model_gboost\",best_model_gboost)\n",
    "print(\"best_model_XGBRFRegressor\",best_model_XGBRFRegressor)\n",
    "print(\"best_model_adaboost\",best_model_adaboost)"
   ]
  },
  {
   "cell_type": "markdown",
   "metadata": {},
   "source": [
    "##### ***A.2.4***<br> <u>***Apply hyperopt best params:***</u>"
   ]
  },
  {
   "cell_type": "code",
   "execution_count": 61,
   "metadata": {},
   "outputs": [],
   "source": [
    "def model_catboost_best(best_model_catboost ):\n",
    "    y_CatBoostRegressor_best=[]\n",
    "    model_opt_best = Pipeline(\n",
    "        steps=[\n",
    "            ('preprocessor', preprocessor),\n",
    "            (\"CatBoostRegressor\",CatBoostRegressor(\n",
    "                                    learning_rate=float(best_model_catboost ['learning_rate']),\n",
    "                                    depth=int(best_model_catboost [\"depth\"]),                                                       \n",
    "                                    iterations=int(best_model_catboost ['iterations'])\n",
    "                                    ))\n",
    "\n",
    "                                    ]).fit(xtrain,ytrain)  \n",
    "    \n",
    "    y_pred = model_opt_best.predict(xtest)\n",
    "    y_CatBoostRegressor_best.append(y_pred)\n",
    "\n",
    "    score = mean_absolute_error(ytest, y_pred)\n",
    "    print('model_catboost_best MAE:', score)\n",
    "    score = r2_score(ytest, y_pred)*100\n",
    "    print(\" Accuracy of the model_catboost_best is %.2f\" %score)\n",
    "\n",
    "#####################################################################\n",
    "\n",
    "def model_rf_best(best_model_rf):\n",
    "    y_RandomForestRegressor_best=[]\n",
    "    model_opt_best = Pipeline(\n",
    "        steps=[\n",
    "            ('preprocessor', preprocessor),\n",
    "            (\"RandomForestRegressor\",RandomForestRegressor(\n",
    "                                    n_estimators=int(best_model_rf['n_estimators']),\n",
    "                                    max_depth=int(best_model_rf[\"max_depth\"])                                                       \n",
    "                                    #criterion=str(best_model_rf['criterion'])\n",
    "                                    ))\n",
    "\n",
    "                                    ]).fit(xtrain,ytrain)  \n",
    "    \n",
    "    y_pred = model_opt_best.predict(xtest)\n",
    "    y_RandomForestRegressor_best.append(y_pred)\n",
    "\n",
    "    score = mean_absolute_error(ytest, y_pred)\n",
    "    print('model_rf_best MAE:', score)\n",
    "    score = r2_score(ytest, y_pred)*100\n",
    "    print(\" Accuracy of the model_rf_best is %.2f\" %score) \n",
    "\n",
    "#####################################################################\n",
    "\n",
    "def model_gboost_best(best_model_gboost):\n",
    "    y_gboost_best=[]\n",
    "    model_opt_best = Pipeline(\n",
    "        steps=[\n",
    "            ('preprocessor', preprocessor),\n",
    "            (\"GradientBoostingRegressor\",GradientBoostingRegressor(\n",
    "                                    n_estimators=int(best_model_gboost['n_estimators']),\n",
    "                                    learning_rate=float(best_model_gboost[\"learning_rate\"]),                                           \n",
    "                                    max_depth=int(best_model_gboost['max_depth'])\n",
    "                                    ))\n",
    "\n",
    "                                    ]).fit(xtrain,ytrain)\n",
    "    y_pred = model_opt_best.predict(xtest)\n",
    "    y_gboost_best.append(y_pred)\n",
    "\n",
    "    score = mean_absolute_error(ytest, y_pred)\n",
    "    print('model_gboost_best MAE:', score)\n",
    "    score = r2_score(ytest, y_pred)*100\n",
    "    print(\" Accuracy of the model_gboost_best is %.2f\" %score)\n",
    "\n",
    "#####################################################################\n",
    "\n",
    "def model_XGBRFRegressor_best(best_model_XGBRFRegressor):\n",
    "    y_XGBRFRegressor_best=[]\n",
    "    model_opt_best = Pipeline(\n",
    "        steps=[\n",
    "            ('preprocessor', preprocessor),\n",
    "            (\"XGBRFRegressor\",XGBRFRegressor(\n",
    "                                    colsample_bynode=float(best_model_XGBRFRegressor['colsample_bynode']),\n",
    "                                    learning_rate=float(best_model_XGBRFRegressor[\"learning_rate\"]),                                           \n",
    "                                    max_depth=int(best_model_XGBRFRegressor['max_depth']),\n",
    "                                    # num_parallel_tree=int(best_model_XGBRFRegressor['num_parallel_tree']),\n",
    "                                    subsample=float(best_model_XGBRFRegressor['subsample'])\n",
    "                                    ))\n",
    "\n",
    "                                    ]).fit(xtrain,ytrain)\n",
    "    \n",
    "    y_pred = model_opt_best.predict(xtest)\n",
    "    y_XGBRFRegressor_best.append(y_pred)\n",
    "\n",
    "    score = mean_absolute_error(ytest, y_pred)\n",
    "    print('model_XGBRFRegressor_best MAE:', score)\n",
    "    score = r2_score(ytest, y_pred)*100\n",
    "    print(\" Accuracy of the model_XGBRFRegressor_best is %.2f\" %score)\n",
    "\n",
    "#####################################################################\n",
    "\n",
    "def model_adaboost_best(best_model_adaboost):\n",
    "    y_adaboost_best=[]\n",
    "    model_opt_best = Pipeline(\n",
    "        steps=[\n",
    "            ('preprocessor', preprocessor),\n",
    "            (\"AdaBoostRegressor\",AdaBoostRegressor(\n",
    "                                    n_estimators=int(best_model_adaboost['n_estimators']),\n",
    "                                    learning_rate=float(best_model_adaboost[\"learning_rate\"])\n",
    "                                    ))\n",
    "\n",
    "                                    ]).fit(xtrain,ytrain)\n",
    "    \n",
    "    y_pred = model_opt_best.predict(xtest)\n",
    "    y_adaboost_best.append(y_pred)\n",
    "\n",
    "    score = mean_absolute_error(ytest, y_pred)\n",
    "    print('model_adaboost_best MAE:', score)\n",
    "    score = r2_score(ytest, y_pred)*100\n",
    "    print(\" Accuracy of the model_adaboost_best is %.2f\" %score)\n",
    "    "
   ]
  },
  {
   "cell_type": "markdown",
   "metadata": {},
   "source": [
    "##### ***A.2.5***<br> <u>***Determine the best model and hyperopt best params:***</u>"
   ]
  },
  {
   "cell_type": "code",
   "execution_count": null,
   "metadata": {},
   "outputs": [],
   "source": [
    "model_catboost_best(best_model_catboost )"
   ]
  },
  {
   "cell_type": "code",
   "execution_count": 63,
   "metadata": {},
   "outputs": [
    {
     "name": "stdout",
     "output_type": "stream",
     "text": [
      "model_rf_best MAE: 0.15270296146062956\n",
      " Accuracy of the model_rf_best is 3.45\n"
     ]
    }
   ],
   "source": [
    "model_rf_best(best_model_rf)"
   ]
  },
  {
   "cell_type": "code",
   "execution_count": 64,
   "metadata": {},
   "outputs": [
    {
     "name": "stdout",
     "output_type": "stream",
     "text": [
      "model_gboost_best MAE: 0.1909323561208385\n",
      " Accuracy of the model_gboost_best is 15.40\n"
     ]
    }
   ],
   "source": [
    "model_gboost_best(best_model_gboost)"
   ]
  },
  {
   "cell_type": "code",
   "execution_count": 65,
   "metadata": {},
   "outputs": [
    {
     "name": "stdout",
     "output_type": "stream",
     "text": [
      "model_XGBRFRegressor_best MAE: 0.15561691284095006\n",
      " Accuracy of the model_XGBRFRegressor_best is 8.59\n"
     ]
    }
   ],
   "source": [
    "model_XGBRFRegressor_best(best_model_XGBRFRegressor)"
   ]
  },
  {
   "cell_type": "code",
   "execution_count": 66,
   "metadata": {},
   "outputs": [
    {
     "name": "stdout",
     "output_type": "stream",
     "text": [
      "model_adaboost_best MAE: 0.499566305204737\n",
      " Accuracy of the model_adaboost_best is -718.03\n"
     ]
    }
   ],
   "source": [
    "model_adaboost_best(best_model_adaboost)"
   ]
  },
  {
   "cell_type": "code",
   "execution_count": 70,
   "metadata": {},
   "outputs": [
    {
     "name": "stdout",
     "output_type": "stream",
     "text": [
      "model_catboost_best(best_model_catboost ) ,has the lowest mae with 0.15215279995898695 with the best parameters:\n",
      " {'depth': 1, 'iterations': 74, 'learning_rate': 0.03940650784205581}\n"
     ]
    }
   ],
   "source": [
    "print(f\"model_catboost_best(best_model_catboost ) ,has the lowest mae with 0.15215279995898695 with the best parameters:\\n {best_model_catboost}\" )"
   ]
  },
  {
   "cell_type": "code",
   "execution_count": null,
   "metadata": {},
   "outputs": [],
   "source": []
  },
  {
   "cell_type": "code",
   "execution_count": null,
   "metadata": {},
   "outputs": [],
   "source": []
  }
 ],
 "metadata": {
  "kernelspec": {
   "display_name": "Python 3",
   "language": "python",
   "name": "python3"
  },
  "language_info": {
   "codemirror_mode": {
    "name": "ipython",
    "version": 3
   },
   "file_extension": ".py",
   "mimetype": "text/x-python",
   "name": "python",
   "nbconvert_exporter": "python",
   "pygments_lexer": "ipython3",
   "version": "3.11.4"
  }
 },
 "nbformat": 4,
 "nbformat_minor": 2
}
