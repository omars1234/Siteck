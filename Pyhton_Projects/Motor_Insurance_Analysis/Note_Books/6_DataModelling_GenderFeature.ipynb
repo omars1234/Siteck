{
 "cells": [
  {
   "cell_type": "markdown",
   "metadata": {},
   "source": [
    "##  <u> ***Data Modelling***  </u>"
   ]
  },
  {
   "cell_type": "code",
   "execution_count": null,
   "metadata": {},
   "outputs": [],
   "source": [
    "%run 3_EDA.ipynb"
   ]
  },
  {
   "cell_type": "markdown",
   "metadata": {},
   "source": [
    "### <u>*Calssifications Modelling for gender as a Target Features*</u>"
   ]
  },
  {
   "cell_type": "markdown",
   "metadata": {},
   "source": [
    "* #### *Import Needed Libraries :*"
   ]
  },
  {
   "cell_type": "code",
   "execution_count": 4,
   "metadata": {},
   "outputs": [],
   "source": [
    "from sklearn.compose import ColumnTransformer\n",
    "from sklearn.pipeline import Pipeline\n",
    "from sklearn.impute import SimpleImputer\n",
    "from sklearn.preprocessing import OneHotEncoder,LabelEncoder,StandardScaler\n",
    "from sklearn.model_selection import train_test_split,cross_val_score\n",
    "from sklearn.ensemble import RandomForestRegressor,AdaBoostRegressor\n",
    "from sklearn.metrics import (\n",
    "    mean_absolute_error,mean_squared_error, r2_score,accuracy_score,roc_auc_score,auc,roc_curve,precision_score,\n",
    "    recall_score,f1_score\n",
    "    )\n",
    "\n",
    "from sklearn.svm import SVR,SVC\n",
    "from sklearn.linear_model import LinearRegression, Ridge,Lasso\n",
    "from sklearn.model_selection import RandomizedSearchCV\n",
    "from sklearn.neighbors import KNeighborsRegressor,KNeighborsClassifier\n",
    "from sklearn.tree import DecisionTreeRegressor,DecisionTreeClassifier\n",
    "from catboost import CatBoostRegressor,CatBoostClassifier\n",
    "from xgboost import XGBRegressor,XGBRFRegressor,XGBClassifier,XGBRFClassifier\n",
    "import warnings\n",
    "from catboost import CatBoostRegressor,CatBoostClassifier\n",
    "from sklearn.ensemble import (\n",
    "    AdaBoostClassifier,\n",
    "    GradientBoostingRegressor,\n",
    "    RandomForestClassifier,\n",
    "    GradientBoostingClassifier\n",
    ")\n"
   ]
  },
  {
   "cell_type": "markdown",
   "metadata": {},
   "source": [
    "### *A.* <u>*gender as a Target Feature :*</u>"
   ]
  },
  {
   "cell_type": "markdown",
   "metadata": {},
   "source": [
    "#### *A.1*<br> <u>*Basic Models Comparison :*</u>"
   ]
  },
  {
   "cell_type": "markdown",
   "metadata": {},
   "source": [
    "##### *A.1.1*<br> <u>*Models :*</u>"
   ]
  },
  {
   "cell_type": "code",
   "execution_count": 39,
   "metadata": {},
   "outputs": [],
   "source": [
    "models = {\n",
    "                \"Random Forest\": RandomForestClassifier(),\n",
    "                \"Decision Tree\": DecisionTreeClassifier(),\n",
    "                \"Gradient Boosting\": GradientBoostingClassifier(),\n",
    "                \"XGBRegressor\": XGBClassifier(),\n",
    "                \"CatBoosting Regressor\": CatBoostClassifier(verbose=False),\n",
    "                \"AdaBoost Regressor\": AdaBoostClassifier(),\n",
    "            }"
   ]
  },
  {
   "cell_type": "markdown",
   "metadata": {},
   "source": [
    "##### *A.1.2*<br> <u>*Prepare Date :*</u>"
   ]
  },
  {
   "cell_type": "code",
   "execution_count": 257,
   "metadata": {},
   "outputs": [],
   "source": [
    "LabelEncoder_cat = LabelEncoder()\n",
    "df_gender=df.copy()\n",
    "df_gender[\"gender\"]=LabelEncoder_cat.fit_transform(df_gender[\"gender\"])\n",
    "x_gender=df_gender.drop(\"gender\",axis=1)\n",
    "y_gender= df_gender[\"gender\"]\n",
    "\n",
    "\n",
    "xtrain_full,xtest_full, ytrain, ytest = train_test_split(x_gender, y_gender, train_size=0.8, test_size=0.2,random_state=0)\n",
    "\n",
    "numerical_cols = [col for col in xtrain_full.columns if xtrain_full[col].dtype in ['int64', 'float64']]\n",
    "categorical_cols =[col for col in xtrain_full.columns if  xtrain_full[col].dtype == \"object\"]\n",
    "\n",
    "my_cols = categorical_cols + numerical_cols\n",
    "xtrain = xtrain_full[my_cols].copy()\n",
    "xtest = xtest_full[my_cols].copy()\n",
    "\n",
    "numerical_transformer = Pipeline(steps=[\n",
    "    (\"scaler\",StandardScaler())\n",
    "    ])\n",
    "\n",
    "\n",
    "categorical_transformer = Pipeline(steps=[\n",
    "    ('onehot', OneHotEncoder(handle_unknown='ignore')),\n",
    "    (\"scaler\",StandardScaler(with_mean=False))\n",
    "    ])\n",
    "\n",
    "preprocessor = ColumnTransformer(\n",
    "    transformers=[\n",
    "        ('num', numerical_transformer, numerical_cols),\n",
    "        ('cat', categorical_transformer, categorical_cols)\n",
    "    ])"
   ]
  },
  {
   "cell_type": "markdown",
   "metadata": {},
   "source": [
    "##### *A.1.3*<br> <u>*Apply Models :*</u>"
   ]
  },
  {
   "cell_type": "code",
   "execution_count": null,
   "metadata": {},
   "outputs": [],
   "source": [
    "def Cat_evaluate_model(true, predicted):\n",
    "    AccuracyScore = accuracy_score(true, predicted)\n",
    "    \n",
    "    return AccuracyScore\n",
    "\n",
    "###################################################\n",
    "\n",
    "model_list = []\n",
    "accurecy_list =[]\n",
    "#mae_list=[]\n",
    "#aucScore_list=[]\n",
    "\n",
    "for i in range(len(list(models))):\n",
    "    model = list(models.values())[i]\n",
    "    model =my_pipeline = Pipeline(steps=[('preprocessor', preprocessor),\n",
    "                              ('melbourne_model', model) \n",
    "                             ])\n",
    "    model.fit(xtrain, ytrain) \n",
    "\n",
    "    y_train_pred = model.predict(xtrain)\n",
    "    y_test_pred = model.predict(xtest)\n",
    "\n",
    "    model_train_AccuracyScore = Cat_evaluate_model(ytrain, y_train_pred)\n",
    "    model_test_AccuracyScore = Cat_evaluate_model(ytest, y_test_pred)\n",
    "\n",
    "\n",
    "    print(list(models.keys())[i])\n",
    "    model_list.append(list(models.keys())[i])\n",
    "    \n",
    "    print('Model performance for Training set')\n",
    "    print(\"- Accuracy Score: {:.4f}\".format(model_train_AccuracyScore))\n",
    "    \n",
    "\n",
    "\n",
    "    print('----------------------------------')\n",
    "    \n",
    "    print('Model performance for Test set')\n",
    "    print(\"- Accuracy Score: {:.4f}\".format(model_test_AccuracyScore))\n",
    "   \n",
    " \n",
    "    accurecy_list.append(model_test_AccuracyScore)\n",
    "    #aucScore_list.append(model_test_aucScore)\n",
    "    #mae_list.append(model_test_mae)\n",
    "    \n",
    "    print('='*35)\n",
    "    print('\\n')\n",
    "\n"
   ]
  },
  {
   "cell_type": "markdown",
   "metadata": {},
   "source": [
    "##### *A.1.4*<br> <u>*Best Model :*</u>"
   ]
  },
  {
   "cell_type": "code",
   "execution_count": 259,
   "metadata": {},
   "outputs": [
    {
     "data": {
      "text/html": [
       "<div>\n",
       "<style scoped>\n",
       "    .dataframe tbody tr th:only-of-type {\n",
       "        vertical-align: middle;\n",
       "    }\n",
       "\n",
       "    .dataframe tbody tr th {\n",
       "        vertical-align: top;\n",
       "    }\n",
       "\n",
       "    .dataframe thead th {\n",
       "        text-align: right;\n",
       "    }\n",
       "</style>\n",
       "<table border=\"1\" class=\"dataframe\">\n",
       "  <thead>\n",
       "    <tr style=\"text-align: right;\">\n",
       "      <th></th>\n",
       "      <th>Model Name</th>\n",
       "      <th>accurecy</th>\n",
       "    </tr>\n",
       "  </thead>\n",
       "  <tbody>\n",
       "    <tr>\n",
       "      <th>1</th>\n",
       "      <td>Decision Tree</td>\n",
       "      <td>0.626584</td>\n",
       "    </tr>\n",
       "    <tr>\n",
       "      <th>0</th>\n",
       "      <td>Random Forest</td>\n",
       "      <td>0.629679</td>\n",
       "    </tr>\n",
       "    <tr>\n",
       "      <th>5</th>\n",
       "      <td>AdaBoost Regressor</td>\n",
       "      <td>0.631152</td>\n",
       "    </tr>\n",
       "    <tr>\n",
       "      <th>3</th>\n",
       "      <td>XGBRegressor</td>\n",
       "      <td>0.633584</td>\n",
       "    </tr>\n",
       "    <tr>\n",
       "      <th>2</th>\n",
       "      <td>Gradient Boosting</td>\n",
       "      <td>0.635721</td>\n",
       "    </tr>\n",
       "    <tr>\n",
       "      <th>4</th>\n",
       "      <td>CatBoosting Regressor</td>\n",
       "      <td>0.635794</td>\n",
       "    </tr>\n",
       "  </tbody>\n",
       "</table>\n",
       "</div>"
      ],
      "text/plain": [
       "              Model Name  accurecy\n",
       "1          Decision Tree  0.626584\n",
       "0          Random Forest  0.629679\n",
       "5     AdaBoost Regressor  0.631152\n",
       "3           XGBRegressor  0.633584\n",
       "2      Gradient Boosting  0.635721\n",
       "4  CatBoosting Regressor  0.635794"
      ]
     },
     "execution_count": 259,
     "metadata": {},
     "output_type": "execute_result"
    }
   ],
   "source": [
    "pd.DataFrame(list(zip(model_list,accurecy_list)), \n",
    "             columns=['Model Name', 'accurecy']).sort_values(by=[\"accurecy\"],ascending=True)"
   ]
  },
  {
   "cell_type": "markdown",
   "metadata": {},
   "source": [
    "##### *A.1.5*<br> <u>*Apply Best Model :*</u>"
   ]
  },
  {
   "cell_type": "code",
   "execution_count": 260,
   "metadata": {},
   "outputs": [
    {
     "data": {
      "text/html": [
       "<style>#sk-container-id-6 {color: black;}#sk-container-id-6 pre{padding: 0;}#sk-container-id-6 div.sk-toggleable {background-color: white;}#sk-container-id-6 label.sk-toggleable__label {cursor: pointer;display: block;width: 100%;margin-bottom: 0;padding: 0.3em;box-sizing: border-box;text-align: center;}#sk-container-id-6 label.sk-toggleable__label-arrow:before {content: \"▸\";float: left;margin-right: 0.25em;color: #696969;}#sk-container-id-6 label.sk-toggleable__label-arrow:hover:before {color: black;}#sk-container-id-6 div.sk-estimator:hover label.sk-toggleable__label-arrow:before {color: black;}#sk-container-id-6 div.sk-toggleable__content {max-height: 0;max-width: 0;overflow: hidden;text-align: left;background-color: #f0f8ff;}#sk-container-id-6 div.sk-toggleable__content pre {margin: 0.2em;color: black;border-radius: 0.25em;background-color: #f0f8ff;}#sk-container-id-6 input.sk-toggleable__control:checked~div.sk-toggleable__content {max-height: 200px;max-width: 100%;overflow: auto;}#sk-container-id-6 input.sk-toggleable__control:checked~label.sk-toggleable__label-arrow:before {content: \"▾\";}#sk-container-id-6 div.sk-estimator input.sk-toggleable__control:checked~label.sk-toggleable__label {background-color: #d4ebff;}#sk-container-id-6 div.sk-label input.sk-toggleable__control:checked~label.sk-toggleable__label {background-color: #d4ebff;}#sk-container-id-6 input.sk-hidden--visually {border: 0;clip: rect(1px 1px 1px 1px);clip: rect(1px, 1px, 1px, 1px);height: 1px;margin: -1px;overflow: hidden;padding: 0;position: absolute;width: 1px;}#sk-container-id-6 div.sk-estimator {font-family: monospace;background-color: #f0f8ff;border: 1px dotted black;border-radius: 0.25em;box-sizing: border-box;margin-bottom: 0.5em;}#sk-container-id-6 div.sk-estimator:hover {background-color: #d4ebff;}#sk-container-id-6 div.sk-parallel-item::after {content: \"\";width: 100%;border-bottom: 1px solid gray;flex-grow: 1;}#sk-container-id-6 div.sk-label:hover label.sk-toggleable__label {background-color: #d4ebff;}#sk-container-id-6 div.sk-serial::before {content: \"\";position: absolute;border-left: 1px solid gray;box-sizing: border-box;top: 0;bottom: 0;left: 50%;z-index: 0;}#sk-container-id-6 div.sk-serial {display: flex;flex-direction: column;align-items: center;background-color: white;padding-right: 0.2em;padding-left: 0.2em;position: relative;}#sk-container-id-6 div.sk-item {position: relative;z-index: 1;}#sk-container-id-6 div.sk-parallel {display: flex;align-items: stretch;justify-content: center;background-color: white;position: relative;}#sk-container-id-6 div.sk-item::before, #sk-container-id-6 div.sk-parallel-item::before {content: \"\";position: absolute;border-left: 1px solid gray;box-sizing: border-box;top: 0;bottom: 0;left: 50%;z-index: -1;}#sk-container-id-6 div.sk-parallel-item {display: flex;flex-direction: column;z-index: 1;position: relative;background-color: white;}#sk-container-id-6 div.sk-parallel-item:first-child::after {align-self: flex-end;width: 50%;}#sk-container-id-6 div.sk-parallel-item:last-child::after {align-self: flex-start;width: 50%;}#sk-container-id-6 div.sk-parallel-item:only-child::after {width: 0;}#sk-container-id-6 div.sk-dashed-wrapped {border: 1px dashed gray;margin: 0 0.4em 0.5em 0.4em;box-sizing: border-box;padding-bottom: 0.4em;background-color: white;}#sk-container-id-6 div.sk-label label {font-family: monospace;font-weight: bold;display: inline-block;line-height: 1.2em;}#sk-container-id-6 div.sk-label-container {text-align: center;}#sk-container-id-6 div.sk-container {/* jupyter's `normalize.less` sets `[hidden] { display: none; }` but bootstrap.min.css set `[hidden] { display: none !important; }` so we also need the `!important` here to be able to override the default hidden behavior on the sphinx rendered scikit-learn.org. See: https://github.com/scikit-learn/scikit-learn/issues/21755 */display: inline-block !important;position: relative;}#sk-container-id-6 div.sk-text-repr-fallback {display: none;}</style><div id=\"sk-container-id-6\" class=\"sk-top-container\"><div class=\"sk-text-repr-fallback\"><pre>Pipeline(steps=[(&#x27;preprocessor&#x27;,\n",
       "                 ColumnTransformer(transformers=[(&#x27;cat&#x27;,\n",
       "                                                  Pipeline(steps=[(&#x27;onehot&#x27;,\n",
       "                                                                   OneHotEncoder(handle_unknown=&#x27;ignore&#x27;))]),\n",
       "                                                  [&#x27;clm&#x27;, &#x27;numclaims&#x27;,\n",
       "                                                   &#x27;veh_body&#x27;, &#x27;veh_age&#x27;,\n",
       "                                                   &#x27;area&#x27;, &#x27;agecat&#x27;])])),\n",
       "                (&#x27;melbourne_model&#x27;, DecisionTreeClassifier())])</pre><b>In a Jupyter environment, please rerun this cell to show the HTML representation or trust the notebook. <br />On GitHub, the HTML representation is unable to render, please try loading this page with nbviewer.org.</b></div><div class=\"sk-container\" hidden><div class=\"sk-item sk-dashed-wrapped\"><div class=\"sk-label-container\"><div class=\"sk-label sk-toggleable\"><input class=\"sk-toggleable__control sk-hidden--visually\" id=\"sk-estimator-id-22\" type=\"checkbox\" ><label for=\"sk-estimator-id-22\" class=\"sk-toggleable__label sk-toggleable__label-arrow\">Pipeline</label><div class=\"sk-toggleable__content\"><pre>Pipeline(steps=[(&#x27;preprocessor&#x27;,\n",
       "                 ColumnTransformer(transformers=[(&#x27;cat&#x27;,\n",
       "                                                  Pipeline(steps=[(&#x27;onehot&#x27;,\n",
       "                                                                   OneHotEncoder(handle_unknown=&#x27;ignore&#x27;))]),\n",
       "                                                  [&#x27;clm&#x27;, &#x27;numclaims&#x27;,\n",
       "                                                   &#x27;veh_body&#x27;, &#x27;veh_age&#x27;,\n",
       "                                                   &#x27;area&#x27;, &#x27;agecat&#x27;])])),\n",
       "                (&#x27;melbourne_model&#x27;, DecisionTreeClassifier())])</pre></div></div></div><div class=\"sk-serial\"><div class=\"sk-item sk-dashed-wrapped\"><div class=\"sk-label-container\"><div class=\"sk-label sk-toggleable\"><input class=\"sk-toggleable__control sk-hidden--visually\" id=\"sk-estimator-id-23\" type=\"checkbox\" ><label for=\"sk-estimator-id-23\" class=\"sk-toggleable__label sk-toggleable__label-arrow\">preprocessor: ColumnTransformer</label><div class=\"sk-toggleable__content\"><pre>ColumnTransformer(transformers=[(&#x27;cat&#x27;,\n",
       "                                 Pipeline(steps=[(&#x27;onehot&#x27;,\n",
       "                                                  OneHotEncoder(handle_unknown=&#x27;ignore&#x27;))]),\n",
       "                                 [&#x27;clm&#x27;, &#x27;numclaims&#x27;, &#x27;veh_body&#x27;, &#x27;veh_age&#x27;,\n",
       "                                  &#x27;area&#x27;, &#x27;agecat&#x27;])])</pre></div></div></div><div class=\"sk-parallel\"><div class=\"sk-parallel-item\"><div class=\"sk-item\"><div class=\"sk-label-container\"><div class=\"sk-label sk-toggleable\"><input class=\"sk-toggleable__control sk-hidden--visually\" id=\"sk-estimator-id-24\" type=\"checkbox\" ><label for=\"sk-estimator-id-24\" class=\"sk-toggleable__label sk-toggleable__label-arrow\">cat</label><div class=\"sk-toggleable__content\"><pre>[&#x27;clm&#x27;, &#x27;numclaims&#x27;, &#x27;veh_body&#x27;, &#x27;veh_age&#x27;, &#x27;area&#x27;, &#x27;agecat&#x27;]</pre></div></div></div><div class=\"sk-serial\"><div class=\"sk-item\"><div class=\"sk-serial\"><div class=\"sk-item\"><div class=\"sk-estimator sk-toggleable\"><input class=\"sk-toggleable__control sk-hidden--visually\" id=\"sk-estimator-id-25\" type=\"checkbox\" ><label for=\"sk-estimator-id-25\" class=\"sk-toggleable__label sk-toggleable__label-arrow\">OneHotEncoder</label><div class=\"sk-toggleable__content\"><pre>OneHotEncoder(handle_unknown=&#x27;ignore&#x27;)</pre></div></div></div></div></div></div></div></div></div></div><div class=\"sk-item\"><div class=\"sk-estimator sk-toggleable\"><input class=\"sk-toggleable__control sk-hidden--visually\" id=\"sk-estimator-id-26\" type=\"checkbox\" ><label for=\"sk-estimator-id-26\" class=\"sk-toggleable__label sk-toggleable__label-arrow\">DecisionTreeClassifier</label><div class=\"sk-toggleable__content\"><pre>DecisionTreeClassifier()</pre></div></div></div></div></div></div></div>"
      ],
      "text/plain": [
       "Pipeline(steps=[('preprocessor',\n",
       "                 ColumnTransformer(transformers=[('cat',\n",
       "                                                  Pipeline(steps=[('onehot',\n",
       "                                                                   OneHotEncoder(handle_unknown='ignore'))]),\n",
       "                                                  ['clm', 'numclaims',\n",
       "                                                   'veh_body', 'veh_age',\n",
       "                                                   'area', 'agecat'])])),\n",
       "                ('melbourne_model', DecisionTreeClassifier())])"
      ]
     },
     "execution_count": 260,
     "metadata": {},
     "output_type": "execute_result"
    }
   ],
   "source": [
    "model =my_pipeline = Pipeline(steps=[('preprocessor', preprocessor),\n",
    "                              ('melbourne_model', DecisionTreeClassifier())# or ('melbourne_model', RandomForestRegressor(random_state=0,n_estimators=50)) \n",
    "                             ])\n",
    "model.fit(xtrain, ytrain) \n",
    "\n",
    "print(\"Accuracy of DT_Model: \",\n",
    "      accuracy_score(ytest, model.predict(xtest)))\n",
    "# print other performance metrics\n",
    "print(\"Precision of DT_Model: \", \n",
    "      precision_score(ytest, model.predict(xtest), average='weighted'))\n",
    "print(\"Recall of DT_Model: \",\n",
    "      recall_score(ytest, model.predict(xtest), average='weighted'))\n",
    "print(\"F1-Score of DT_Model: \",\n",
    "      f1_score(ytest, model.predict(xtest), average='weighted'))"
   ]
  },
  {
   "cell_type": "code",
   "execution_count": null,
   "metadata": {},
   "outputs": [],
   "source": [
    "#Precision is a ratio of the number of true positives divided by the sum of the true positives and false positives.\n",
    "#It describes how good a model is at predicting the positive class. Precision is referred to as the positive predictive value.\n",
    "\n",
    "#Recall is calculated as the ratio of the number of true positives divided by the sum of the true positives and the false negatives.\n",
    "#Recall is the same as sensitivity.\n",
    "\n",
    "# True Positive Rate = True Positives / (True Positives + False Negatives)  sensitivity==Recall\n",
    "# False Positive Rate = False Positives / (False Positives + True Negatives) Specificity where : False Positive Rate = (1 - Specificity)\n",
    "# Positive Predictive Power = True Positives / (True Positives + False Positives) Precision"
   ]
  },
  {
   "cell_type": "markdown",
   "metadata": {},
   "source": [
    "##### *A.1.6*<br> <u>*Visualize Best Model :*</u>"
   ]
  },
  {
   "cell_type": "code",
   "execution_count": 262,
   "metadata": {},
   "outputs": [],
   "source": [
    "from sklearn.metrics import (\n",
    "    precision_recall_curve,\n",
    "    classification_report,RocCurveDisplay,\n",
    "    confusion_matrix,f1_score,ConfusionMatrixDisplay\n",
    "    )\n",
    "import pandas as pd\n",
    "import seaborn as sns"
   ]
  },
  {
   "cell_type": "code",
   "execution_count": 263,
   "metadata": {},
   "outputs": [
    {
     "data": {
      "text/html": [
       "<div>\n",
       "<style scoped>\n",
       "    .dataframe tbody tr th:only-of-type {\n",
       "        vertical-align: middle;\n",
       "    }\n",
       "\n",
       "    .dataframe tbody tr th {\n",
       "        vertical-align: top;\n",
       "    }\n",
       "\n",
       "    .dataframe thead th {\n",
       "        text-align: right;\n",
       "    }\n",
       "</style>\n",
       "<table border=\"1\" class=\"dataframe\">\n",
       "  <thead>\n",
       "    <tr style=\"text-align: right;\">\n",
       "      <th></th>\n",
       "      <th>predicted0</th>\n",
       "      <th>predicted1</th>\n",
       "    </tr>\n",
       "  </thead>\n",
       "  <tbody>\n",
       "    <tr>\n",
       "      <th>Actual0</th>\n",
       "      <td>6279</td>\n",
       "      <td>1404</td>\n",
       "    </tr>\n",
       "    <tr>\n",
       "      <th>Actual1</th>\n",
       "      <td>3666</td>\n",
       "      <td>2223</td>\n",
       "    </tr>\n",
       "  </tbody>\n",
       "</table>\n",
       "</div>"
      ],
      "text/plain": [
       "         predicted0  predicted1\n",
       "Actual0        6279        1404\n",
       "Actual1        3666        2223"
      ]
     },
     "execution_count": 263,
     "metadata": {},
     "output_type": "execute_result"
    }
   ],
   "source": [
    "from sklearn.utils.multiclass import unique_labels\n",
    "import pandas as pd\n",
    "unique_labels(ytest)\n",
    "labels=unique_labels(ytest)\n",
    "col_names=[f\"predicted{label}\"for label in labels ]\n",
    "index_names=[f\"Actual{label}\"for label in labels ]\n",
    "pd.DataFrame(confusion_matrix(ytest, model.predict(xtest)),columns=col_names,index=index_names)"
   ]
  },
  {
   "cell_type": "code",
   "execution_count": 264,
   "metadata": {},
   "outputs": [
    {
     "data": {
      "text/plain": [
       "<Axes: >"
      ]
     },
     "execution_count": 264,
     "metadata": {},
     "output_type": "execute_result"
    },
    {
     "data": {
      "image/png": "[encoded data removed]",
      "text/plain": [
       "<Figure size 800x550 with 2 Axes>"
      ]
     },
     "metadata": {},
     "output_type": "display_data"
    }
   ],
   "source": [
    "\n",
    "sns.heatmap(data=pd.DataFrame(confusion_matrix(ytest, model.predict(xtest)),columns=col_names,index=index_names),annot=True)"
   ]
  },
  {
   "cell_type": "code",
   "execution_count": 265,
   "metadata": {},
   "outputs": [
    {
     "data": {
      "image/png": "[encoded data removed]",
      "text/plain": [
       "<Figure size 800x550 with 2 Axes>"
      ]
     },
     "metadata": {},
     "output_type": "display_data"
    }
   ],
   "source": [
    "ConfusionMatrixDisplay(confusion_matrix(ytest, model.predict(xtest))).plot();"
   ]
  },
  {
   "cell_type": "code",
   "execution_count": 267,
   "metadata": {},
   "outputs": [
    {
     "name": "stdout",
     "output_type": "stream",
     "text": [
      "              precision    recall  f1-score   support\n",
      "\n",
      "           0       0.63      0.82      0.71      7683\n",
      "           1       0.61      0.38      0.47      5889\n",
      "\n",
      "    accuracy                           0.63     13572\n",
      "   macro avg       0.62      0.60      0.59     13572\n",
      "weighted avg       0.62      0.63      0.61     13572\n",
      "\n"
     ]
    }
   ],
   "source": [
    "print(classification_report(ytest, model.predict(xtest)))"
   ]
  },
  {
   "cell_type": "code",
   "execution_count": 268,
   "metadata": {},
   "outputs": [],
   "source": [
    "from yellowbrick.classifier import ClassificationReport\n",
    "classes = [\"Male\", \"Femle\"]\n",
    "visualizer = ClassificationReport(DecisionTreeClassifier(), classes=classes, support=True)\n",
    "\n"
   ]
  },
  {
   "cell_type": "code",
   "execution_count": 269,
   "metadata": {},
   "outputs": [
    {
     "ename": "AttributeError",
     "evalue": "'Pipeline' object has no attribute 'show'",
     "output_type": "error",
     "traceback": [
      "\u001b[1;31m---------------------------------------------------------------------------\u001b[0m",
      "\u001b[1;31mAttributeError\u001b[0m                            Traceback (most recent call last)",
      "\u001b[1;32mc:\\Users\\Omar\\Desktop\\Omar_Files\\Python_Analysis\\Kaggle\\6_DataModelling copy.ipynb Cell 50\u001b[0m line \u001b[0;36m6\n\u001b[0;32m      <a href='vscode-notebook-cell:/c%3A/Users/Omar/Desktop/Omar_Files/Python_Analysis/Kaggle/6_DataModelling%20copy.ipynb#Y221sZmlsZQ%3D%3D?line=3'>4</a>\u001b[0m visualizer_Plot\u001b[39m.\u001b[39mfit(xtrain, ytrain)        \u001b[39m# Fit the visualizer and the model\u001b[39;00m\n\u001b[0;32m      <a href='vscode-notebook-cell:/c%3A/Users/Omar/Desktop/Omar_Files/Python_Analysis/Kaggle/6_DataModelling%20copy.ipynb#Y221sZmlsZQ%3D%3D?line=4'>5</a>\u001b[0m visualizer_Plot\u001b[39m.\u001b[39mscore(xtest, ytest)        \u001b[39m# Evaluate the model on the test data\u001b[39;00m\n\u001b[1;32m----> <a href='vscode-notebook-cell:/c%3A/Users/Omar/Desktop/Omar_Files/Python_Analysis/Kaggle/6_DataModelling%20copy.ipynb#Y221sZmlsZQ%3D%3D?line=5'>6</a>\u001b[0m visualizer_Plot\u001b[39m.\u001b[39;49mshow()\n",
      "\u001b[1;31mAttributeError\u001b[0m: 'Pipeline' object has no attribute 'show'"
     ]
    },
    {
     "data": {
      "image/png": "[encoded data removed]",
      "text/plain": [
       "<Figure size 800x550 with 2 Axes>"
      ]
     },
     "metadata": {},
     "output_type": "display_data"
    }
   ],
   "source": [
    "visualizer_Plot= Pipeline(steps=[('preprocessor', preprocessor),\n",
    "                              ('melbourne_model', visualizer)# or ('melbourne_model', RandomForestRegressor(random_state=0,n_estimators=50)) \n",
    "                             ])\n",
    "visualizer_Plot.fit(xtrain, ytrain)        # Fit the visualizer and the model\n",
    "visualizer_Plot.score(xtest, ytest)        # Evaluate the model on the test data\n",
    "visualizer_Plot.show()"
   ]
  },
  {
   "cell_type": "code",
   "execution_count": 270,
   "metadata": {},
   "outputs": [
    {
     "data": {
      "text/plain": [
       "(array([0.        , 0.18274112, 1.        ]),\n",
       " array([0.        , 0.37748344, 1.        ]),\n",
       " array([inf,  1.,  0.]))"
      ]
     },
     "execution_count": 270,
     "metadata": {},
     "output_type": "execute_result"
    }
   ],
   "source": [
    "fpr, tpr, thresholds = roc_curve(ytest, model.predict(xtest))  #false positive rate,true positive rate\n",
    "fpr, tpr, thresholds"
   ]
  },
  {
   "cell_type": "code",
   "execution_count": 271,
   "metadata": {},
   "outputs": [
    {
     "name": "stdout",
     "output_type": "stream",
     "text": [
      "AUC: 0.597\n"
     ]
    }
   ],
   "source": [
    "auc = roc_auc_score(ytest, model.predict(xtest))\n",
    "print('AUC: %.3f' % auc)"
   ]
  },
  {
   "cell_type": "code",
   "execution_count": 272,
   "metadata": {},
   "outputs": [
    {
     "data": {
      "text/plain": [
       "<sklearn.metrics._plot.roc_curve.RocCurveDisplay at 0x18e47d18550>"
      ]
     },
     "execution_count": 272,
     "metadata": {},
     "output_type": "execute_result"
    },
    {
     "data": {
      "image/png": "[encoded data removed]",
      "text/plain": [
       "<Figure size 800x550 with 1 Axes>"
      ]
     },
     "metadata": {},
     "output_type": "display_data"
    }
   ],
   "source": [
    "RocCurveDisplay(fpr=fpr, tpr=tpr, roc_auc=auc,estimator_name=' DecisionTreeClassifier').plot()"
   ]
  },
  {
   "cell_type": "code",
   "execution_count": 325,
   "metadata": {},
   "outputs": [],
   "source": [
    "import plotclassification ,plotly\n",
    "import matplotlib.pyplot as plt\n",
    "\n",
    "\n",
    "# initialize parameters value\n",
    "plot=plotclassification.plot(y=ytest,\n",
    "\t         y_predict_proba=model.predict_proba(xtest),\n",
    "\t         class_name=[\"Female\",\"Male\"])\n"
   ]
  },
  {
   "cell_type": "code",
   "execution_count": 326,
   "metadata": {},
   "outputs": [
    {
     "data": {
      "text/plain": [
       "['Femal', 'male']"
      ]
     },
     "execution_count": 326,
     "metadata": {},
     "output_type": "execute_result"
    }
   ],
   "source": [
    "plot.class_name\n",
    "['Femal','male']"
   ]
  },
  {
   "cell_type": "code",
   "execution_count": 340,
   "metadata": {},
   "outputs": [
    {
     "data": {
      "application/vnd.plotly.v1+json": {
       "config": {
        "plotlyServerURL": "https://plot.ly"
       },
       "data": [
        {
         "colorscale": [
          [
           0,
           "#440154"
          ],
          [
           0.1111111111111111,
           "#482878"
          ],
          [
           0.2222222222222222,
           "#3e4989"
          ],
          [
           0.3333333333333333,
           "#31688e"
          ],
          [
           0.4444444444444444,
           "#26828e"
          ],
          [
           0.5555555555555556,
           "#1f9e89"
          ],
          [
           0.6666666666666666,
           "#35b779"
          ],
          [
           0.7777777777777778,
           "#6ece58"
          ],
          [
           0.8888888888888888,
           "#b5de2b"
          ],
          [
           1,
           "#fde725"
          ]
         ],
         "reversescale": false,
         "showscale": true,
         "type": "heatmap",
         "x": [
          "Female",
          "Male"
         ],
         "y": [
          "Male",
          "Female"
         ],
         "z": [
          [
           3666,
           2223
          ],
          [
           6279,
           1404
          ]
         ]
        }
       ],
       "layout": {
        "annotations": [
         {
          "font": {
           "color": "#FFFFFF"
          },
          "showarrow": false,
          "text": "3666",
          "x": "Female",
          "xref": "x",
          "y": "Male",
          "yref": "y"
         },
         {
          "font": {
           "color": "#FFFFFF"
          },
          "showarrow": false,
          "text": "2223",
          "x": "Male",
          "xref": "x",
          "y": "Male",
          "yref": "y"
         },
         {
          "font": {
           "color": "#000000"
          },
          "showarrow": false,
          "text": "6279",
          "x": "Female",
          "xref": "x",
          "y": "Female",
          "yref": "y"
         },
         {
          "font": {
           "color": "#FFFFFF"
          },
          "showarrow": false,
          "text": "1404",
          "x": "Male",
          "xref": "x",
          "y": "Female",
          "yref": "y"
         }
        ],
        "font": {
         "size": 18
        },
        "height": 800,
        "margin": {
         "b": 10,
         "l": 10,
         "r": 10,
         "t": 200
        },
        "template": {
         "data": {
          "bar": [
           {
            "error_x": {
             "color": "#2a3f5f"
            },
            "error_y": {
             "color": "#2a3f5f"
            },
            "marker": {
             "line": {
              "color": "#E5ECF6",
              "width": 0.5
             },
             "pattern": {
              "fillmode": "overlay",
              "size": 10,
              "solidity": 0.2
             }
            },
            "type": "bar"
           }
          ],
          "barpolar": [
           {
            "marker": {
             "line": {
              "color": "#E5ECF6",
              "width": 0.5
             },
             "pattern": {
              "fillmode": "overlay",
              "size": 10,
              "solidity": 0.2
             }
            },
            "type": "barpolar"
           }
          ],
          "carpet": [
           {
            "aaxis": {
             "endlinecolor": "#2a3f5f",
             "gridcolor": "white",
             "linecolor": "white",
             "minorgridcolor": "white",
             "startlinecolor": "#2a3f5f"
            },
            "baxis": {
             "endlinecolor": "#2a3f5f",
             "gridcolor": "white",
             "linecolor": "white",
             "minorgridcolor": "white",
             "startlinecolor": "#2a3f5f"
            },
            "type": "carpet"
           }
          ],
          "choropleth": [
           {
            "colorbar": {
             "outlinewidth": 0,
             "ticks": ""
            },
            "type": "choropleth"
           }
          ],
          "contour": [
           {
            "colorbar": {
             "outlinewidth": 0,
             "ticks": ""
            },
            "colorscale": [
             [
              0,
              "#0d0887"
             ],
             [
              0.1111111111111111,
              "#46039f"
             ],
             [
              0.2222222222222222,
              "#7201a8"
             ],
             [
              0.3333333333333333,
              "#9c179e"
             ],
             [
              0.4444444444444444,
              "#bd3786"
             ],
             [
              0.5555555555555556,
              "#d8576b"
             ],
             [
              0.6666666666666666,
              "#ed7953"
             ],
             [
              0.7777777777777778,
              "#fb9f3a"
             ],
             [
              0.8888888888888888,
              "#fdca26"
             ],
             [
              1,
              "#f0f921"
             ]
            ],
            "type": "contour"
           }
          ],
          "contourcarpet": [
           {
            "colorbar": {
             "outlinewidth": 0,
             "ticks": ""
            },
            "type": "contourcarpet"
           }
          ],
          "heatmap": [
           {
            "colorbar": {
             "outlinewidth": 0,
             "ticks": ""
            },
            "colorscale": [
             [
              0,
              "#0d0887"
             ],
             [
              0.1111111111111111,
              "#46039f"
             ],
             [
              0.2222222222222222,
              "#7201a8"
             ],
             [
              0.3333333333333333,
              "#9c179e"
             ],
             [
              0.4444444444444444,
              "#bd3786"
             ],
             [
              0.5555555555555556,
              "#d8576b"
             ],
             [
              0.6666666666666666,
              "#ed7953"
             ],
             [
              0.7777777777777778,
              "#fb9f3a"
             ],
             [
              0.8888888888888888,
              "#fdca26"
             ],
             [
              1,
              "#f0f921"
             ]
            ],
            "type": "heatmap"
           }
          ],
          "heatmapgl": [
           {
            "colorbar": {
             "outlinewidth": 0,
             "ticks": ""
            },
            "colorscale": [
             [
              0,
              "#0d0887"
             ],
             [
              0.1111111111111111,
              "#46039f"
             ],
             [
              0.2222222222222222,
              "#7201a8"
             ],
             [
              0.3333333333333333,
              "#9c179e"
             ],
             [
              0.4444444444444444,
              "#bd3786"
             ],
             [
              0.5555555555555556,
              "#d8576b"
             ],
             [
              0.6666666666666666,
              "#ed7953"
             ],
             [
              0.7777777777777778,
              "#fb9f3a"
             ],
             [
              0.8888888888888888,
              "#fdca26"
             ],
             [
              1,
              "#f0f921"
             ]
            ],
            "type": "heatmapgl"
           }
          ],
          "histogram": [
           {
            "marker": {
             "pattern": {
              "fillmode": "overlay",
              "size": 10,
              "solidity": 0.2
             }
            },
            "type": "histogram"
           }
          ],
          "histogram2d": [
           {
            "colorbar": {
             "outlinewidth": 0,
             "ticks": ""
            },
            "colorscale": [
             [
              0,
              "#0d0887"
             ],
             [
              0.1111111111111111,
              "#46039f"
             ],
             [
              0.2222222222222222,
              "#7201a8"
             ],
             [
              0.3333333333333333,
              "#9c179e"
             ],
             [
              0.4444444444444444,
              "#bd3786"
             ],
             [
              0.5555555555555556,
              "#d8576b"
             ],
             [
              0.6666666666666666,
              "#ed7953"
             ],
             [
              0.7777777777777778,
              "#fb9f3a"
             ],
             [
              0.8888888888888888,
              "#fdca26"
             ],
             [
              1,
              "#f0f921"
             ]
            ],
            "type": "histogram2d"
           }
          ],
          "histogram2dcontour": [
           {
            "colorbar": {
             "outlinewidth": 0,
             "ticks": ""
            },
            "colorscale": [
             [
              0,
              "#0d0887"
             ],
             [
              0.1111111111111111,
              "#46039f"
             ],
             [
              0.2222222222222222,
              "#7201a8"
             ],
             [
              0.3333333333333333,
              "#9c179e"
             ],
             [
              0.4444444444444444,
              "#bd3786"
             ],
             [
              0.5555555555555556,
              "#d8576b"
             ],
             [
              0.6666666666666666,
              "#ed7953"
             ],
             [
              0.7777777777777778,
              "#fb9f3a"
             ],
             [
              0.8888888888888888,
              "#fdca26"
             ],
             [
              1,
              "#f0f921"
             ]
            ],
            "type": "histogram2dcontour"
           }
          ],
          "mesh3d": [
           {
            "colorbar": {
             "outlinewidth": 0,
             "ticks": ""
            },
            "type": "mesh3d"
           }
          ],
          "parcoords": [
           {
            "line": {
             "colorbar": {
              "outlinewidth": 0,
              "ticks": ""
             }
            },
            "type": "parcoords"
           }
          ],
          "pie": [
           {
            "automargin": true,
            "type": "pie"
           }
          ],
          "scatter": [
           {
            "fillpattern": {
             "fillmode": "overlay",
             "size": 10,
             "solidity": 0.2
            },
            "type": "scatter"
           }
          ],
          "scatter3d": [
           {
            "line": {
             "colorbar": {
              "outlinewidth": 0,
              "ticks": ""
             }
            },
            "marker": {
             "colorbar": {
              "outlinewidth": 0,
              "ticks": ""
             }
            },
            "type": "scatter3d"
           }
          ],
          "scattercarpet": [
           {
            "marker": {
             "colorbar": {
              "outlinewidth": 0,
              "ticks": ""
             }
            },
            "type": "scattercarpet"
           }
          ],
          "scattergeo": [
           {
            "marker": {
             "colorbar": {
              "outlinewidth": 0,
              "ticks": ""
             }
            },
            "type": "scattergeo"
           }
          ],
          "scattergl": [
           {
            "marker": {
             "colorbar": {
              "outlinewidth": 0,
              "ticks": ""
             }
            },
            "type": "scattergl"
           }
          ],
          "scattermapbox": [
           {
            "marker": {
             "colorbar": {
              "outlinewidth": 0,
              "ticks": ""
             }
            },
            "type": "scattermapbox"
           }
          ],
          "scatterpolar": [
           {
            "marker": {
             "colorbar": {
              "outlinewidth": 0,
              "ticks": ""
             }
            },
            "type": "scatterpolar"
           }
          ],
          "scatterpolargl": [
           {
            "marker": {
             "colorbar": {
              "outlinewidth": 0,
              "ticks": ""
             }
            },
            "type": "scatterpolargl"
           }
          ],
          "scatterternary": [
           {
            "marker": {
             "colorbar": {
              "outlinewidth": 0,
              "ticks": ""
             }
            },
            "type": "scatterternary"
           }
          ],
          "surface": [
           {
            "colorbar": {
             "outlinewidth": 0,
             "ticks": ""
            },
            "colorscale": [
             [
              0,
              "#0d0887"
             ],
             [
              0.1111111111111111,
              "#46039f"
             ],
             [
              0.2222222222222222,
              "#7201a8"
             ],
             [
              0.3333333333333333,
              "#9c179e"
             ],
             [
              0.4444444444444444,
              "#bd3786"
             ],
             [
              0.5555555555555556,
              "#d8576b"
             ],
             [
              0.6666666666666666,
              "#ed7953"
             ],
             [
              0.7777777777777778,
              "#fb9f3a"
             ],
             [
              0.8888888888888888,
              "#fdca26"
             ],
             [
              1,
              "#f0f921"
             ]
            ],
            "type": "surface"
           }
          ],
          "table": [
           {
            "cells": {
             "fill": {
              "color": "#EBF0F8"
             },
             "line": {
              "color": "white"
             }
            },
            "header": {
             "fill": {
              "color": "#C8D4E3"
             },
             "line": {
              "color": "white"
             }
            },
            "type": "table"
           }
          ]
         },
         "layout": {
          "annotationdefaults": {
           "arrowcolor": "#2a3f5f",
           "arrowhead": 0,
           "arrowwidth": 1
          },
          "autotypenumbers": "strict",
          "coloraxis": {
           "colorbar": {
            "outlinewidth": 0,
            "ticks": ""
           }
          },
          "colorscale": {
           "diverging": [
            [
             0,
             "#8e0152"
            ],
            [
             0.1,
             "#c51b7d"
            ],
            [
             0.2,
             "#de77ae"
            ],
            [
             0.3,
             "#f1b6da"
            ],
            [
             0.4,
             "#fde0ef"
            ],
            [
             0.5,
             "#f7f7f7"
            ],
            [
             0.6,
             "#e6f5d0"
            ],
            [
             0.7,
             "#b8e186"
            ],
            [
             0.8,
             "#7fbc41"
            ],
            [
             0.9,
             "#4d9221"
            ],
            [
             1,
             "#276419"
            ]
           ],
           "sequential": [
            [
             0,
             "#0d0887"
            ],
            [
             0.1111111111111111,
             "#46039f"
            ],
            [
             0.2222222222222222,
             "#7201a8"
            ],
            [
             0.3333333333333333,
             "#9c179e"
            ],
            [
             0.4444444444444444,
             "#bd3786"
            ],
            [
             0.5555555555555556,
             "#d8576b"
            ],
            [
             0.6666666666666666,
             "#ed7953"
            ],
            [
             0.7777777777777778,
             "#fb9f3a"
            ],
            [
             0.8888888888888888,
             "#fdca26"
            ],
            [
             1,
             "#f0f921"
            ]
           ],
           "sequentialminus": [
            [
             0,
             "#0d0887"
            ],
            [
             0.1111111111111111,
             "#46039f"
            ],
            [
             0.2222222222222222,
             "#7201a8"
            ],
            [
             0.3333333333333333,
             "#9c179e"
            ],
            [
             0.4444444444444444,
             "#bd3786"
            ],
            [
             0.5555555555555556,
             "#d8576b"
            ],
            [
             0.6666666666666666,
             "#ed7953"
            ],
            [
             0.7777777777777778,
             "#fb9f3a"
            ],
            [
             0.8888888888888888,
             "#fdca26"
            ],
            [
             1,
             "#f0f921"
            ]
           ]
          },
          "colorway": [
           "#636efa",
           "#EF553B",
           "#00cc96",
           "#ab63fa",
           "#FFA15A",
           "#19d3f3",
           "#FF6692",
           "#B6E880",
           "#FF97FF",
           "#FECB52"
          ],
          "font": {
           "color": "#2a3f5f"
          },
          "geo": {
           "bgcolor": "white",
           "lakecolor": "white",
           "landcolor": "#E5ECF6",
           "showlakes": true,
           "showland": true,
           "subunitcolor": "white"
          },
          "hoverlabel": {
           "align": "left"
          },
          "hovermode": "closest",
          "mapbox": {
           "style": "light"
          },
          "paper_bgcolor": "white",
          "plot_bgcolor": "#E5ECF6",
          "polar": {
           "angularaxis": {
            "gridcolor": "white",
            "linecolor": "white",
            "ticks": ""
           },
           "bgcolor": "#E5ECF6",
           "radialaxis": {
            "gridcolor": "white",
            "linecolor": "white",
            "ticks": ""
           }
          },
          "scene": {
           "xaxis": {
            "backgroundcolor": "#E5ECF6",
            "gridcolor": "white",
            "gridwidth": 2,
            "linecolor": "white",
            "showbackground": true,
            "ticks": "",
            "zerolinecolor": "white"
           },
           "yaxis": {
            "backgroundcolor": "#E5ECF6",
            "gridcolor": "white",
            "gridwidth": 2,
            "linecolor": "white",
            "showbackground": true,
            "ticks": "",
            "zerolinecolor": "white"
           },
           "zaxis": {
            "backgroundcolor": "#E5ECF6",
            "gridcolor": "white",
            "gridwidth": 2,
            "linecolor": "white",
            "showbackground": true,
            "ticks": "",
            "zerolinecolor": "white"
           }
          },
          "shapedefaults": {
           "line": {
            "color": "#2a3f5f"
           }
          },
          "ternary": {
           "aaxis": {
            "gridcolor": "white",
            "linecolor": "white",
            "ticks": ""
           },
           "baxis": {
            "gridcolor": "white",
            "linecolor": "white",
            "ticks": ""
           },
           "bgcolor": "#E5ECF6",
           "caxis": {
            "gridcolor": "white",
            "linecolor": "white",
            "ticks": ""
           }
          },
          "title": {
           "x": 0.05
          },
          "xaxis": {
           "automargin": true,
           "gridcolor": "white",
           "linecolor": "white",
           "ticks": "",
           "title": {
            "standoff": 15
           },
           "zerolinecolor": "white",
           "zerolinewidth": 2
          },
          "yaxis": {
           "automargin": true,
           "gridcolor": "white",
           "linecolor": "white",
           "ticks": "",
           "title": {
            "standoff": 15
           },
           "zerolinecolor": "white",
           "zerolinewidth": 2
          }
         }
        },
        "title": {
         "text": "Confusion Matrix Plot\n\n",
         "x": 0.5
        },
        "width": 800,
        "xaxis": {
         "dtick": 1,
         "gridcolor": "rgb(0, 0, 0)",
         "side": "top",
         "ticks": "",
         "title": {
          "text": "Actual Values"
         }
        },
        "yaxis": {
         "dtick": 1,
         "ticks": "",
         "ticksuffix": "  ",
         "title": {
          "text": "Predicted Values"
         }
        }
       }
      }
     },
     "metadata": {},
     "output_type": "display_data"
    }
   ],
   "source": [
    "#  confusion matrix plot\n",
    "plot.plot_confusion_matrix()"
   ]
  },
  {
   "cell_type": "code",
   "execution_count": 322,
   "metadata": {},
   "outputs": [
    {
     "data": {
      "application/vnd.plotly.v1+json": {
       "config": {
        "plotlyServerURL": "https://plot.ly"
       },
       "data": [
        {
         "colorscale": [
          [
           0,
           "#440154"
          ],
          [
           0.1111111111111111,
           "#482878"
          ],
          [
           0.2222222222222222,
           "#3e4989"
          ],
          [
           0.3333333333333333,
           "#31688e"
          ],
          [
           0.4444444444444444,
           "#26828e"
          ],
          [
           0.5555555555555556,
           "#1f9e89"
          ],
          [
           0.6666666666666666,
           "#35b779"
          ],
          [
           0.7777777777777778,
           "#6ece58"
          ],
          [
           0.8888888888888888,
           "#b5de2b"
          ],
          [
           1,
           "#fde725"
          ]
         ],
         "reversescale": false,
         "showscale": true,
         "type": "heatmap",
         "x": [
          "Precision",
          "Recall",
          "F1-score"
         ],
         "y": [
          "weighted avg",
          "micro avg",
          "Male",
          "Female"
         ],
         "z": [
          [
           0.62,
           0.63,
           0.61
          ],
          [
           0.63,
           0.63,
           0.63
          ],
          [
           0.61,
           0.38,
           0.47
          ],
          [
           0.63,
           0.82,
           0.71
          ]
         ]
        }
       ],
       "layout": {
        "annotations": [
         {
          "font": {
           "color": "#000000"
          },
          "showarrow": false,
          "text": "0.62",
          "x": "Precision",
          "xref": "x",
          "y": "weighted avg",
          "yref": "y"
         },
         {
          "font": {
           "color": "#000000"
          },
          "showarrow": false,
          "text": "0.63",
          "x": "Recall",
          "xref": "x",
          "y": "weighted avg",
          "yref": "y"
         },
         {
          "font": {
           "color": "#000000"
          },
          "showarrow": false,
          "text": "0.61",
          "x": "F1-score",
          "xref": "x",
          "y": "weighted avg",
          "yref": "y"
         },
         {
          "font": {
           "color": "#000000"
          },
          "showarrow": false,
          "text": "0.63",
          "x": "Precision",
          "xref": "x",
          "y": "micro avg",
          "yref": "y"
         },
         {
          "font": {
           "color": "#000000"
          },
          "showarrow": false,
          "text": "0.63",
          "x": "Recall",
          "xref": "x",
          "y": "micro avg",
          "yref": "y"
         },
         {
          "font": {
           "color": "#000000"
          },
          "showarrow": false,
          "text": "0.63",
          "x": "F1-score",
          "xref": "x",
          "y": "micro avg",
          "yref": "y"
         },
         {
          "font": {
           "color": "#000000"
          },
          "showarrow": false,
          "text": "0.61",
          "x": "Precision",
          "xref": "x",
          "y": "Male",
          "yref": "y"
         },
         {
          "font": {
           "color": "#FFFFFF"
          },
          "showarrow": false,
          "text": "0.38",
          "x": "Recall",
          "xref": "x",
          "y": "Male",
          "yref": "y"
         },
         {
          "font": {
           "color": "#FFFFFF"
          },
          "showarrow": false,
          "text": "0.47",
          "x": "F1-score",
          "xref": "x",
          "y": "Male",
          "yref": "y"
         },
         {
          "font": {
           "color": "#000000"
          },
          "showarrow": false,
          "text": "0.63",
          "x": "Precision",
          "xref": "x",
          "y": "Female",
          "yref": "y"
         },
         {
          "font": {
           "color": "#000000"
          },
          "showarrow": false,
          "text": "0.82",
          "x": "Recall",
          "xref": "x",
          "y": "Female",
          "yref": "y"
         },
         {
          "font": {
           "color": "#000000"
          },
          "showarrow": false,
          "text": "0.71",
          "x": "F1-score",
          "xref": "x",
          "y": "Female",
          "yref": "y"
         }
        ],
        "font": {
         "size": 18
        },
        "height": 800,
        "margin": {
         "b": 10,
         "l": 10,
         "r": 10,
         "t": 200
        },
        "template": {
         "data": {
          "bar": [
           {
            "error_x": {
             "color": "#2a3f5f"
            },
            "error_y": {
             "color": "#2a3f5f"
            },
            "marker": {
             "line": {
              "color": "#E5ECF6",
              "width": 0.5
             },
             "pattern": {
              "fillmode": "overlay",
              "size": 10,
              "solidity": 0.2
             }
            },
            "type": "bar"
           }
          ],
          "barpolar": [
           {
            "marker": {
             "line": {
              "color": "#E5ECF6",
              "width": 0.5
             },
             "pattern": {
              "fillmode": "overlay",
              "size": 10,
              "solidity": 0.2
             }
            },
            "type": "barpolar"
           }
          ],
          "carpet": [
           {
            "aaxis": {
             "endlinecolor": "#2a3f5f",
             "gridcolor": "white",
             "linecolor": "white",
             "minorgridcolor": "white",
             "startlinecolor": "#2a3f5f"
            },
            "baxis": {
             "endlinecolor": "#2a3f5f",
             "gridcolor": "white",
             "linecolor": "white",
             "minorgridcolor": "white",
             "startlinecolor": "#2a3f5f"
            },
            "type": "carpet"
           }
          ],
          "choropleth": [
           {
            "colorbar": {
             "outlinewidth": 0,
             "ticks": ""
            },
            "type": "choropleth"
           }
          ],
          "contour": [
           {
            "colorbar": {
             "outlinewidth": 0,
             "ticks": ""
            },
            "colorscale": [
             [
              0,
              "#0d0887"
             ],
             [
              0.1111111111111111,
              "#46039f"
             ],
             [
              0.2222222222222222,
              "#7201a8"
             ],
             [
              0.3333333333333333,
              "#9c179e"
             ],
             [
              0.4444444444444444,
              "#bd3786"
             ],
             [
              0.5555555555555556,
              "#d8576b"
             ],
             [
              0.6666666666666666,
              "#ed7953"
             ],
             [
              0.7777777777777778,
              "#fb9f3a"
             ],
             [
              0.8888888888888888,
              "#fdca26"
             ],
             [
              1,
              "#f0f921"
             ]
            ],
            "type": "contour"
           }
          ],
          "contourcarpet": [
           {
            "colorbar": {
             "outlinewidth": 0,
             "ticks": ""
            },
            "type": "contourcarpet"
           }
          ],
          "heatmap": [
           {
            "colorbar": {
             "outlinewidth": 0,
             "ticks": ""
            },
            "colorscale": [
             [
              0,
              "#0d0887"
             ],
             [
              0.1111111111111111,
              "#46039f"
             ],
             [
              0.2222222222222222,
              "#7201a8"
             ],
             [
              0.3333333333333333,
              "#9c179e"
             ],
             [
              0.4444444444444444,
              "#bd3786"
             ],
             [
              0.5555555555555556,
              "#d8576b"
             ],
             [
              0.6666666666666666,
              "#ed7953"
             ],
             [
              0.7777777777777778,
              "#fb9f3a"
             ],
             [
              0.8888888888888888,
              "#fdca26"
             ],
             [
              1,
              "#f0f921"
             ]
            ],
            "type": "heatmap"
           }
          ],
          "heatmapgl": [
           {
            "colorbar": {
             "outlinewidth": 0,
             "ticks": ""
            },
            "colorscale": [
             [
              0,
              "#0d0887"
             ],
             [
              0.1111111111111111,
              "#46039f"
             ],
             [
              0.2222222222222222,
              "#7201a8"
             ],
             [
              0.3333333333333333,
              "#9c179e"
             ],
             [
              0.4444444444444444,
              "#bd3786"
             ],
             [
              0.5555555555555556,
              "#d8576b"
             ],
             [
              0.6666666666666666,
              "#ed7953"
             ],
             [
              0.7777777777777778,
              "#fb9f3a"
             ],
             [
              0.8888888888888888,
              "#fdca26"
             ],
             [
              1,
              "#f0f921"
             ]
            ],
            "type": "heatmapgl"
           }
          ],
          "histogram": [
           {
            "marker": {
             "pattern": {
              "fillmode": "overlay",
              "size": 10,
              "solidity": 0.2
             }
            },
            "type": "histogram"
           }
          ],
          "histogram2d": [
           {
            "colorbar": {
             "outlinewidth": 0,
             "ticks": ""
            },
            "colorscale": [
             [
              0,
              "#0d0887"
             ],
             [
              0.1111111111111111,
              "#46039f"
             ],
             [
              0.2222222222222222,
              "#7201a8"
             ],
             [
              0.3333333333333333,
              "#9c179e"
             ],
             [
              0.4444444444444444,
              "#bd3786"
             ],
             [
              0.5555555555555556,
              "#d8576b"
             ],
             [
              0.6666666666666666,
              "#ed7953"
             ],
             [
              0.7777777777777778,
              "#fb9f3a"
             ],
             [
              0.8888888888888888,
              "#fdca26"
             ],
             [
              1,
              "#f0f921"
             ]
            ],
            "type": "histogram2d"
           }
          ],
          "histogram2dcontour": [
           {
            "colorbar": {
             "outlinewidth": 0,
             "ticks": ""
            },
            "colorscale": [
             [
              0,
              "#0d0887"
             ],
             [
              0.1111111111111111,
              "#46039f"
             ],
             [
              0.2222222222222222,
              "#7201a8"
             ],
             [
              0.3333333333333333,
              "#9c179e"
             ],
             [
              0.4444444444444444,
              "#bd3786"
             ],
             [
              0.5555555555555556,
              "#d8576b"
             ],
             [
              0.6666666666666666,
              "#ed7953"
             ],
             [
              0.7777777777777778,
              "#fb9f3a"
             ],
             [
              0.8888888888888888,
              "#fdca26"
             ],
             [
              1,
              "#f0f921"
             ]
            ],
            "type": "histogram2dcontour"
           }
          ],
          "mesh3d": [
           {
            "colorbar": {
             "outlinewidth": 0,
             "ticks": ""
            },
            "type": "mesh3d"
           }
          ],
          "parcoords": [
           {
            "line": {
             "colorbar": {
              "outlinewidth": 0,
              "ticks": ""
             }
            },
            "type": "parcoords"
           }
          ],
          "pie": [
           {
            "automargin": true,
            "type": "pie"
           }
          ],
          "scatter": [
           {
            "fillpattern": {
             "fillmode": "overlay",
             "size": 10,
             "solidity": 0.2
            },
            "type": "scatter"
           }
          ],
          "scatter3d": [
           {
            "line": {
             "colorbar": {
              "outlinewidth": 0,
              "ticks": ""
             }
            },
            "marker": {
             "colorbar": {
              "outlinewidth": 0,
              "ticks": ""
             }
            },
            "type": "scatter3d"
           }
          ],
          "scattercarpet": [
           {
            "marker": {
             "colorbar": {
              "outlinewidth": 0,
              "ticks": ""
             }
            },
            "type": "scattercarpet"
           }
          ],
          "scattergeo": [
           {
            "marker": {
             "colorbar": {
              "outlinewidth": 0,
              "ticks": ""
             }
            },
            "type": "scattergeo"
           }
          ],
          "scattergl": [
           {
            "marker": {
             "colorbar": {
              "outlinewidth": 0,
              "ticks": ""
             }
            },
            "type": "scattergl"
           }
          ],
          "scattermapbox": [
           {
            "marker": {
             "colorbar": {
              "outlinewidth": 0,
              "ticks": ""
             }
            },
            "type": "scattermapbox"
           }
          ],
          "scatterpolar": [
           {
            "marker": {
             "colorbar": {
              "outlinewidth": 0,
              "ticks": ""
             }
            },
            "type": "scatterpolar"
           }
          ],
          "scatterpolargl": [
           {
            "marker": {
             "colorbar": {
              "outlinewidth": 0,
              "ticks": ""
             }
            },
            "type": "scatterpolargl"
           }
          ],
          "scatterternary": [
           {
            "marker": {
             "colorbar": {
              "outlinewidth": 0,
              "ticks": ""
             }
            },
            "type": "scatterternary"
           }
          ],
          "surface": [
           {
            "colorbar": {
             "outlinewidth": 0,
             "ticks": ""
            },
            "colorscale": [
             [
              0,
              "#0d0887"
             ],
             [
              0.1111111111111111,
              "#46039f"
             ],
             [
              0.2222222222222222,
              "#7201a8"
             ],
             [
              0.3333333333333333,
              "#9c179e"
             ],
             [
              0.4444444444444444,
              "#bd3786"
             ],
             [
              0.5555555555555556,
              "#d8576b"
             ],
             [
              0.6666666666666666,
              "#ed7953"
             ],
             [
              0.7777777777777778,
              "#fb9f3a"
             ],
             [
              0.8888888888888888,
              "#fdca26"
             ],
             [
              1,
              "#f0f921"
             ]
            ],
            "type": "surface"
           }
          ],
          "table": [
           {
            "cells": {
             "fill": {
              "color": "#EBF0F8"
             },
             "line": {
              "color": "white"
             }
            },
            "header": {
             "fill": {
              "color": "#C8D4E3"
             },
             "line": {
              "color": "white"
             }
            },
            "type": "table"
           }
          ]
         },
         "layout": {
          "annotationdefaults": {
           "arrowcolor": "#2a3f5f",
           "arrowhead": 0,
           "arrowwidth": 1
          },
          "autotypenumbers": "strict",
          "coloraxis": {
           "colorbar": {
            "outlinewidth": 0,
            "ticks": ""
           }
          },
          "colorscale": {
           "diverging": [
            [
             0,
             "#8e0152"
            ],
            [
             0.1,
             "#c51b7d"
            ],
            [
             0.2,
             "#de77ae"
            ],
            [
             0.3,
             "#f1b6da"
            ],
            [
             0.4,
             "#fde0ef"
            ],
            [
             0.5,
             "#f7f7f7"
            ],
            [
             0.6,
             "#e6f5d0"
            ],
            [
             0.7,
             "#b8e186"
            ],
            [
             0.8,
             "#7fbc41"
            ],
            [
             0.9,
             "#4d9221"
            ],
            [
             1,
             "#276419"
            ]
           ],
           "sequential": [
            [
             0,
             "#0d0887"
            ],
            [
             0.1111111111111111,
             "#46039f"
            ],
            [
             0.2222222222222222,
             "#7201a8"
            ],
            [
             0.3333333333333333,
             "#9c179e"
            ],
            [
             0.4444444444444444,
             "#bd3786"
            ],
            [
             0.5555555555555556,
             "#d8576b"
            ],
            [
             0.6666666666666666,
             "#ed7953"
            ],
            [
             0.7777777777777778,
             "#fb9f3a"
            ],
            [
             0.8888888888888888,
             "#fdca26"
            ],
            [
             1,
             "#f0f921"
            ]
           ],
           "sequentialminus": [
            [
             0,
             "#0d0887"
            ],
            [
             0.1111111111111111,
             "#46039f"
            ],
            [
             0.2222222222222222,
             "#7201a8"
            ],
            [
             0.3333333333333333,
             "#9c179e"
            ],
            [
             0.4444444444444444,
             "#bd3786"
            ],
            [
             0.5555555555555556,
             "#d8576b"
            ],
            [
             0.6666666666666666,
             "#ed7953"
            ],
            [
             0.7777777777777778,
             "#fb9f3a"
            ],
            [
             0.8888888888888888,
             "#fdca26"
            ],
            [
             1,
             "#f0f921"
            ]
           ]
          },
          "colorway": [
           "#636efa",
           "#EF553B",
           "#00cc96",
           "#ab63fa",
           "#FFA15A",
           "#19d3f3",
           "#FF6692",
           "#B6E880",
           "#FF97FF",
           "#FECB52"
          ],
          "font": {
           "color": "#2a3f5f"
          },
          "geo": {
           "bgcolor": "white",
           "lakecolor": "white",
           "landcolor": "#E5ECF6",
           "showlakes": true,
           "showland": true,
           "subunitcolor": "white"
          },
          "hoverlabel": {
           "align": "left"
          },
          "hovermode": "closest",
          "mapbox": {
           "style": "light"
          },
          "paper_bgcolor": "white",
          "plot_bgcolor": "#E5ECF6",
          "polar": {
           "angularaxis": {
            "gridcolor": "white",
            "linecolor": "white",
            "ticks": ""
           },
           "bgcolor": "#E5ECF6",
           "radialaxis": {
            "gridcolor": "white",
            "linecolor": "white",
            "ticks": ""
           }
          },
          "scene": {
           "xaxis": {
            "backgroundcolor": "#E5ECF6",
            "gridcolor": "white",
            "gridwidth": 2,
            "linecolor": "white",
            "showbackground": true,
            "ticks": "",
            "zerolinecolor": "white"
           },
           "yaxis": {
            "backgroundcolor": "#E5ECF6",
            "gridcolor": "white",
            "gridwidth": 2,
            "linecolor": "white",
            "showbackground": true,
            "ticks": "",
            "zerolinecolor": "white"
           },
           "zaxis": {
            "backgroundcolor": "#E5ECF6",
            "gridcolor": "white",
            "gridwidth": 2,
            "linecolor": "white",
            "showbackground": true,
            "ticks": "",
            "zerolinecolor": "white"
           }
          },
          "shapedefaults": {
           "line": {
            "color": "#2a3f5f"
           }
          },
          "ternary": {
           "aaxis": {
            "gridcolor": "white",
            "linecolor": "white",
            "ticks": ""
           },
           "baxis": {
            "gridcolor": "white",
            "linecolor": "white",
            "ticks": ""
           },
           "bgcolor": "#E5ECF6",
           "caxis": {
            "gridcolor": "white",
            "linecolor": "white",
            "ticks": ""
           }
          },
          "title": {
           "x": 0.05
          },
          "xaxis": {
           "automargin": true,
           "gridcolor": "white",
           "linecolor": "white",
           "ticks": "",
           "title": {
            "standoff": 15
           },
           "zerolinecolor": "white",
           "zerolinewidth": 2
          },
          "yaxis": {
           "automargin": true,
           "gridcolor": "white",
           "linecolor": "white",
           "ticks": "",
           "title": {
            "standoff": 15
           },
           "zerolinecolor": "white",
           "zerolinewidth": 2
          }
         }
        },
        "title": {
         "text": "Classification Report Plot",
         "x": 0.5
        },
        "width": 800,
        "xaxis": {
         "dtick": 1,
         "gridcolor": "rgb(0, 0, 0)",
         "side": "top",
         "ticks": ""
        },
        "yaxis": {
         "dtick": 1,
         "ticks": "",
         "ticksuffix": "  "
        }
       }
      }
     },
     "metadata": {},
     "output_type": "display_data"
    }
   ],
   "source": [
    "\n",
    "plot.plot_classification_report()\n"
   ]
  },
  {
   "cell_type": "code",
   "execution_count": 304,
   "metadata": {},
   "outputs": [
    {
     "data": {
      "application/vnd.plotly.v1+json": {
       "config": {
        "plotlyServerURL": "https://plot.ly"
       },
       "data": [
        {
         "mode": "lines",
         "name": "Female (AP=0.66)",
         "type": "scatter",
         "x": [
          1,
          0.9890667707926591,
          0.9890667707926591,
          0.9888064558115319,
          0.9886762983209684,
          0.9884159833398412,
          0.988155668358714,
          0.9878953533775868,
          0.9877651958870233,
          0.9876350383964597,
          0.9873747234153325,
          0.9873747234153325,
          0.9871144084342054,
          0.9869842509436418,
          0.9867239359625146,
          0.9862033060002603,
          0.9859429910191332,
          0.9859429910191332,
          0.985682676038006,
          0.985682676038006,
          0.9847715736040609,
          0.9836001561889887,
          0.9836001561889887,
          0.9832096837172979,
          0.9832096837172979,
          0.9830795262267343,
          0.9828192112456072,
          0.9822985812833529,
          0.9820382663022257,
          0.9820382663022257,
          0.9816477938305349,
          0.980997006377717,
          0.9806065339060263,
          0.9806065339060263,
          0.9802160614343356,
          0.979435116490954,
          0.9770922816608095,
          0.9760510217363009,
          0.9756605492646102,
          0.975400234283483,
          0.9747494468306651,
          0.9746192893401016,
          0.9735780294155929,
          0.9730573994533386,
          0.9727970844722114,
          0.972276454509957,
          0.9713653520760119,
          0.9705844071326305,
          0.9701939346609397,
          0.9694129897175583,
          0.9652479500195236,
          0.96511779252896,
          0.9640765326044514,
          0.9632955876610699,
          0.9631654301705063,
          0.9630352726799427,
          0.9629051151893792,
          0.9623844852271248,
          0.9614733827931797,
          0.9614733827931797,
          0.9614733827931797,
          0.9603019653781075,
          0.9588702329819081,
          0.9584797605102173,
          0.9580892880385267,
          0.957959130547963,
          0.9576988155668359,
          0.9565273981517637,
          0.9540544058310556,
          0.9537940908499284,
          0.9534036183782376,
          0.9527528309254197,
          0.9526226734348562,
          0.9500195236235845,
          0.949238578680203,
          0.94767668879344,
          0.9471560588311857,
          0.9462449563972407,
          0.9446830665104777,
          0.9435116490954054,
          0.9424703891708968,
          0.9423402316803332,
          0.9422100741897697,
          0.9344006247559548,
          0.9341403097748275,
          0.9337498373031368,
          0.9333593648314461,
          0.9330990498503189,
          0.932448262397501,
          0.931797474944683,
          0.9311466874918651,
          0.9303657425484837,
          0.9301054275673565,
          0.9278927502277756,
          0.9272419627749577,
          0.9262007028504491,
          0.9259403878693219,
          0.9243784979825589,
          0.923727710529741,
          0.9222959781335416,
          0.9212547182090329,
          0.9208642457373422,
          0.920603930756215,
          0.9203436157750878,
          0.9199531433033971,
          0.9163087335676168,
          0.9163087335676168,
          0.9144865286997267,
          0.9135754262657816,
          0.9129246388129637,
          0.9127944813224002,
          0.9117532213978915,
          0.9079786541715476,
          0.9073278667187297,
          0.9064167642847846,
          0.906286606794221,
          0.9045945594168945,
          0.9039437719640765,
          0.9038136144735129,
          0.9019914096056229,
          0.9014707796433685,
          0.9005596772094234,
          0.8999088897566055,
          0.8996485747754783,
          0.8993882597943512,
          0.8944422751529351,
          0.8922295978133542,
          0.8897566054926461,
          0.8897566054926461,
          0.8891058180398282,
          0.8866328257191202,
          0.8855915657946115,
          0.8825979435116491,
          0.881686841077704,
          0.8794741637381231,
          0.877651958870233,
          0.8772614863985423,
          0.8763503839645972,
          0.8743980216061434,
          0.8737472341533256,
          0.869582194455291,
          0.868931407002473,
          0.8682806195496551,
          0.8661980997006378,
          0.8637251073799297,
          0.8629441624365483,
          0.8604711701158402,
          0.8560458154366783,
          0.8533125081348432,
          0.852141090719771,
          0.849017310946245,
          0.8482363660028635,
          0.8466744761161005,
          0.843420538852011,
          0.8419888064558115,
          0.8379539242483405,
          0.8375634517766497,
          0.8339190420408694,
          0.8328777821163608,
          0.8261095926070545,
          0.8255889626448002,
          0.8218143954184564,
          0.8193414030977483,
          0.817258883248731,
          0.8019002993622283,
          0.7987765195887023,
          0.7969543147208121,
          0.7953924248340491,
          0.7935702199661591,
          0.7931797474944683,
          0.7930495900039047,
          0.7922686450605232,
          0.7900559677209423,
          0.7883639203436158,
          0.7868020304568528,
          0.7849798255889626,
          0.7821163607965639,
          0.7793830534947286,
          0.7779513210985293,
          0.7757386437589483,
          0.7735259664193674,
          0.7711831315892229,
          0.767148249381752,
          0.7646752570610439,
          0.7629832096837172,
          0.759989587400755,
          0.7594689574385006,
          0.7576467525706104,
          0.7549134452687752,
          0.754653130287648,
          0.7533515553820123,
          0.7508785630613042,
          0.7485357282311597,
          0.7478849407783418,
          0.7471039958349603,
          0.7447611610048158,
          0.7428087986463621,
          0.7399453338539633,
          0.7361707666276194,
          0.7352596641936744,
          0.7334374593257842,
          0.7273200572692958,
          0.7248470649485877,
          0.7238058050240791,
          0.7161265130808278,
          0.7146947806846284,
          0.7131328907978655,
          0.7111805284394117,
          0.709228166080958,
          0.7068853312508134,
          0.7058440713263048,
          0.7054535988546141,
          0.7037615514772875,
          0.700507614213198,
          0.6994663542886893,
          0.6947806846284004,
          0.688663282571912,
          0.6868410777040219,
          0.681504620590915,
          0.6779903683456983,
          0.672784068723155,
          0.668098399062866,
          0.6669269816477938,
          0.6653650917610309,
          0.6601587921384876,
          0.6558635949498893,
          0.6530001301574906,
          0.648184303006638,
          0.6475335155538201,
          0.6462319406481843,
          0.643498633346349,
          0.6410256410256411,
          0.6359494988936614,
          0.6326955616295717,
          0.6321749316673174,
          0.6303527267994273,
          0.6280098919692828,
          0.6255368996485747,
          0.6203306000260315,
          0.6172068202525055,
          0.6134322530261617,
          0.6100481582715085,
          0.6074450084602369,
          0.6051021736300924,
          0.6022387088376936,
          0.6006768189509306,
          0.5982038266302225,
          0.5961213067812052,
          0.5928673695171157,
          0.5906546921775349,
          0.5894832747624625,
          0.5859690225172459,
          0.5823246127814655,
          0.5816738253286476,
          0.5814135103475205,
          0.579070675517376,
          0.5746453208382143,
          0.5736040609137056,
          0.571912013536379,
          0.5689183912534166,
          0.5680072888194716,
          0.5641025641025641,
          0.560067681895093,
          0.5578550045555122,
          0.5531693348952232,
          0.5424964206690095,
          0.5396329558766108,
          0.5337758688012495,
          0.5318235064427957,
          0.5244045294806716,
          0.5198490173109462,
          0.5195887023298191,
          0.516204607575166,
          0.5091761030847325,
          0.5091761030847325,
          0.5067031107640245,
          0.5000650787452818,
          0.49837303136795524,
          0.49290641676428476,
          0.49160484185864894,
          0.49095405440583106,
          0.4899127944813224,
          0.4890016920473773,
          0.48210334504750746,
          0.4776779903683457,
          0.4720812182741117,
          0.4653130287648054,
          0.46388129636860603,
          0.45711310685929973,
          0.45216712221788363,
          0.439281530652089,
          0.43850058570870754,
          0.4358974358974359,
          0.4353768059351816,
          0.43121176623714697,
          0.4301705063126383,
          0.42821814395418456,
          0.4228816868410777,
          0.4196277495769882,
          0.41663412729402577,
          0.4148119224261356,
          0.4099960952752831,
          0.4093453078224652,
          0.4059612130678121,
          0.4017961733697774,
          0.40088507093583237,
          0.3998438110113237,
          0.39385656644539896,
          0.38865026682285564,
          0.3826630222569309,
          0.3784979825588963,
          0.3765456202004425,
          0.3667838084081739,
          0.3609267213328127,
          0.3565013666536509,
          0.35546010672914224,
          0.3528569569178706,
          0.3507744370688533,
          0.3472601848236366,
          0.3450475074840557,
          0.34192372771052976,
          0.338409475465313,
          0.33385396329558764,
          0.3295587661069895,
          0.32695561629571784,
          0.3253937264089548,
          0.3227905765976832,
          0.32018742678641154,
          0.3140700247299232,
          0.313809709748796,
          0.3079526226734349,
          0.30730183522061694,
          0.302616165560328,
          0.3018352206169465,
          0.29714955095665757,
          0.2931146687491865,
          0.28920994403227906,
          0.2881686841077704,
          0.2830925419757907,
          0.27918781725888325,
          0.2786671872966289,
          0.2707275803722504,
          0.2672133281270337,
          0.26669269816477936,
          0.2616165560327997,
          0.25628009891969283,
          0.2557594689574385,
          0.2484706494858779,
          0.24469608225953404,
          0.24144214499544447,
          0.2392294676558636,
          0.23441364050501107,
          0.23324222308993883,
          0.23024860080697643,
          0.22647403358063256,
          0.224781986203306,
          0.22361056878823377,
          0.22217883639203437,
          0.22152804893921646,
          0.21515033190160093,
          0.21059481973187558,
          0.20955355980736692,
          0.20773135493947675,
          0.20682025250553168,
          0.2003123779773526,
          0.19718859820382664,
          0.19419497592086424,
          0.19055056618508395,
          0.18768710139268516,
          0.1828712742418326,
          0.18000780944943381,
          0.17037615514772875,
          0.16477938305349474,
          0.16334765065729534,
          0.16282702069504099,
          0.16256670571391382,
          0.1599635559026422,
          0.15749056358193414,
          0.15553820122348042,
          0.15098268905375503,
          0.14890016920473773,
          0.14317323961994013,
          0.1412208772614864,
          0.13731615254457893,
          0.13653520760119744,
          0.13224001041259925,
          0.12989717558245478,
          0.1253416634127294,
          0.12286867109202135,
          0.12234804112976702,
          0.12130678120525837,
          0.12039567877131328,
          0.11831315892229598,
          0.11154496941298972,
          0.10894181960171807,
          0.10777040218664584,
          0.10490693739424704,
          0.10334504750748405,
          0.10152284263959391,
          0.09202134582845242,
          0.08759599114929065,
          0.08330079396069244,
          0.08121827411167512,
          0.07288819471560588,
          0.07054535988546141,
          0.07054535988546141,
          0.07015488741377066,
          0.069113627489262,
          0.06794221007418977,
          0.06690095014968112,
          0.06455811531953663,
          0.062345437979955745,
          0.060653390602629184,
          0.05778992581023038,
          0.05583756345177665,
          0.05466614603670441,
          0.05323441364050501,
          0.05128205128205128,
          0.050761421319796954,
          0.04867890147077964,
          0.04763764154627099,
          0.04672653911232592,
          0.044644019263308604,
          0.03995834960301965,
          0.03956787713132891,
          0.038917089678511,
          0.036704412338930105,
          0.035142522452167126,
          0.03462189248991279,
          0.03175842769751399,
          0.02837433294286086,
          0.02707275803722504,
          0.02603149811271639,
          0.025380710659898477,
          0.023948978263699076,
          0.023818820773135494,
          0.02342834830144475,
          0.02290771833919042,
          0.02095535598073669,
          0.020434726018482365,
          0.019002993622282964,
          0.017831576207210726,
          0.017050631263829233,
          0.016139528829884158,
          0.015749056358193413,
          0.01548874137706625,
          0.013666536509176102,
          0.01353637901861252,
          0.013015749056358194,
          0.011844331641285956,
          0.01145385916959521,
          0.010672914226213718,
          0
         ],
         "y": [
          0.5660919540229885,
          0.5708383413461539,
          0.571009918845807,
          0.5711600631531464,
          0.5713426100037609,
          0.5713210953957267,
          0.5715576300534517,
          0.5716222322638952,
          0.5718483912289956,
          0.5719885421377958,
          0.5723123349679367,
          0.5723987021806384,
          0.5729827742520399,
          0.5729938038385975,
          0.573189172841373,
          0.573928192698076,
          0.5741246020918599,
          0.5742551739822607,
          0.574669904386098,
          0.57493167324628,
          0.5757990867579909,
          0.5759030635573845,
          0.5759469552625562,
          0.5762453276375009,
          0.5766852431483319,
          0.5770053475935829,
          0.5779121383744068,
          0.5781369695112609,
          0.5782052264541344,
          0.5785155650973777,
          0.5788625374165324,
          0.5788786482334869,
          0.5788705339992316,
          0.5790039963110974,
          0.5794414095560514,
          0.5797380585516179,
          0.5810371517027864,
          0.5816334445047701,
          0.5817165916498526,
          0.581787128328546,
          0.5825295581829496,
          0.5828144458281445,
          0.5839188134270101,
          0.5840625,
          0.584454175789803,
          0.5848731600375822,
          0.5849662956576266,
          0.5850921930168693,
          0.5852241501138415,
          0.5853505187048098,
          0.5876386687797147,
          0.5880253766851705,
          0.5881372081943783,
          0.5887359796356694,
          0.5889375248706725,
          0.5890454581641589,
          0.5892003822873526,
          0.5894451530612245,
          0.5898275311402108,
          0.5905820275023984,
          0.5907237105157936,
          0.5916125410953412,
          0.5919170817933472,
          0.5923423423423423,
          0.5926731078904992,
          0.5929745407669996,
          0.5933392468349327,
          0.5937146550331233,
          0.5942922004215988,
          0.5946603911385214,
          0.5948030856678846,
          0.5950735712543695,
          0.5954763648197868,
          0.5965672251736821,
          0.5965156224439718,
          0.5965587873822205,
          0.5972096840377513,
          0.5973215019308191,
          0.5976613965744401,
          0.5979049818541735,
          0.59828141783029,
          0.5984954947507647,
          0.5986107665591665,
          0.6023661688202718,
          0.6025522626143901,
          0.6030091619736068,
          0.6030611386763098,
          0.6032480646247055,
          0.6037417832462498,
          0.6037274413897791,
          0.6037640307198919,
          0.6038692236208498,
          0.6039553752535497,
          0.6041013473434454,
          0.6049078712745182,
          0.604999149804455,
          0.6053437712729748,
          0.6061278484253648,
          0.6064775252093659,
          0.6067300282558438,
          0.6070846556308431,
          0.6072961373390557,
          0.6073851438385574,
          0.607369867720323,
          0.6075296544610624,
          0.6094710414682711,
          0.6096293730516107,
          0.6098428955819807,
          0.6100295498001043,
          0.6106032906764168,
          0.6108885017421603,
          0.6108301360306941,
          0.6108046580859819,
          0.610901761458242,
          0.6111988766017202,
          0.6113257243195785,
          0.6118496346509376,
          0.6120021149101164,
          0.6123996825116853,
          0.6125154675623122,
          0.6126492702344095,
          0.6134409078819044,
          0.6138139204545454,
          0.6140179443901572,
          0.6141676295440406,
          0.6156602759362122,
          0.6163459809386801,
          0.6172460496613995,
          0.6174132947976878,
          0.6175194359067077,
          0.6184855638278555,
          0.6192209683290862,
          0.6196089181286549,
          0.619705424938249,
          0.6199082568807339,
          0.6201600294306999,
          0.6202263734241281,
          0.6202100221075902,
          0.6211742949607028,
          0.6214014625566973,
          0.6216040193524377,
          0.6216593723810411,
          0.6221786980041037,
          0.623185691544152,
          0.6236842105263158,
          0.6241174809375882,
          0.6245040619686378,
          0.625071279224482,
          0.6257516464636823,
          0.6260279212086441,
          0.6267294388931591,
          0.6272981037635961,
          0.627229775335069,
          0.6278461389400252,
          0.6278144409937888,
          0.6277913213066797,
          0.6279886796135454,
          0.6278294953454189,
          0.6285237206561242,
          0.629412931376438,
          0.6294532102808376,
          0.6304543185222167,
          0.6311409665129336,
          0.6313725490196078,
          0.635351139527689,
          0.6362882322446863,
          0.6369499635909706,
          0.6370269988533306,
          0.6382956448911222,
          0.6386501781597149,
          0.6389471476510067,
          0.6388539042821159,
          0.6392838335966298,
          0.6397338403041825,
          0.640631623569309,
          0.6418005746514845,
          0.6417814802947773,
          0.6424892703862661,
          0.6425499892496237,
          0.6429341963322546,
          0.6431122172925008,
          0.6435320951449983,
          0.6440826139219757,
          0.6440473580355185,
          0.6443174324027259,
          0.6445523788497627,
          0.6445377223019993,
          0.6442722744881019,
          0.644874360684901,
          0.6450105684725777,
          0.6455498550078073,
          0.6458799820868787,
          0.64588948787062,
          0.6460535192264448,
          0.6461780929866037,
          0.6475780896333182,
          0.6483017153243212,
          0.647937086847504,
          0.6481778592711437,
          0.6482671563002066,
          0.6488198042602188,
          0.6486360998258851,
          0.64899195897914,
          0.6490429505135388,
          0.6496634785688984,
          0.6498224852071006,
          0.650094921689606,
          0.650089232599643,
          0.6499284351145038,
          0.6500299222022741,
          0.6497723460340282,
          0.6497242867417885,
          0.6500360663621063,
          0.6505499818687296,
          0.6504478334543694,
          0.6509756097560976,
          0.6516009852216749,
          0.6526094484293842,
          0.6533566259046668,
          0.6536579244572719,
          0.6533940083428138,
          0.6546358882795562,
          0.6549079754601227,
          0.6549647661755285,
          0.6550432648844118,
          0.6561197916666667,
          0.6562459123610203,
          0.6557808796418225,
          0.6555540914481487,
          0.6561384961014933,
          0.6565737051792828,
          0.6568418244865297,
          0.657073695535234,
          0.6566256922869107,
          0.6567951318458418,
          0.6566779661016949,
          0.6569094622191968,
          0.6570061517429938,
          0.6587422252937112,
          0.6598024210379853,
          0.6610098176718092,
          0.6621927098050296,
          0.6633972992181948,
          0.6635740793605481,
          0.6637498206856979,
          0.6638377445339471,
          0.663682310469314,
          0.6638643281635019,
          0.6642846725973458,
          0.6641299575589054,
          0.6644659624413145,
          0.6648944025993206,
          0.6654767217016213,
          0.6654258487194759,
          0.6655244338498212,
          0.6659182757072295,
          0.6660129732991401,
          0.6660117878192534,
          0.6668690241311276,
          0.6662094192958391,
          0.6662595419847328,
          0.6667692307692308,
          0.6666150271107668,
          0.6664593375835796,
          0.6673994974874372,
          0.6682700016033349,
          0.6687096774193548,
          0.670426679744973,
          0.6703855619360132,
          0.6699368141004324,
          0.6711477062678541,
          0.6711499663752521,
          0.6711795566085632,
          0.6723960123753867,
          0.6727429062768702,
          0.6741125541125541,
          0.6759324419422942,
          0.6761433868974042,
          0.6773385798604901,
          0.6783405172413793,
          0.679027902790279,
          0.6790546635395995,
          0.6791395516992046,
          0.6795083470922767,
          0.6801334321719792,
          0.6799775028121485,
          0.6819916062571537,
          0.6826278490710592,
          0.6848673946957878,
          0.6864256075874333,
          0.6879331430900938,
          0.6879722278946294,
          0.6875384931225621,
          0.6877055921052632,
          0.6864898466639039,
          0.6865392604902368,
          0.6861313868613139,
          0.6852984602404556,
          0.6850828729281768,
          0.6852922286448297,
          0.6853763440860215,
          0.6858262573481385,
          0.686231725943705,
          0.6860976682798064,
          0.686457638425617,
          0.6868867082961642,
          0.687248322147651,
          0.6875710065894115,
          0.6888119953863898,
          0.6880411888602855,
          0.6876330101678884,
          0.6879904875148632,
          0.6886608015640274,
          0.6867261020307083,
          0.6871550426492724,
          0.6873898817014851,
          0.6871989860583017,
          0.6871494135645079,
          0.6855087358684481,
          0.6844823134521043,
          0.6839364748763342,
          0.6842105263157895,
          0.684,
          0.6852503382949933,
          0.6861513247746517,
          0.686436024162548,
          0.6875519822567231,
          0.6869589500139626,
          0.687268584448875,
          0.6874821785001426,
          0.6873910517141197,
          0.687736673463443,
          0.6880733944954128,
          0.6883348174532502,
          0.6884800965018094,
          0.6897396630934151,
          0.6904909881914233,
          0.6905801621958827,
          0.6915739268680445,
          0.693950177935943,
          0.6940032414910859,
          0.6944908180300501,
          0.6935810810810811,
          0.6943409013893596,
          0.6969486823855756,
          0.6979794399149238,
          0.6977982954545454,
          0.696969696969697,
          0.6981062012625325,
          0.6986817325800376,
          0.699125142639787,
          0.7002332814930016,
          0.6997266692698165,
          0.6989332279731332,
          0.6979542719614922,
          0.6986245954692557,
          0.700081499592502,
          0.699017199017199,
          0.6998355263157895,
          0.7010178117048346,
          0.7004329004329004,
          0.6993918331885317,
          0.6996931170539237,
          0.7003085059497576,
          0.6989100817438693,
          0.6991232118135672,
          0.699812382739212,
          0.7028324531925108,
          0.7047898338220919,
          0.7035553329994992,
          0.7041751527494908,
          0.7030075187969925,
          0.7009966777408638,
          0.7019015659955258,
          0.703599550056243,
          0.7036619718309859,
          0.7059161401493395,
          0.7051282051282052,
          0.7037691401648999,
          0.7021791767554479,
          0.7014101778050276,
          0.6997455470737913,
          0.6977491961414791,
          0.694078947368421,
          0.6947019867549669,
          0.6930422919508867,
          0.6911357340720221,
          0.6908177905308465,
          0.6920821114369502,
          0.6932153392330384,
          0.6929368029739778,
          0.6934032983508246,
          0.6928353658536586,
          0.6905721192586624,
          0.6917355371900826,
          0.6911519198664441,
          0.693631669535284,
          0.6916376306620209,
          0.6933333333333334,
          0.6986166007905138,
          0.6995841995841996,
          0.6948968512486428,
          0.6941045606229144,
          0.69221260815822,
          0.6904458598726114,
          0.6930946291560103,
          0.6919127086007703,
          0.69140625,
          0.6895640686922061,
          0.6880856760374833,
          0.6927374301675978,
          0.6902017291066282,
          0.6903703703703704,
          0.6873065015479877,
          0.6820349761526232,
          0.6807131280388979,
          0.6794019933554817,
          0.6758147512864494,
          0.6735751295336787,
          0.6654804270462633,
          0.6666666666666666,
          0.6648148148148149,
          0.6621621621621622,
          0.6573875802997858,
          0.6608695652173913,
          0.6571428571428571,
          0.6527777777777778,
          0.645933014354067,
          0.6456310679611651,
          0.6337662337662338,
          0.6175637393767706,
          0.611764705882353,
          0.6172839506172839,
          0.6112852664576802,
          0.6153846153846154,
          0.6203389830508474,
          0.6206896551724138,
          0.6175438596491228,
          0.6075471698113207,
          0.6015325670498084,
          0.5934959349593496,
          0.5854700854700855,
          0.5796460176991151,
          0.5794392523364486,
          0.5817307692307693,
          0.5862068965517241,
          0.5555555555555556,
          0.5591397849462365,
          0.5555555555555556,
          0.5416666666666666,
          0.5432098765432098,
          0.543046357615894,
          1
         ]
        },
        {
         "mode": "lines",
         "name": "Male (AP=0.58)",
         "type": "scatter",
         "x": [
          1,
          0.9882832399388691,
          0.9874341993547292,
          0.9869247750042452,
          0.9864153506537613,
          0.9860757344201053,
          0.9857361181864494,
          0.9857361181864494,
          0.9852266938359654,
          0.9847172694854814,
          0.9838682289013415,
          0.9835286126676855,
          0.9830191883172016,
          0.9823399558498896,
          0.9823399558498896,
          0.9814909152657497,
          0.9813211071489217,
          0.9809814909152658,
          0.9804720665647818,
          0.9789437935133299,
          0.9789437935133299,
          0.9775853285787061,
          0.9770759042282221,
          0.9760570555272542,
          0.9752080149431143,
          0.9748683987094583,
          0.9745287824758023,
          0.9735099337748344,
          0.9735099337748344,
          0.9728307013075225,
          0.9702835795551027,
          0.9692647308541348,
          0.9689251146204788,
          0.9680760740363389,
          0.9679062659195109,
          0.9679062659195109,
          0.9672270334521991,
          0.9665478009848871,
          0.9660383766344032,
          0.9656987604007472,
          0.9645101035829513,
          0.9634912548819834,
          0.9626422142978435,
          0.9604347087790797,
          0.9600950925454237,
          0.9597554763117677,
          0.9592460519612838,
          0.9592460519612838,
          0.9587366276107998,
          0.9577177789098319,
          0.9533027678723043,
          0.9522839191713364,
          0.9509254542367125,
          0.9482085243674647,
          0.9414161996943454,
          0.9398879266428936,
          0.9395483104092376,
          0.9371709967736458,
          0.9366615724231618,
          0.934793683138054,
          0.9315673289183223,
          0.9305484802173544,
          0.9298692477500424,
          0.9293598233995585,
          0.9286805909322465,
          0.9268127016471387,
          0.9242655798947189,
          0.9235863474274071,
          0.9217184581422992,
          0.9210392256749873,
          0.9201901850908474,
          0.9198505688571914,
          0.9173034471047716,
          0.9164544065206317,
          0.9145865172355239,
          0.9140770928850399,
          0.913058244184072,
          0.9106809305484802,
          0.9105111224316522,
          0.9094922737306843,
          0.9083036169128884,
          0.9060961113941246,
          0.9013414841229411,
          0.8994735948378333,
          0.8974358974358975,
          0.8948887756834777,
          0.89132280523009,
          0.8892851078281542,
          0.8874172185430463,
          0.8845304805569706,
          0.8836814399728307,
          0.8824927831550348,
          0.8824927831550348,
          0.8802852776362711,
          0.8760400747155714,
          0.8751910341314315,
          0.8750212260146035,
          0.8734929529631517,
          0.8721344880285278,
          0.8706062149770759,
          0.86941755815928,
          0.869077941925624,
          0.8656817795890643,
          0.8641535065376125,
          0.8619460010188487,
          0.8590592630327729,
          0.8554932925793853,
          0.8553234844625573,
          0.8515877058923417,
          0.8468330786211581,
          0.8459840380370182,
          0.8446255731023943,
          0.8397011377143827,
          0.8393615214807267,
          0.8352861266768552,
          0.8315503481066395,
          0.8308711156393276,
          0.8279843776532518,
          0.8245882153166921,
          0.8217014773306164,
          0.8210222448633044,
          0.8179656987604007,
          0.8172864662930888,
          0.8138903039565292,
          0.8135506877228732,
          0.8096451010358295,
          0.8086262523348616,
          0.8060791305824418,
          0.804890473764646,
          0.8025131601290542,
          0.7987773815588385,
          0.7962302598064187,
          0.7938529461708269,
          0.7924944812362031,
          0.7921548650025472,
          0.7916454406520632,
          0.7904567838342673,
          0.7890983188996434,
          0.7882492783155035,
          0.7851927322125998,
          0.7836644591611479,
          0.7772117507216845,
          0.7756834776702326,
          0.7736457802682968,
          0.7709288503990491,
          0.7665138393615215,
          0.7626082526744778,
          0.7615894039735099,
          0.760570555272542,
          0.7576838172864663,
          0.7558159280013584,
          0.7549668874172185,
          0.7515707250806588,
          0.7503820682628629,
          0.7483443708609272,
          0.7466462896926473,
          0.7444387841738835,
          0.7437595517065716,
          0.7430803192392597,
          0.7420614705382917,
          0.7415520461878078,
          0.7405331974868399,
          0.7400237731363559,
          0.7305145185939887,
          0.7255900832059773,
          0.7186279504160299,
          0.71692986924775,
          0.7101375445746306,
          0.7069111903548989,
          0.7033452199015113,
          0.6985905926303277,
          0.6979113601630158,
          0.6972321276957039,
          0.69587366276108,
          0.6936661572423162,
          0.6885719137374766,
          0.6872134488028527,
          0.6804211241297334,
          0.6768551536763457,
          0.6763457293258618,
          0.6700628290032263,
          0.6678553234844625,
          0.6676855153676345,
          0.6629308880964511,
          0.6588554932925794,
          0.6576668364747835,
          0.6512141280353201,
          0.6486670062829003,
          0.6403464085583291,
          0.6357615894039735,
          0.6345729325861776,
          0.6321956189505858,
          0.6287994566140261,
          0.6281202241467142,
          0.6272711835625743,
          0.6247240618101545,
          0.6240448293428426,
          0.6209882832399388,
          0.6187807777211751,
          0.6184411614875192,
          0.6181015452538632,
          0.6147053829173035,
          0.6116488368143997,
          0.6102903718797759,
          0.60910171506198,
          0.6062149770759042,
          0.6045168959076244,
          0.6031584309730005,
          0.6019697741552046,
          0.5997622686364408,
          0.5978943793513329,
          0.5939887926642894,
          0.5895737816267618,
          0.5848191543555782,
          0.5807437595517065,
          0.5739514348785872,
          0.5720835455934794,
          0.5700458481915436,
          0.5690269994905757,
          0.5683477670232637,
          0.5669893020886398,
          0.5630837154015962,
          0.5608762098828324,
          0.5581592800135846,
          0.5561215826116488,
          0.5561215826116488,
          0.5537442689760571,
          0.5515367634572933,
          0.5464425199524537,
          0.5427067413822381,
          0.5415180845644422,
          0.5401596196298183,
          0.5343861436576668,
          0.5313295975547632,
          0.5282730514518594,
          0.5230089998301919,
          0.5196128374936322,
          0.5140091696383087,
          0.5095941586007812,
          0.5090847342502972,
          0.5056885719137375,
          0.5038206826286297,
          0.5036508745118017,
          0.5034810663949737,
          0.5016131771098659,
          0.500594328408898,
          0.49923586347427407,
          0.4975377823059942,
          0.49617931737137033,
          0.489386992698251,
          0.48853795211411105,
          0.4859908303616913,
          0.48208524367464767,
          0.4795381219222279,
          0.47868908133808796,
          0.47546272711835624,
          0.47427407030056035,
          0.47121752419765667,
          0.4662930888096451,
          0.46544404822550517,
          0.46459500764136524,
          0.4628969264730854,
          0.46034980472066567,
          0.45814229920190186,
          0.4576328748514179,
          0.4542367125148582,
          0.45355748004754626,
          0.4532178638138903,
          0.4505009339446426,
          0.44863304465953474,
          0.4469349634912549,
          0.44268976057055526,
          0.43997283070130755,
          0.4379351332993717,
          0.43538801154695195,
          0.43419935472915605,
          0.4304635761589404,
          0.4284258787570046,
          0.424180675836305,
          0.42078451349974527,
          0.41840719986415353,
          0.41569026999490577,
          0.4153506537612498,
          0.4145016131771099,
          0.413312956359314,
          0.4087281372049584,
          0.40736967227033455,
          0.4043131261674308,
          0.3995584988962472,
          0.37748344370860926,
          0.37527593818984545,
          0.37154015961962983,
          0.3659364917643063,
          0.36542706741382236,
          0.3577857021565631,
          0.3550687722873153,
          0.3526914586517236,
          0.35184241806758365,
          0.3487858719646799,
          0.347767023263712,
          0.3435218203430124,
          0.34250297164204446,
          0.3402954661232807,
          0.3358804550857531,
          0.33418237391747324,
          0.33010697911360165,
          0.3250127356087621,
          0.32195618950585836,
          0.3200883002207506,
          0.31669213788419087,
          0.31210731872983527,
          0.31006962132789945,
          0.30939038886058756,
          0.3054848021735439,
          0.304296145355748,
          0.2998811343182204,
          0.29920190185090845,
          0.29869247750042455,
          0.29648497198166074,
          0.29410765834606895,
          0.29308880964510103,
          0.28952283919171334,
          0.28646629308880966,
          0.2815418577007981,
          0.28069281711665817,
          0.2801833927661742,
          0.2754287654949907,
          0.271523178807947,
          0.2628629648497198,
          0.2621837323824079,
          0.26133469179826796,
          0.2596366106299881,
          0.2564102564102564,
          0.25556121582611646,
          0.2536933265410087,
          0.2523348616063848,
          0.2513160129054169,
          0.24825946680251315,
          0.2477500424520292,
          0.24605196128374937,
          0.24520292069960944,
          0.2421463745967057,
          0.2414671421293938,
          0.24044829342842589,
          0.2380709797928341,
          0.2367125148582102,
          0.23450500933944643,
          0.23399558498896247,
          0.22465613856342334,
          0.22380709797928341,
          0.22363728986245543,
          0.22312786551197147,
          0.22210901681100356,
          0.22007131940906777,
          0.21803362200713194,
          0.2163355408388521,
          0.21242995415180846,
          0.21107148921718458,
          0.20988283239938868,
          0.206656478179657,
          0.2042791645440652,
          0.20376974019358127,
          0.20275089149261336,
          0.20207165902530141,
          0.20156223467481746,
          0.19935472915605365,
          0.19850568857191372,
          0.1979962642214298,
          0.19612837493632196,
          0.19527933435218203,
          0.17575140091696384,
          0.17524197656647988,
          0.17439293598233996,
          0.17218543046357615,
          0.17031754117846834,
          0.16777041942604856,
          0.16658176260825266,
          0.16386483273900493,
          0.16233655968755306,
          0.1618271353370691,
          0.15571404313126166,
          0.15418577007980983,
          0.15265749702835796,
          0.15180845644421803,
          0.15028018339276616,
          0.14603498047206656,
          0.1436576668364748,
          0.14212939378502293,
          0.14094073696722703,
          0.13941246391577516,
          0.13754457463066735,
          0.13516726099507556,
          0.13092205807437596,
          0.130412633723892,
          0.12769570385464427,
          0.12548819833588046,
          0.12412973340125658,
          0.12345050093394465,
          0.12294107658346069,
          0.12209203599932077,
          0.11920529801324503,
          0.11784683307862116,
          0.1163185600271693,
          0.10409237561555443,
          0.10290371879775853,
          0.1020546782136186,
          0.10086602139582272,
          0.09967736457802683,
          0.09763966717609102,
          0.09594158600781118,
          0.09492273730684327,
          0.08982849380200374,
          0.08863983698420784,
          0.08524367464764816,
          0.08473425029716421,
          0.08405501782985227,
          0.08082866361012056,
          0.07369672270334522,
          0.0718288334182374,
          0.06979113601630157,
          0.06928171166581763,
          0.06894209543216166,
          0.06826286296484972,
          0.06656478179656988,
          0.06537612497877399,
          0.06486670062829003,
          0.06350823569366616,
          0.0597724571234505,
          0.058413992188826626,
          0.05671591102054678,
          0.05518763796909492,
          0.05501782985226694,
          0.05348955680081508,
          0.04924435388011547,
          0.04822550517914757,
          0.046357615894039736,
          0.04584819154355578,
          0.044829342842587876,
          0.04143318050602819,
          0.04041433180506028,
          0.040244523688232295,
          0.03769740193581253,
          0.037357785702156567,
          0.035829512650704706,
          0.035150280183392765,
          0.03413143148242486,
          0.033622007131940905,
          0.032433350314145015,
          0.03226354219731703,
          0.03141450161317711,
          0.030565461029037188,
          0.02988622856172525,
          0
         ],
         "y": [
          0.4339080459770115,
          0.4336487594068996,
          0.4336316181953766,
          0.43360190987764846,
          0.43376642771804064,
          0.4338114447930674,
          0.433759246805649,
          0.4342134789438253,
          0.4341514516611793,
          0.4341218745321156,
          0.4341375693091563,
          0.43424801319538164,
          0.43441392766021314,
          0.4346029599579295,
          0.43473359885774404,
          0.4350116655377437,
          0.43510013552175875,
          0.4351133539203133,
          0.43501845852482485,
          0.43499584999622726,
          0.4351600241545894,
          0.43508162031438935,
          0.43528254784779485,
          0.43588382497914613,
          0.43639817629179334,
          0.43644518777558156,
          0.4367579908675799,
          0.4370664023785927,
          0.43723306894447833,
          0.4371613887829073,
          0.43772023900720086,
          0.4379987722529159,
          0.43814789219073946,
          0.43820138355111454,
          0.4386977603324867,
          0.4388328585726384,
          0.4391673091750193,
          0.43936703975299113,
          0.43954260990496796,
          0.439965960080458,
          0.44041249903078233,
          0.44059636589532536,
          0.44096141879278156,
          0.4410136452241715,
          0.4412017167381974,
          0.4414245548266167,
          0.4415696083795826,
          0.4416731821735731,
          0.4415421912880269,
          0.4419023740499882,
          0.4429890317998895,
          0.44328511580112245,
          0.44409199048374304,
          0.4445859872611465,
          0.44540853217642806,
          0.44550869285254346,
          0.44585012087026593,
          0.4460158396638112,
          0.44620611551528877,
          0.44643581218068284,
          0.44747145187601955,
          0.44778558588004574,
          0.4478612905864071,
          0.448018991486575,
          0.4479849279161206,
          0.4481852520939399,
          0.4487961741424802,
          0.44928134809185527,
          0.450008290499088,
          0.45004978426817127,
          0.45094449529832736,
          0.4514166666666667,
          0.45239092203333053,
          0.4527684563758389,
          0.4535960923025097,
          0.45403171390013497,
          0.4544839827571634,
          0.45460710350089006,
          0.4546379515007631,
          0.4545145960624576,
          0.4546149923508414,
          0.45567890691716484,
          0.45727084769124743,
          0.4576241900647948,
          0.45852854416102723,
          0.4586996257289581,
          0.45882867132867133,
          0.45918456817185443,
          0.45963060686015833,
          0.46085110147748387,
          0.46089806040209014,
          0.4611357586512866,
          0.46146332800568285,
          0.4622792937399679,
          0.46310592459605027,
          0.46307277628032345,
          0.4634826407627271,
          0.4634234234234234,
          0.46357974546439207,
          0.4643601123086677,
          0.4649895558986468,
          0.4652727272727273,
          0.4658685917938408,
          0.46615370523037464,
          0.46658700248184576,
          0.4669989845841411,
          0.46838973596132394,
          0.4685145567854153,
          0.4692178143712575,
          0.46954147443743527,
          0.4694685261967584,
          0.4702656707951215,
          0.4715361876609135,
          0.47161530388321726,
          0.47175601803011413,
          0.47240980127339377,
          0.47257098705814177,
          0.4730765499175318,
          0.4734789391575663,
          0.47427227286092327,
          0.47434513882075935,
          0.47509616332971694,
          0.4751233958538993,
          0.4762046696472926,
          0.4761952092237352,
          0.4772295065559003,
          0.47787255393878575,
          0.47804632426988924,
          0.47825648269599436,
          0.4784853700516351,
          0.47892486255345146,
          0.47984036021285303,
          0.4804233891686363,
          0.48118362717805957,
          0.4819214876033058,
          0.48310880829015546,
          0.48353588864651503,
          0.4841129284300448,
          0.48424786146463594,
          0.48500104887770085,
          0.4868143459915612,
          0.4886302978541689,
          0.4889221877341325,
          0.489945155393053,
          0.49150156977373605,
          0.4922036855304765,
          0.49340804218853,
          0.49350792253521125,
          0.49355371900826445,
          0.4943496565477509,
          0.4951607520302592,
          0.49515536251252923,
          0.49607711275498767,
          0.49646107178968657,
          0.4970674486803519,
          0.4979051070093987,
          0.49948729634271394,
          0.500114181319936,
          0.500343013949234,
          0.501837390904915,
          0.5018963337547409,
          0.5027089337175793,
          0.5028848372951765,
          0.5054635178004935,
          0.5060397915679773,
          0.5067656568075679,
          0.506842737094838,
          0.507647487254188,
          0.5091731898238747,
          0.5100357098879449,
          0.5116915422885572,
          0.5118943828621249,
          0.51216165647998,
          0.5119940029985007,
          0.5118406214760055,
          0.5127070426096851,
          0.5130578093306288,
          0.5139156085673977,
          0.513858450431868,
          0.5136703636832602,
          0.514941928748532,
          0.5158709338929696,
          0.5159427896601496,
          0.5165387668695423,
          0.518924702420757,
          0.5195171026156942,
          0.5202116115029842,
          0.5207907293796864,
          0.523459189339256,
          0.5242963170424311,
          0.5250807924687368,
          0.5264423076923077,
          0.527342637425235,
          0.527599486521181,
          0.5289989975655163,
          0.5289719626168224,
          0.529310096500072,
          0.5306922072268175,
          0.5311953352769679,
          0.5312135355892649,
          0.5314644473645788,
          0.5322746654903691,
          0.5331557134399053,
          0.5333135480041549,
          0.5341772151898734,
          0.5349917578300615,
          0.5355799608846096,
          0.5365558912386706,
          0.5370398424481139,
          0.5379226317392629,
          0.5386262811687318,
          0.5386510625192485,
          0.5389630549518784,
          0.539389193422083,
          0.5396875493135553,
          0.540194981620585,
          0.5410309940581339,
          0.541713732451186,
          0.5424963574550753,
          0.5425514670124818,
          0.5441655801825294,
          0.5459334869937438,
          0.5466732869910625,
          0.5473771856786012,
          0.5473842553902725,
          0.5478420876547341,
          0.550194027332546,
          0.551255940257977,
          0.552067249957111,
          0.5541876192127623,
          0.5548016701461378,
          0.555051474437271,
          0.555908850026497,
          0.5584508299125468,
          0.5597337171644476,
          0.5614290922347794,
          0.5612619222303742,
          0.5634772896500372,
          0.5651600753295668,
          0.5657671258728062,
          0.5668062428625809,
          0.5673040152963671,
          0.5675468809797168,
          0.5683342917385471,
          0.569390902081727,
          0.570543835881556,
          0.5715396578538102,
          0.5720421710269425,
          0.5726043503821282,
          0.5759392486011191,
          0.576437587657784,
          0.5773653419406899,
          0.5809289952936362,
          0.5813091807328119,
          0.5817168799009492,
          0.5835764902042517,
          0.5856573705179283,
          0.5859375,
          0.5856259330347622,
          0.5859341598973921,
          0.5861182519280206,
          0.5875,
          0.5885801128962224,
          0.588697359807986,
          0.5886850152905199,
          0.5895966497685695,
          0.5910599690196946,
          0.5914026146687348,
          0.5929816718819848,
          0.5937078651685394,
          0.5953404207192943,
          0.5972508591065292,
          0.5982452089586701,
          0.599488609948861,
          0.6004683840749414,
          0.6013640639698965,
          0.6022808267997148,
          0.604311377245509,
          0.6039651837524178,
          0.6038011695906432,
          0.6043659553593328,
          0.6053412462908012,
          0.6060455896927651,
          0.6057071960297766,
          0.6054726368159205,
          0.6049258607690374,
          0.6059611012882041,
          0.6063152533740769,
          0.607225806451613,
          0.6129032258064516,
          0.6142301278488049,
          0.6151251054259207,
          0.6165951359084406,
          0.6169724770642202,
          0.6213506340312592,
          0.621027621027621,
          0.6246616541353384,
          0.6246608381067229,
          0.6285189718482252,
          0.6299600123039065,
          0.6319900031240238,
          0.6336789192585611,
          0.6333754740834386,
          0.6351958895311497,
          0.6358642972536349,
          0.6373770491803279,
          0.6409912926992632,
          0.6429298067141404,
          0.642905866302865,
          0.6446595229865192,
          0.6449122807017544,
          0.644546417225556,
          0.6451841359773371,
          0.6496930299747201,
          0.6499818643453029,
          0.6502209131075111,
          0.6513863216266174,
          0.6517228603186366,
          0.6534431137724551,
          0.6558121923513821,
          0.6567732115677322,
          0.6598297213622291,
          0.6594996090695856,
          0.6605577689243027,
          0.6612,
          0.6607929515418502,
          0.6620408163265306,
          0.6634854771784232,
          0.6669538991813874,
          0.6669546436285098,
          0.6668110918544194,
          0.6668120366332315,
          0.6660785178650198,
          0.66651904340124,
          0.6690550828481863,
          0.6681654676258992,
          0.6687754179846362,
          0.6700274977085243,
          0.669880624426079,
          0.6705229060620084,
          0.6713156671315668,
          0.6777566539923955,
          0.6797323135755258,
          0.679136690647482,
          0.6786060019361084,
          0.6796684544124817,
          0.6823122529644269,
          0.681840672934191,
          0.6826625386996904,
          0.6829015544041451,
          0.683445770627919,
          0.6836628511966701,
          0.683742812336644,
          0.6846275752773375,
          0.6866310160427808,
          0.6867924528301886,
          0.6873626373626374,
          0.6867403314917127,
          0.6885793871866295,
          0.6871823828345568,
          0.6913793103448276,
          0.69164265129683,
          0.6929773650609402,
          0.6942823803967327,
          0.6957796014067995,
          0.6954976303317536,
          0.6954193932183225,
          0.6961194029850746,
          0.695364238410596,
          0.6952841596130592,
          0.6997971602434077,
          0.6996610169491525,
          0.6991150442477876,
          0.7002762430939227,
          0.7023809523809523,
          0.7052105638829408,
          0.7072819033886085,
          0.7059253840526701,
          0.7102526002971769,
          0.712789827973074,
          0.7158469945355191,
          0.7143981117230527,
          0.7151949085123309,
          0.7157726180944756,
          0.7148626817447497,
          0.7202680067001676,
          0.7224594363791631,
          0.721551724137931,
          0.7204861111111112,
          0.7201754385964912,
          0.7193605683836589,
          0.7229791099000908,
          0.7225866916588566,
          0.7218045112781954,
          0.7175572519083969,
          0.7188715953307393,
          0.719488188976378,
          0.7190900098911969,
          0.7189672293942403,
          0.7182817182817183,
          0.7177914110429447,
          0.7214137214137214,
          0.7195378151260504,
          0.722877358490566,
          0.725748502994012,
          0.7267230955259976,
          0.7297297297297297,
          0.73375,
          0.7334183673469388,
          0.7318652849740933,
          0.7335958005249343,
          0.7306629834254144,
          0.729050279329609,
          0.7264833574529667,
          0.7274052478134111,
          0.7290132547864506,
          0.7300613496932515,
          0.7331081081081081,
          0.7356521739130435,
          0.7339285714285714,
          0.7324955116696589,
          0.7355072463768116,
          0.7403314917127072,
          0.7396226415094339,
          0.7361376673040153,
          0.7374517374517374,
          0.7391304347826086,
          0.7302904564315352,
          0.7272727272727273,
          0.7213822894168467,
          0.720620842572062,
          0.72,
          0.7291666666666666,
          0.725,
          0.7208121827411168,
          0.7165354330708661,
          0.7142857142857143,
          0.7135135135135136,
          0.7052023121387283,
          0.7041420118343196,
          0.7053571428571429,
          0.6959247648902821,
          0.694006309148265,
          0.6895424836601307,
          0.6877076411960132,
          0.6836734693877551,
          0.6851211072664359,
          0.6821428571428572,
          0.6859205776173285,
          0.6826568265682657,
          0.6818181818181818,
          0.676923076923077,
          1
         ]
        }
       ],
       "layout": {
        "font": {
         "size": 18
        },
        "height": 800,
        "legend": {
         "x": 0.65,
         "xanchor": "right",
         "y": 0.01,
         "yanchor": "bottom"
        },
        "margin": {
         "b": 10,
         "l": 10,
         "r": 10,
         "t": 100
        },
        "shapes": [
         {
          "line": {
           "dash": "dash"
          },
          "type": "line",
          "x0": 0,
          "x1": 1,
          "y0": 1,
          "y1": 0
         }
        ],
        "template": {
         "data": {
          "bar": [
           {
            "error_x": {
             "color": "#2a3f5f"
            },
            "error_y": {
             "color": "#2a3f5f"
            },
            "marker": {
             "line": {
              "color": "#E5ECF6",
              "width": 0.5
             },
             "pattern": {
              "fillmode": "overlay",
              "size": 10,
              "solidity": 0.2
             }
            },
            "type": "bar"
           }
          ],
          "barpolar": [
           {
            "marker": {
             "line": {
              "color": "#E5ECF6",
              "width": 0.5
             },
             "pattern": {
              "fillmode": "overlay",
              "size": 10,
              "solidity": 0.2
             }
            },
            "type": "barpolar"
           }
          ],
          "carpet": [
           {
            "aaxis": {
             "endlinecolor": "#2a3f5f",
             "gridcolor": "white",
             "linecolor": "white",
             "minorgridcolor": "white",
             "startlinecolor": "#2a3f5f"
            },
            "baxis": {
             "endlinecolor": "#2a3f5f",
             "gridcolor": "white",
             "linecolor": "white",
             "minorgridcolor": "white",
             "startlinecolor": "#2a3f5f"
            },
            "type": "carpet"
           }
          ],
          "choropleth": [
           {
            "colorbar": {
             "outlinewidth": 0,
             "ticks": ""
            },
            "type": "choropleth"
           }
          ],
          "contour": [
           {
            "colorbar": {
             "outlinewidth": 0,
             "ticks": ""
            },
            "colorscale": [
             [
              0,
              "#0d0887"
             ],
             [
              0.1111111111111111,
              "#46039f"
             ],
             [
              0.2222222222222222,
              "#7201a8"
             ],
             [
              0.3333333333333333,
              "#9c179e"
             ],
             [
              0.4444444444444444,
              "#bd3786"
             ],
             [
              0.5555555555555556,
              "#d8576b"
             ],
             [
              0.6666666666666666,
              "#ed7953"
             ],
             [
              0.7777777777777778,
              "#fb9f3a"
             ],
             [
              0.8888888888888888,
              "#fdca26"
             ],
             [
              1,
              "#f0f921"
             ]
            ],
            "type": "contour"
           }
          ],
          "contourcarpet": [
           {
            "colorbar": {
             "outlinewidth": 0,
             "ticks": ""
            },
            "type": "contourcarpet"
           }
          ],
          "heatmap": [
           {
            "colorbar": {
             "outlinewidth": 0,
             "ticks": ""
            },
            "colorscale": [
             [
              0,
              "#0d0887"
             ],
             [
              0.1111111111111111,
              "#46039f"
             ],
             [
              0.2222222222222222,
              "#7201a8"
             ],
             [
              0.3333333333333333,
              "#9c179e"
             ],
             [
              0.4444444444444444,
              "#bd3786"
             ],
             [
              0.5555555555555556,
              "#d8576b"
             ],
             [
              0.6666666666666666,
              "#ed7953"
             ],
             [
              0.7777777777777778,
              "#fb9f3a"
             ],
             [
              0.8888888888888888,
              "#fdca26"
             ],
             [
              1,
              "#f0f921"
             ]
            ],
            "type": "heatmap"
           }
          ],
          "heatmapgl": [
           {
            "colorbar": {
             "outlinewidth": 0,
             "ticks": ""
            },
            "colorscale": [
             [
              0,
              "#0d0887"
             ],
             [
              0.1111111111111111,
              "#46039f"
             ],
             [
              0.2222222222222222,
              "#7201a8"
             ],
             [
              0.3333333333333333,
              "#9c179e"
             ],
             [
              0.4444444444444444,
              "#bd3786"
             ],
             [
              0.5555555555555556,
              "#d8576b"
             ],
             [
              0.6666666666666666,
              "#ed7953"
             ],
             [
              0.7777777777777778,
              "#fb9f3a"
             ],
             [
              0.8888888888888888,
              "#fdca26"
             ],
             [
              1,
              "#f0f921"
             ]
            ],
            "type": "heatmapgl"
           }
          ],
          "histogram": [
           {
            "marker": {
             "pattern": {
              "fillmode": "overlay",
              "size": 10,
              "solidity": 0.2
             }
            },
            "type": "histogram"
           }
          ],
          "histogram2d": [
           {
            "colorbar": {
             "outlinewidth": 0,
             "ticks": ""
            },
            "colorscale": [
             [
              0,
              "#0d0887"
             ],
             [
              0.1111111111111111,
              "#46039f"
             ],
             [
              0.2222222222222222,
              "#7201a8"
             ],
             [
              0.3333333333333333,
              "#9c179e"
             ],
             [
              0.4444444444444444,
              "#bd3786"
             ],
             [
              0.5555555555555556,
              "#d8576b"
             ],
             [
              0.6666666666666666,
              "#ed7953"
             ],
             [
              0.7777777777777778,
              "#fb9f3a"
             ],
             [
              0.8888888888888888,
              "#fdca26"
             ],
             [
              1,
              "#f0f921"
             ]
            ],
            "type": "histogram2d"
           }
          ],
          "histogram2dcontour": [
           {
            "colorbar": {
             "outlinewidth": 0,
             "ticks": ""
            },
            "colorscale": [
             [
              0,
              "#0d0887"
             ],
             [
              0.1111111111111111,
              "#46039f"
             ],
             [
              0.2222222222222222,
              "#7201a8"
             ],
             [
              0.3333333333333333,
              "#9c179e"
             ],
             [
              0.4444444444444444,
              "#bd3786"
             ],
             [
              0.5555555555555556,
              "#d8576b"
             ],
             [
              0.6666666666666666,
              "#ed7953"
             ],
             [
              0.7777777777777778,
              "#fb9f3a"
             ],
             [
              0.8888888888888888,
              "#fdca26"
             ],
             [
              1,
              "#f0f921"
             ]
            ],
            "type": "histogram2dcontour"
           }
          ],
          "mesh3d": [
           {
            "colorbar": {
             "outlinewidth": 0,
             "ticks": ""
            },
            "type": "mesh3d"
           }
          ],
          "parcoords": [
           {
            "line": {
             "colorbar": {
              "outlinewidth": 0,
              "ticks": ""
             }
            },
            "type": "parcoords"
           }
          ],
          "pie": [
           {
            "automargin": true,
            "type": "pie"
           }
          ],
          "scatter": [
           {
            "fillpattern": {
             "fillmode": "overlay",
             "size": 10,
             "solidity": 0.2
            },
            "type": "scatter"
           }
          ],
          "scatter3d": [
           {
            "line": {
             "colorbar": {
              "outlinewidth": 0,
              "ticks": ""
             }
            },
            "marker": {
             "colorbar": {
              "outlinewidth": 0,
              "ticks": ""
             }
            },
            "type": "scatter3d"
           }
          ],
          "scattercarpet": [
           {
            "marker": {
             "colorbar": {
              "outlinewidth": 0,
              "ticks": ""
             }
            },
            "type": "scattercarpet"
           }
          ],
          "scattergeo": [
           {
            "marker": {
             "colorbar": {
              "outlinewidth": 0,
              "ticks": ""
             }
            },
            "type": "scattergeo"
           }
          ],
          "scattergl": [
           {
            "marker": {
             "colorbar": {
              "outlinewidth": 0,
              "ticks": ""
             }
            },
            "type": "scattergl"
           }
          ],
          "scattermapbox": [
           {
            "marker": {
             "colorbar": {
              "outlinewidth": 0,
              "ticks": ""
             }
            },
            "type": "scattermapbox"
           }
          ],
          "scatterpolar": [
           {
            "marker": {
             "colorbar": {
              "outlinewidth": 0,
              "ticks": ""
             }
            },
            "type": "scatterpolar"
           }
          ],
          "scatterpolargl": [
           {
            "marker": {
             "colorbar": {
              "outlinewidth": 0,
              "ticks": ""
             }
            },
            "type": "scatterpolargl"
           }
          ],
          "scatterternary": [
           {
            "marker": {
             "colorbar": {
              "outlinewidth": 0,
              "ticks": ""
             }
            },
            "type": "scatterternary"
           }
          ],
          "surface": [
           {
            "colorbar": {
             "outlinewidth": 0,
             "ticks": ""
            },
            "colorscale": [
             [
              0,
              "#0d0887"
             ],
             [
              0.1111111111111111,
              "#46039f"
             ],
             [
              0.2222222222222222,
              "#7201a8"
             ],
             [
              0.3333333333333333,
              "#9c179e"
             ],
             [
              0.4444444444444444,
              "#bd3786"
             ],
             [
              0.5555555555555556,
              "#d8576b"
             ],
             [
              0.6666666666666666,
              "#ed7953"
             ],
             [
              0.7777777777777778,
              "#fb9f3a"
             ],
             [
              0.8888888888888888,
              "#fdca26"
             ],
             [
              1,
              "#f0f921"
             ]
            ],
            "type": "surface"
           }
          ],
          "table": [
           {
            "cells": {
             "fill": {
              "color": "#EBF0F8"
             },
             "line": {
              "color": "white"
             }
            },
            "header": {
             "fill": {
              "color": "#C8D4E3"
             },
             "line": {
              "color": "white"
             }
            },
            "type": "table"
           }
          ]
         },
         "layout": {
          "annotationdefaults": {
           "arrowcolor": "#2a3f5f",
           "arrowhead": 0,
           "arrowwidth": 1
          },
          "autotypenumbers": "strict",
          "coloraxis": {
           "colorbar": {
            "outlinewidth": 0,
            "ticks": ""
           }
          },
          "colorscale": {
           "diverging": [
            [
             0,
             "#8e0152"
            ],
            [
             0.1,
             "#c51b7d"
            ],
            [
             0.2,
             "#de77ae"
            ],
            [
             0.3,
             "#f1b6da"
            ],
            [
             0.4,
             "#fde0ef"
            ],
            [
             0.5,
             "#f7f7f7"
            ],
            [
             0.6,
             "#e6f5d0"
            ],
            [
             0.7,
             "#b8e186"
            ],
            [
             0.8,
             "#7fbc41"
            ],
            [
             0.9,
             "#4d9221"
            ],
            [
             1,
             "#276419"
            ]
           ],
           "sequential": [
            [
             0,
             "#0d0887"
            ],
            [
             0.1111111111111111,
             "#46039f"
            ],
            [
             0.2222222222222222,
             "#7201a8"
            ],
            [
             0.3333333333333333,
             "#9c179e"
            ],
            [
             0.4444444444444444,
             "#bd3786"
            ],
            [
             0.5555555555555556,
             "#d8576b"
            ],
            [
             0.6666666666666666,
             "#ed7953"
            ],
            [
             0.7777777777777778,
             "#fb9f3a"
            ],
            [
             0.8888888888888888,
             "#fdca26"
            ],
            [
             1,
             "#f0f921"
            ]
           ],
           "sequentialminus": [
            [
             0,
             "#0d0887"
            ],
            [
             0.1111111111111111,
             "#46039f"
            ],
            [
             0.2222222222222222,
             "#7201a8"
            ],
            [
             0.3333333333333333,
             "#9c179e"
            ],
            [
             0.4444444444444444,
             "#bd3786"
            ],
            [
             0.5555555555555556,
             "#d8576b"
            ],
            [
             0.6666666666666666,
             "#ed7953"
            ],
            [
             0.7777777777777778,
             "#fb9f3a"
            ],
            [
             0.8888888888888888,
             "#fdca26"
            ],
            [
             1,
             "#f0f921"
            ]
           ]
          },
          "colorway": [
           "#636efa",
           "#EF553B",
           "#00cc96",
           "#ab63fa",
           "#FFA15A",
           "#19d3f3",
           "#FF6692",
           "#B6E880",
           "#FF97FF",
           "#FECB52"
          ],
          "font": {
           "color": "#2a3f5f"
          },
          "geo": {
           "bgcolor": "white",
           "lakecolor": "white",
           "landcolor": "#E5ECF6",
           "showlakes": true,
           "showland": true,
           "subunitcolor": "white"
          },
          "hoverlabel": {
           "align": "left"
          },
          "hovermode": "closest",
          "mapbox": {
           "style": "light"
          },
          "paper_bgcolor": "white",
          "plot_bgcolor": "#E5ECF6",
          "polar": {
           "angularaxis": {
            "gridcolor": "white",
            "linecolor": "white",
            "ticks": ""
           },
           "bgcolor": "#E5ECF6",
           "radialaxis": {
            "gridcolor": "white",
            "linecolor": "white",
            "ticks": ""
           }
          },
          "scene": {
           "xaxis": {
            "backgroundcolor": "#E5ECF6",
            "gridcolor": "white",
            "gridwidth": 2,
            "linecolor": "white",
            "showbackground": true,
            "ticks": "",
            "zerolinecolor": "white"
           },
           "yaxis": {
            "backgroundcolor": "#E5ECF6",
            "gridcolor": "white",
            "gridwidth": 2,
            "linecolor": "white",
            "showbackground": true,
            "ticks": "",
            "zerolinecolor": "white"
           },
           "zaxis": {
            "backgroundcolor": "#E5ECF6",
            "gridcolor": "white",
            "gridwidth": 2,
            "linecolor": "white",
            "showbackground": true,
            "ticks": "",
            "zerolinecolor": "white"
           }
          },
          "shapedefaults": {
           "line": {
            "color": "#2a3f5f"
           }
          },
          "ternary": {
           "aaxis": {
            "gridcolor": "white",
            "linecolor": "white",
            "ticks": ""
           },
           "baxis": {
            "gridcolor": "white",
            "linecolor": "white",
            "ticks": ""
           },
           "bgcolor": "#E5ECF6",
           "caxis": {
            "gridcolor": "white",
            "linecolor": "white",
            "ticks": ""
           }
          },
          "title": {
           "x": 0.05
          },
          "xaxis": {
           "automargin": true,
           "gridcolor": "white",
           "linecolor": "white",
           "ticks": "",
           "title": {
            "standoff": 15
           },
           "zerolinecolor": "white",
           "zerolinewidth": 2
          },
          "yaxis": {
           "automargin": true,
           "gridcolor": "white",
           "linecolor": "white",
           "ticks": "",
           "title": {
            "standoff": 15
           },
           "zerolinecolor": "white",
           "zerolinewidth": 2
          }
         }
        },
        "title": {
         "text": "Precision Recall Curve Plot",
         "x": 0.5
        },
        "width": 800,
        "xaxis": {
         "constrain": "domain",
         "title": {
          "text": "Recall"
         }
        },
        "yaxis": {
         "scaleanchor": "x",
         "scaleratio": 1,
         "title": {
          "text": "Precision"
         }
        }
       }
      }
     },
     "metadata": {},
     "output_type": "display_data"
    }
   ],
   "source": [
    "# precision recall curve plot\n",
    "plot.plot_precision_recall_curve()\n",
    "\n"
   ]
  },
  {
   "cell_type": "code",
   "execution_count": 305,
   "metadata": {},
   "outputs": [
    {
     "data": {
      "application/vnd.plotly.v1+json": {
       "config": {
        "plotlyServerURL": "https://plot.ly"
       },
       "data": [
        {
         "mode": "lines",
         "name": "Female (AUC=0.64)",
         "type": "scatter",
         "x": [
          0,
          0.011716760061130923,
          0.012565800645270844,
          0.013075224995754798,
          0.01358464934623875,
          0.013924265579894719,
          0.014263881813550688,
          0.014263881813550688,
          0.014773306164034642,
          0.015282730514518594,
          0.016131771098658515,
          0.016471387332314485,
          0.016980811682798438,
          0.017660044150110375,
          0.017660044150110375,
          0.018509084734250298,
          0.018678892851078283,
          0.01901850908473425,
          0.019527933435218203,
          0.021056206486670063,
          0.021056206486670063,
          0.022414671421293938,
          0.02292409577177789,
          0.023942944472745798,
          0.02479198505688572,
          0.025131601290541688,
          0.02547121752419766,
          0.026490066225165563,
          0.026490066225165563,
          0.0271692986924775,
          0.029716420444897265,
          0.030735269145865173,
          0.03107488537952114,
          0.031923925963661066,
          0.032093734080489045,
          0.032093734080489045,
          0.032772966547800986,
          0.03345219901511292,
          0.033961623365596876,
          0.034301239599252846,
          0.035489896417048736,
          0.03650874511801664,
          0.037357785702156567,
          0.03956529122092036,
          0.03990490745457633,
          0.040244523688232295,
          0.04075394803871625,
          0.04075394803871625,
          0.041263372389200206,
          0.04228222109016811,
          0.046697232127695706,
          0.04771608082866361,
          0.049074545763287486,
          0.051791475632535236,
          0.05858380030565461,
          0.06011207335710647,
          0.06045168959076244,
          0.06282900322635422,
          0.06333842757683818,
          0.065206316861946,
          0.0684326710816777,
          0.0694515197826456,
          0.07013075224995755,
          0.0706401766004415,
          0.07131940906775344,
          0.07318729835286127,
          0.07573442010528103,
          0.07641365257259297,
          0.0782815418577008,
          0.07896077432501274,
          0.07980981490915266,
          0.08014943114280863,
          0.0826965528952284,
          0.08354559347936831,
          0.08541348276447615,
          0.08592290711496009,
          0.086941755815928,
          0.08931906945151978,
          0.08948887756834777,
          0.09050772626931568,
          0.09169638308711156,
          0.09390388860587535,
          0.09865851587705893,
          0.10052640516216675,
          0.10256410256410256,
          0.10511122431652233,
          0.10867719476991,
          0.11071489217184581,
          0.11258278145695365,
          0.11546951944302938,
          0.1163185600271693,
          0.11750721684496519,
          0.11750721684496519,
          0.11971472236372899,
          0.12395992528442859,
          0.12480896586856852,
          0.1249787739853965,
          0.12650704703684837,
          0.12786551197147222,
          0.1293937850229241,
          0.13058244184072,
          0.13092205807437596,
          0.13431822041093563,
          0.1358464934623875,
          0.1380539989811513,
          0.14094073696722703,
          0.1445067074206147,
          0.14467651553744268,
          0.14841229410765835,
          0.1531669213788419,
          0.15401596196298184,
          0.1553744268976057,
          0.16029886228561727,
          0.1606384785192732,
          0.16471387332314485,
          0.1684496518933605,
          0.16912888436067244,
          0.17201562234674816,
          0.17541178468330787,
          0.1782985226693836,
          0.17897775513669553,
          0.18203430123959927,
          0.18271353370691118,
          0.18610969604347088,
          0.18644931227712686,
          0.1903548989641705,
          0.1913737476651384,
          0.19392086941755815,
          0.19510952623535405,
          0.19748683987094584,
          0.2012226184411615,
          0.20376974019358127,
          0.20614705382917303,
          0.20750551876379691,
          0.20784513499745289,
          0.20835455934793684,
          0.2095432161657327,
          0.2109016811003566,
          0.21175072168449652,
          0.21480726778740022,
          0.2163355408388521,
          0.2227882492783155,
          0.22431652232976737,
          0.22635421973170317,
          0.22907114960095093,
          0.23348616063847852,
          0.23739174732552215,
          0.23841059602649006,
          0.23942944472745797,
          0.2423161827135337,
          0.24418407199864153,
          0.24503311258278146,
          0.24842927491934114,
          0.24961793173713703,
          0.25165562913907286,
          0.2533537103073527,
          0.25556121582611646,
          0.2562404482934284,
          0.25691968076074034,
          0.25793852946170825,
          0.2584479538121922,
          0.2594668025131601,
          0.2599762268636441,
          0.2694854814060112,
          0.27440991679402277,
          0.2813720495839701,
          0.28307013075224996,
          0.2898624554253693,
          0.29308880964510103,
          0.2966547800984887,
          0.30140940736967226,
          0.3020886398369842,
          0.30276787230429614,
          0.30412633723892,
          0.3063338427576838,
          0.31142808626252333,
          0.3127865511971472,
          0.3195788758702666,
          0.32314484632365426,
          0.3236542706741382,
          0.32993717099677367,
          0.3321446765155374,
          0.3323144846323654,
          0.337069111903549,
          0.34114450670742064,
          0.34233316352521653,
          0.3487858719646799,
          0.3513329937170997,
          0.3596535914416709,
          0.36423841059602646,
          0.36542706741382236,
          0.36780438104941415,
          0.37120054338597386,
          0.3718797758532858,
          0.3727288164374257,
          0.37527593818984545,
          0.3759551706571574,
          0.3790117167600611,
          0.38121922227882493,
          0.3815588385124809,
          0.3818984547461369,
          0.3852946170826966,
          0.38835116318560026,
          0.38970962812022414,
          0.39089828493802004,
          0.3937850229240958,
          0.39548310409237564,
          0.39684156902699946,
          0.39803022584479536,
          0.40023773136355917,
          0.402105620648667,
          0.40601120733571067,
          0.4104262183732382,
          0.4151808456444218,
          0.4192562404482934,
          0.4260485651214128,
          0.42791645440652065,
          0.4299541518084564,
          0.43097300050942433,
          0.43165223297673627,
          0.43301069791136015,
          0.4369162845984038,
          0.4391237901171676,
          0.44184071998641533,
          0.44387841738835115,
          0.44387841738835115,
          0.44625573102394295,
          0.44846323654270676,
          0.45355748004754626,
          0.45729325861776193,
          0.45848191543555783,
          0.4598403803701817,
          0.46561385634233315,
          0.4686704024452369,
          0.4717269485481406,
          0.4769910001698081,
          0.4803871625063678,
          0.4859908303616913,
          0.4904058413992189,
          0.49091526574970284,
          0.49431142808626255,
          0.49617931737137033,
          0.4963491254881983,
          0.4965189336050263,
          0.49838682289013414,
          0.49940567159110205,
          0.5007641365257259,
          0.5024622176940058,
          0.5038206826286297,
          0.5106130073017491,
          0.5114620478858889,
          0.5140091696383087,
          0.5179147563253523,
          0.5204618780777721,
          0.521310918661912,
          0.5245372728816438,
          0.5257259296994397,
          0.5287824758023434,
          0.5337069111903548,
          0.5345559517744948,
          0.5354049923586347,
          0.5371030735269146,
          0.5396501952793343,
          0.5418577007980981,
          0.5423671251485821,
          0.5457632874851418,
          0.5464425199524537,
          0.5467821361861097,
          0.5494990660553575,
          0.5513669553404653,
          0.5530650365087452,
          0.5573102394294447,
          0.5600271692986925,
          0.5620648667006283,
          0.564611988453048,
          0.565800645270844,
          0.5695364238410596,
          0.5715741212429954,
          0.5758193241636951,
          0.5792154865002547,
          0.5815928001358465,
          0.5843097300050942,
          0.5846493462387502,
          0.5854983868228901,
          0.586687043640686,
          0.5912718627950416,
          0.5926303277296655,
          0.5956868738325692,
          0.6004415011037527,
          0.6225165562913907,
          0.6247240618101545,
          0.6284598403803702,
          0.6340635082356937,
          0.6345729325861776,
          0.6422142978434369,
          0.6449312277126846,
          0.6473085413482764,
          0.6481575819324163,
          0.6512141280353201,
          0.652232976736288,
          0.6564781796569876,
          0.6574970283579555,
          0.6597045338767193,
          0.6641195449142469,
          0.6658176260825267,
          0.6698930208863983,
          0.6749872643912379,
          0.6780438104941416,
          0.6799116997792495,
          0.6833078621158092,
          0.6878926812701647,
          0.6899303786721005,
          0.6906096111394124,
          0.6945151978264561,
          0.695703854644252,
          0.7001188656817796,
          0.7007980981490916,
          0.7013075224995755,
          0.7035150280183393,
          0.7058923416539311,
          0.7069111903548989,
          0.7104771608082866,
          0.7135337069111903,
          0.7184581422992019,
          0.7193071828833418,
          0.7198166072338258,
          0.7245712345050094,
          0.7284768211920529,
          0.7371370351502802,
          0.7378162676175921,
          0.738665308201732,
          0.7403633893700119,
          0.7435897435897436,
          0.7444387841738835,
          0.7463066734589914,
          0.7476651383936153,
          0.7486839870945832,
          0.7517405331974868,
          0.7522499575479707,
          0.7539480387162506,
          0.7547970793003905,
          0.7578536254032943,
          0.7585328578706062,
          0.7595517065715741,
          0.7619290202071659,
          0.7632874851417898,
          0.7654949906605536,
          0.7660044150110376,
          0.7753438614365766,
          0.7761929020207166,
          0.7763627101375445,
          0.7768721344880285,
          0.7778909831889964,
          0.7799286805909322,
          0.7819663779928681,
          0.7836644591611479,
          0.7875700458481916,
          0.7889285107828155,
          0.7901171676006113,
          0.7933435218203431,
          0.7957208354559347,
          0.7962302598064187,
          0.7972491085073866,
          0.7979283409746986,
          0.7984377653251825,
          0.8006452708439463,
          0.8014943114280862,
          0.8020037357785702,
          0.803871625063678,
          0.804720665647818,
          0.8242485990830362,
          0.8247580234335201,
          0.82560706401766,
          0.8278145695364238,
          0.8296824588215317,
          0.8322295805739515,
          0.8334182373917474,
          0.8361351672609951,
          0.8376634403124469,
          0.8381728646629308,
          0.8442859568687383,
          0.8458142299201902,
          0.847342502971642,
          0.848191543555782,
          0.8497198166072338,
          0.8539650195279335,
          0.8563423331635253,
          0.8578706062149771,
          0.8590592630327729,
          0.8605875360842248,
          0.8624554253693326,
          0.8648327390049244,
          0.869077941925624,
          0.869587366276108,
          0.8723042961453558,
          0.8745118016641196,
          0.8758702665987435,
          0.8765494990660554,
          0.8770589234165393,
          0.8779079640006793,
          0.8807947019867549,
          0.8821531669213788,
          0.8836814399728307,
          0.8959076243844456,
          0.8970962812022415,
          0.8979453217863814,
          0.8991339786041773,
          0.9003226354219732,
          0.9023603328239089,
          0.9040584139921888,
          0.9050772626931567,
          0.9101715061979962,
          0.9113601630157921,
          0.9147563253523519,
          0.9152657497028358,
          0.9159449821701477,
          0.9191713363898795,
          0.9263032772966547,
          0.9281711665817626,
          0.9302088639836984,
          0.9307182883341824,
          0.9310579045678383,
          0.9317371370351503,
          0.9334352182034301,
          0.934623875021226,
          0.93513329937171,
          0.9364917643063339,
          0.9402275428765495,
          0.9415860078111734,
          0.9432840889794533,
          0.9448123620309051,
          0.9449821701477331,
          0.9465104431991849,
          0.9507556461198845,
          0.9517744948208524,
          0.9536423841059603,
          0.9541518084564442,
          0.9551706571574121,
          0.9585668194939718,
          0.9595856681949397,
          0.9597554763117677,
          0.9623025980641875,
          0.9626422142978435,
          0.9641704873492953,
          0.9648497198166073,
          0.9658685685175752,
          0.9663779928680591,
          0.9675666496858549,
          0.9677364578026829,
          0.9685854983868228,
          0.9694345389709628,
          0.9701137714382747,
          1
         ],
         "y": [
          0,
          0.010672914226213718,
          0.01145385916959521,
          0.011844331641285956,
          0.013015749056358194,
          0.01353637901861252,
          0.013666536509176102,
          0.01548874137706625,
          0.015749056358193413,
          0.016139528829884158,
          0.017050631263829233,
          0.017831576207210726,
          0.019002993622282964,
          0.020434726018482365,
          0.02095535598073669,
          0.02290771833919042,
          0.02342834830144475,
          0.023818820773135494,
          0.023948978263699076,
          0.025380710659898477,
          0.02603149811271639,
          0.02707275803722504,
          0.02837433294286086,
          0.03175842769751399,
          0.03462189248991279,
          0.035142522452167126,
          0.036704412338930105,
          0.038917089678511,
          0.03956787713132891,
          0.03995834960301965,
          0.044644019263308604,
          0.04672653911232592,
          0.04763764154627099,
          0.04867890147077964,
          0.050761421319796954,
          0.05128205128205128,
          0.05323441364050501,
          0.05466614603670441,
          0.05583756345177665,
          0.05778992581023038,
          0.060653390602629184,
          0.062345437979955745,
          0.06455811531953663,
          0.06690095014968112,
          0.06794221007418977,
          0.069113627489262,
          0.07015488741377066,
          0.07054535988546141,
          0.07054535988546141,
          0.07288819471560588,
          0.08121827411167512,
          0.08330079396069244,
          0.08759599114929065,
          0.09202134582845242,
          0.10152284263959391,
          0.10334504750748405,
          0.10490693739424704,
          0.10777040218664584,
          0.10894181960171807,
          0.11154496941298972,
          0.11831315892229598,
          0.12039567877131328,
          0.12130678120525837,
          0.12234804112976702,
          0.12286867109202135,
          0.1253416634127294,
          0.12989717558245478,
          0.13224001041259925,
          0.13653520760119744,
          0.13731615254457893,
          0.1412208772614864,
          0.14317323961994013,
          0.14890016920473773,
          0.15098268905375503,
          0.15553820122348042,
          0.15749056358193414,
          0.1599635559026422,
          0.16256670571391382,
          0.16282702069504099,
          0.16334765065729534,
          0.16477938305349474,
          0.17037615514772875,
          0.18000780944943381,
          0.1828712742418326,
          0.18768710139268516,
          0.19055056618508395,
          0.19419497592086424,
          0.19718859820382664,
          0.2003123779773526,
          0.20682025250553168,
          0.20773135493947675,
          0.20955355980736692,
          0.21059481973187558,
          0.21515033190160093,
          0.22152804893921646,
          0.22217883639203437,
          0.22361056878823377,
          0.224781986203306,
          0.22647403358063256,
          0.23024860080697643,
          0.23324222308993883,
          0.23441364050501107,
          0.2392294676558636,
          0.24144214499544447,
          0.24469608225953404,
          0.2484706494858779,
          0.2557594689574385,
          0.25628009891969283,
          0.2616165560327997,
          0.26669269816477936,
          0.2672133281270337,
          0.2707275803722504,
          0.2786671872966289,
          0.27918781725888325,
          0.2830925419757907,
          0.2881686841077704,
          0.28920994403227906,
          0.2931146687491865,
          0.29714955095665757,
          0.3018352206169465,
          0.302616165560328,
          0.30730183522061694,
          0.3079526226734349,
          0.313809709748796,
          0.3140700247299232,
          0.32018742678641154,
          0.3227905765976832,
          0.3253937264089548,
          0.32695561629571784,
          0.3295587661069895,
          0.33385396329558764,
          0.338409475465313,
          0.34192372771052976,
          0.3450475074840557,
          0.3472601848236366,
          0.3507744370688533,
          0.3528569569178706,
          0.35546010672914224,
          0.3565013666536509,
          0.3609267213328127,
          0.3667838084081739,
          0.3765456202004425,
          0.3784979825588963,
          0.3826630222569309,
          0.38865026682285564,
          0.39385656644539896,
          0.3998438110113237,
          0.40088507093583237,
          0.4017961733697774,
          0.4059612130678121,
          0.4093453078224652,
          0.4099960952752831,
          0.4148119224261356,
          0.41663412729402577,
          0.4196277495769882,
          0.4228816868410777,
          0.42821814395418456,
          0.4301705063126383,
          0.43121176623714697,
          0.4353768059351816,
          0.4358974358974359,
          0.43850058570870754,
          0.439281530652089,
          0.45216712221788363,
          0.45711310685929973,
          0.46388129636860603,
          0.4653130287648054,
          0.4720812182741117,
          0.4776779903683457,
          0.48210334504750746,
          0.4890016920473773,
          0.4899127944813224,
          0.49095405440583106,
          0.49160484185864894,
          0.49290641676428476,
          0.49837303136795524,
          0.5000650787452818,
          0.5067031107640245,
          0.5091761030847325,
          0.5091761030847325,
          0.516204607575166,
          0.5195887023298191,
          0.5198490173109462,
          0.5244045294806716,
          0.5318235064427957,
          0.5337758688012495,
          0.5396329558766108,
          0.5424964206690095,
          0.5531693348952232,
          0.5578550045555122,
          0.560067681895093,
          0.5641025641025641,
          0.5680072888194716,
          0.5689183912534166,
          0.571912013536379,
          0.5736040609137056,
          0.5746453208382143,
          0.579070675517376,
          0.5814135103475205,
          0.5816738253286476,
          0.5823246127814655,
          0.5859690225172459,
          0.5894832747624625,
          0.5906546921775349,
          0.5928673695171157,
          0.5961213067812052,
          0.5982038266302225,
          0.6006768189509306,
          0.6022387088376936,
          0.6051021736300924,
          0.6074450084602369,
          0.6100481582715085,
          0.6134322530261617,
          0.6172068202525055,
          0.6203306000260315,
          0.6255368996485747,
          0.6280098919692828,
          0.6303527267994273,
          0.6321749316673174,
          0.6326955616295717,
          0.6359494988936614,
          0.6410256410256411,
          0.643498633346349,
          0.6462319406481843,
          0.6475335155538201,
          0.648184303006638,
          0.6530001301574906,
          0.6558635949498893,
          0.6601587921384876,
          0.6653650917610309,
          0.6669269816477938,
          0.668098399062866,
          0.672784068723155,
          0.6779903683456983,
          0.681504620590915,
          0.6868410777040219,
          0.688663282571912,
          0.6947806846284004,
          0.6994663542886893,
          0.700507614213198,
          0.7037615514772875,
          0.7054535988546141,
          0.7058440713263048,
          0.7068853312508134,
          0.709228166080958,
          0.7111805284394117,
          0.7131328907978655,
          0.7146947806846284,
          0.7161265130808278,
          0.7238058050240791,
          0.7248470649485877,
          0.7273200572692958,
          0.7334374593257842,
          0.7352596641936744,
          0.7361707666276194,
          0.7399453338539633,
          0.7428087986463621,
          0.7447611610048158,
          0.7471039958349603,
          0.7478849407783418,
          0.7485357282311597,
          0.7508785630613042,
          0.7533515553820123,
          0.754653130287648,
          0.7549134452687752,
          0.7576467525706104,
          0.7594689574385006,
          0.759989587400755,
          0.7629832096837172,
          0.7646752570610439,
          0.767148249381752,
          0.7711831315892229,
          0.7735259664193674,
          0.7757386437589483,
          0.7779513210985293,
          0.7793830534947286,
          0.7821163607965639,
          0.7849798255889626,
          0.7868020304568528,
          0.7883639203436158,
          0.7900559677209423,
          0.7922686450605232,
          0.7930495900039047,
          0.7931797474944683,
          0.7935702199661591,
          0.7953924248340491,
          0.7969543147208121,
          0.7987765195887023,
          0.8019002993622283,
          0.817258883248731,
          0.8193414030977483,
          0.8218143954184564,
          0.8255889626448002,
          0.8261095926070545,
          0.8328777821163608,
          0.8339190420408694,
          0.8375634517766497,
          0.8379539242483405,
          0.8419888064558115,
          0.843420538852011,
          0.8466744761161005,
          0.8482363660028635,
          0.849017310946245,
          0.852141090719771,
          0.8533125081348432,
          0.8560458154366783,
          0.8604711701158402,
          0.8629441624365483,
          0.8637251073799297,
          0.8661980997006378,
          0.8682806195496551,
          0.868931407002473,
          0.869582194455291,
          0.8737472341533256,
          0.8743980216061434,
          0.8763503839645972,
          0.8772614863985423,
          0.877651958870233,
          0.8794741637381231,
          0.881686841077704,
          0.8825979435116491,
          0.8855915657946115,
          0.8866328257191202,
          0.8891058180398282,
          0.8897566054926461,
          0.8897566054926461,
          0.8922295978133542,
          0.8944422751529351,
          0.8993882597943512,
          0.8996485747754783,
          0.8999088897566055,
          0.9005596772094234,
          0.9014707796433685,
          0.9019914096056229,
          0.9038136144735129,
          0.9039437719640765,
          0.9045945594168945,
          0.906286606794221,
          0.9064167642847846,
          0.9073278667187297,
          0.9079786541715476,
          0.9117532213978915,
          0.9127944813224002,
          0.9129246388129637,
          0.9135754262657816,
          0.9144865286997267,
          0.9163087335676168,
          0.9163087335676168,
          0.9199531433033971,
          0.9203436157750878,
          0.920603930756215,
          0.9208642457373422,
          0.9212547182090329,
          0.9222959781335416,
          0.923727710529741,
          0.9243784979825589,
          0.9259403878693219,
          0.9262007028504491,
          0.9272419627749577,
          0.9278927502277756,
          0.9301054275673565,
          0.9303657425484837,
          0.9311466874918651,
          0.931797474944683,
          0.932448262397501,
          0.9330990498503189,
          0.9333593648314461,
          0.9337498373031368,
          0.9341403097748275,
          0.9344006247559548,
          0.9422100741897697,
          0.9423402316803332,
          0.9424703891708968,
          0.9435116490954054,
          0.9446830665104777,
          0.9462449563972407,
          0.9471560588311857,
          0.94767668879344,
          0.949238578680203,
          0.9500195236235845,
          0.9526226734348562,
          0.9527528309254197,
          0.9534036183782376,
          0.9537940908499284,
          0.9540544058310556,
          0.9565273981517637,
          0.9576988155668359,
          0.957959130547963,
          0.9580892880385267,
          0.9584797605102173,
          0.9588702329819081,
          0.9603019653781075,
          0.9614733827931797,
          0.9614733827931797,
          0.9614733827931797,
          0.9623844852271248,
          0.9629051151893792,
          0.9630352726799427,
          0.9631654301705063,
          0.9632955876610699,
          0.9640765326044514,
          0.96511779252896,
          0.9652479500195236,
          0.9694129897175583,
          0.9701939346609397,
          0.9705844071326305,
          0.9713653520760119,
          0.972276454509957,
          0.9727970844722114,
          0.9730573994533386,
          0.9735780294155929,
          0.9746192893401016,
          0.9747494468306651,
          0.975400234283483,
          0.9756605492646102,
          0.9760510217363009,
          0.9770922816608095,
          0.979435116490954,
          0.9802160614343356,
          0.9806065339060263,
          0.9806065339060263,
          0.980997006377717,
          0.9816477938305349,
          0.9820382663022257,
          0.9820382663022257,
          0.9822985812833529,
          0.9828192112456072,
          0.9830795262267343,
          0.9832096837172979,
          0.9832096837172979,
          0.9836001561889887,
          0.9836001561889887,
          0.9847715736040609,
          0.985682676038006,
          0.985682676038006,
          0.9859429910191332,
          0.9859429910191332,
          0.9862033060002603,
          0.9867239359625146,
          0.9869842509436418,
          0.9871144084342054,
          0.9873747234153325,
          0.9873747234153325,
          0.9876350383964597,
          0.9877651958870233,
          0.9878953533775868,
          0.988155668358714,
          0.9884159833398412,
          0.9886762983209684,
          0.9888064558115319,
          0.9890667707926591,
          0.9890667707926591,
          1
         ]
        },
        {
         "mode": "lines",
         "name": "Male (AUC=0.64)",
         "type": "scatter",
         "x": [
          0,
          0.010933229207340883,
          0.010933229207340883,
          0.011193544188468046,
          0.011323701679031628,
          0.011584016660158791,
          0.011844331641285956,
          0.01210464662241312,
          0.012234804112976701,
          0.012364961603540284,
          0.012625276584667448,
          0.012625276584667448,
          0.012885591565794611,
          0.013015749056358194,
          0.013276064037485357,
          0.013796693999739686,
          0.014057008980866849,
          0.014057008980866849,
          0.014317323961994012,
          0.014317323961994012,
          0.015228426395939087,
          0.016399843811011325,
          0.016399843811011325,
          0.01679031628270207,
          0.01679031628270207,
          0.01692047377326565,
          0.017180788754392814,
          0.017701418716647144,
          0.017961733697774308,
          0.017961733697774308,
          0.018352206169465052,
          0.019002993622282964,
          0.01939346609397371,
          0.01939346609397371,
          0.019783938565664454,
          0.020564883509045947,
          0.02290771833919042,
          0.023948978263699076,
          0.02433945073538982,
          0.024599765716516987,
          0.025250553169334895,
          0.025380710659898477,
          0.026421970584407133,
          0.02694260054666146,
          0.027202915527788623,
          0.027723545490042953,
          0.028634647923988024,
          0.029415592867369517,
          0.029806065339060262,
          0.030587010282441755,
          0.034752049980476374,
          0.034882207471039955,
          0.035923467395548615,
          0.036704412338930105,
          0.03683456982949369,
          0.03696472732005727,
          0.03709488481062085,
          0.037615514772875176,
          0.038526617206820254,
          0.038526617206820254,
          0.038526617206820254,
          0.03969803462189249,
          0.041129767018091894,
          0.04152023948978264,
          0.04191071196147338,
          0.042040869452036965,
          0.04230118443316413,
          0.04347260184823636,
          0.04594559416894442,
          0.046205909150071584,
          0.046596381621762335,
          0.04724716907458024,
          0.047377326565143825,
          0.049980476376415464,
          0.050761421319796954,
          0.05232331120655994,
          0.05284394116881427,
          0.05375504360275934,
          0.055316933489522324,
          0.05648835090459456,
          0.05752961082910321,
          0.0576597683196668,
          0.05778992581023038,
          0.0655993752440453,
          0.06585969022517246,
          0.06625016269686321,
          0.06664063516855395,
          0.06690095014968112,
          0.06755173760249902,
          0.06820252505531693,
          0.06885331250813484,
          0.06963425745151633,
          0.06989457243264349,
          0.0721072497722244,
          0.0727580372250423,
          0.07379929714955095,
          0.07405961213067812,
          0.0756215020174411,
          0.07627228947025902,
          0.07770402186645842,
          0.07874528179096707,
          0.07913575426265781,
          0.07939606924378498,
          0.07965638422491214,
          0.08004685669660289,
          0.08369126643238319,
          0.08369126643238319,
          0.08551347130027333,
          0.0864245737342184,
          0.08707536118703631,
          0.0872055186775999,
          0.08824677860210856,
          0.09202134582845242,
          0.09267213328127033,
          0.09358323571521542,
          0.093713393205779,
          0.09540544058310556,
          0.09605622803592347,
          0.09618638552648705,
          0.09800859039437719,
          0.09852922035663153,
          0.0994403227905766,
          0.10009111024339451,
          0.10035142522452167,
          0.10061174020564884,
          0.10555772484706495,
          0.10777040218664584,
          0.1102433945073539,
          0.1102433945073539,
          0.11089418196017181,
          0.11336717428087986,
          0.11440843420538852,
          0.1174020564883509,
          0.11831315892229598,
          0.12052583626187686,
          0.12234804112976702,
          0.12273851360145777,
          0.12364961603540284,
          0.12560197839385656,
          0.12625276584667447,
          0.1304178055447091,
          0.13106859299752702,
          0.13171938045034493,
          0.13380190029936223,
          0.13627489262007028,
          0.13705583756345177,
          0.13952882988415982,
          0.14395418456332162,
          0.14668749186515684,
          0.14785890928022907,
          0.15098268905375503,
          0.15176363399713655,
          0.15332552388389953,
          0.15657946114798907,
          0.15801119354418847,
          0.1620460757516595,
          0.16243654822335024,
          0.16608095795913055,
          0.1671222178836392,
          0.17389040739294545,
          0.1744110373551998,
          0.17818560458154367,
          0.18065859690225172,
          0.18274111675126903,
          0.19809970063777171,
          0.20122348041129767,
          0.20304568527918782,
          0.2046075751659508,
          0.20642978003384094,
          0.20682025250553168,
          0.20695040999609526,
          0.20773135493947675,
          0.20994403227905767,
          0.21163607965638423,
          0.2131979695431472,
          0.21502017441103735,
          0.21788363920343615,
          0.2206169465052714,
          0.2220486789014708,
          0.22426135624105167,
          0.22647403358063256,
          0.22881686841077703,
          0.2328517506182481,
          0.23532474293895614,
          0.2370167903162827,
          0.24001041259924508,
          0.2405310425614994,
          0.24235324742938957,
          0.2450865547312248,
          0.24534686971235195,
          0.24664844461798777,
          0.24912143693869582,
          0.2514642717688403,
          0.2521150592216582,
          0.2528960041650397,
          0.2552388389951842,
          0.2571912013536379,
          0.26005466614603673,
          0.26382923337238057,
          0.26474033580632567,
          0.2665625406742158,
          0.2726799427307042,
          0.2751529350514122,
          0.27619419497592085,
          0.2838734869191722,
          0.2853052193153716,
          0.2868671092021346,
          0.2888194715605883,
          0.29077183391904204,
          0.2931146687491865,
          0.29415592867369517,
          0.29454640114538594,
          0.29623844852271247,
          0.29949238578680204,
          0.3005336457113107,
          0.30521931537159963,
          0.311336717428088,
          0.31315892229597814,
          0.318495379409085,
          0.3220096316543017,
          0.327215931276845,
          0.33190160093713394,
          0.33307301835220615,
          0.33463490823896913,
          0.33984120786151245,
          0.3441364050501106,
          0.3469998698425094,
          0.35181569699336196,
          0.3524664844461799,
          0.3537680593518157,
          0.3565013666536509,
          0.358974358974359,
          0.3640505011063387,
          0.3673044383704282,
          0.3678250683326825,
          0.36964727320057267,
          0.3719901080307172,
          0.3744631003514252,
          0.3796693999739685,
          0.3827931797474945,
          0.38656774697383833,
          0.38995184172849146,
          0.3925549915397631,
          0.3948978263699076,
          0.3977612911623064,
          0.3993231810490694,
          0.4017961733697774,
          0.4038786932187947,
          0.4071326304828843,
          0.4093453078224652,
          0.4105167252375374,
          0.41403097748275414,
          0.4176753872185344,
          0.41832617467135236,
          0.4185864896524795,
          0.420929324482624,
          0.42535467916178576,
          0.4263959390862944,
          0.428087986463621,
          0.43108160874658336,
          0.43199271118052845,
          0.4358974358974359,
          0.43993231810490696,
          0.4421449954444878,
          0.44683066510477676,
          0.4575035793309905,
          0.4603670441233893,
          0.4662241311987505,
          0.4681764935572042,
          0.4755954705193284,
          0.48015098268905376,
          0.4804112976701809,
          0.48379539242483405,
          0.49082389691526745,
          0.49082389691526745,
          0.49329688923597553,
          0.4999349212547182,
          0.5016269686320448,
          0.5070935832357152,
          0.5083951581413511,
          0.5090459455941689,
          0.5100872055186776,
          0.5109983079526227,
          0.5178966549524925,
          0.5223220096316543,
          0.5279187817258884,
          0.5346869712351946,
          0.536118703631394,
          0.5428868931407003,
          0.5478328777821163,
          0.5607184693479109,
          0.5614994142912925,
          0.5641025641025641,
          0.5646231940648184,
          0.568788233762853,
          0.5698294936873617,
          0.5717818560458154,
          0.5771183131589223,
          0.5803722504230119,
          0.5833658727059742,
          0.5851880775738644,
          0.5900039047247169,
          0.5906546921775349,
          0.5940387869321879,
          0.5982038266302225,
          0.5991149290641676,
          0.6001561889886763,
          0.6061434335546011,
          0.6113497331771444,
          0.6173369777430691,
          0.6215020174411038,
          0.6234543797995574,
          0.6332161915918261,
          0.6390732786671873,
          0.643498633346349,
          0.6445398932708577,
          0.6471430430821293,
          0.6492255629311466,
          0.6527398151763634,
          0.6549524925159443,
          0.6580762722894703,
          0.6615905245346869,
          0.6661460367044123,
          0.6704412338930106,
          0.6730443837042822,
          0.6746062735910452,
          0.6772094234023168,
          0.6798125732135885,
          0.6859299752700768,
          0.6861902902512039,
          0.6920473773265652,
          0.6926981647793831,
          0.697383834439672,
          0.6981647793830535,
          0.7028504490433425,
          0.7068853312508134,
          0.7107900559677209,
          0.7118313158922296,
          0.7169074580242093,
          0.7208121827411168,
          0.7213328127033711,
          0.7292724196277496,
          0.7327866718729663,
          0.7333073018352206,
          0.7383834439672003,
          0.7437199010803072,
          0.7442405310425615,
          0.7515293505141221,
          0.755303917740466,
          0.7585578550045555,
          0.7607705323441364,
          0.765586359494989,
          0.7667577769100612,
          0.7697513991930236,
          0.7735259664193674,
          0.775218013796694,
          0.7763894312117663,
          0.7778211636079656,
          0.7784719510607836,
          0.7848496680983991,
          0.7894051802681245,
          0.7904464401926331,
          0.7922686450605232,
          0.7931797474944683,
          0.7996876220226474,
          0.8028114017961734,
          0.8058050240791358,
          0.8094494338149161,
          0.8123128986073148,
          0.8171287257581674,
          0.8199921905505662,
          0.8296238448522713,
          0.8352206169465053,
          0.8366523493427047,
          0.837172979304959,
          0.8374332942860861,
          0.8400364440973578,
          0.8425094364180659,
          0.8444617987765196,
          0.849017310946245,
          0.8510998307952623,
          0.8568267603800599,
          0.8587791227385136,
          0.862683847455421,
          0.8634647923988026,
          0.8677599895874007,
          0.8701028244175453,
          0.8746583365872705,
          0.8771313289079786,
          0.877651958870233,
          0.8786932187947416,
          0.8796043212286867,
          0.881686841077704,
          0.8884550305870103,
          0.8910581803982819,
          0.8922295978133542,
          0.8950930626057529,
          0.8966549524925159,
          0.8984771573604061,
          0.9079786541715476,
          0.9124040088507094,
          0.9166992060393075,
          0.9187817258883249,
          0.9271118052843941,
          0.9294546401145386,
          0.9294546401145386,
          0.9298451125862294,
          0.930886372510738,
          0.9320577899258102,
          0.9330990498503189,
          0.9354418846804634,
          0.9376545620200443,
          0.9393466093973708,
          0.9422100741897697,
          0.9441624365482234,
          0.9453338539632956,
          0.946765586359495,
          0.9487179487179487,
          0.949238578680203,
          0.9513210985292203,
          0.952362358453729,
          0.9532734608876741,
          0.9553559807366914,
          0.9600416503969803,
          0.9604321228686711,
          0.961082910321489,
          0.9632955876610699,
          0.9648574775478329,
          0.9653781075100872,
          0.968241572302486,
          0.9716256670571392,
          0.9729272419627749,
          0.9739685018872836,
          0.9746192893401016,
          0.9760510217363009,
          0.9761811792268645,
          0.9765716516985552,
          0.9770922816608095,
          0.9790446440192633,
          0.9795652739815176,
          0.980997006377717,
          0.9821684237927892,
          0.9829493687361708,
          0.9838604711701159,
          0.9842509436418065,
          0.9845112586229338,
          0.9863334634908238,
          0.9864636209813875,
          0.9869842509436418,
          0.988155668358714,
          0.9885461408304048,
          0.9893270857737863,
          1
         ],
         "y": [
          0,
          0.02988622856172525,
          0.030565461029037188,
          0.03141450161317711,
          0.03226354219731703,
          0.032433350314145015,
          0.033622007131940905,
          0.03413143148242486,
          0.035150280183392765,
          0.035829512650704706,
          0.037357785702156567,
          0.03769740193581253,
          0.040244523688232295,
          0.04041433180506028,
          0.04143318050602819,
          0.044829342842587876,
          0.04584819154355578,
          0.046357615894039736,
          0.04822550517914757,
          0.04924435388011547,
          0.05348955680081508,
          0.05501782985226694,
          0.05518763796909492,
          0.05671591102054678,
          0.058413992188826626,
          0.0597724571234505,
          0.06350823569366616,
          0.06486670062829003,
          0.06537612497877399,
          0.06656478179656988,
          0.06826286296484972,
          0.06894209543216166,
          0.06928171166581763,
          0.06979113601630157,
          0.0718288334182374,
          0.07369672270334522,
          0.08082866361012056,
          0.08405501782985227,
          0.08473425029716421,
          0.08524367464764816,
          0.08863983698420784,
          0.08982849380200374,
          0.09492273730684327,
          0.09594158600781118,
          0.09763966717609102,
          0.09967736457802683,
          0.10086602139582272,
          0.1020546782136186,
          0.10290371879775853,
          0.10409237561555443,
          0.1163185600271693,
          0.11784683307862116,
          0.11920529801324503,
          0.12209203599932077,
          0.12294107658346069,
          0.12345050093394465,
          0.12412973340125658,
          0.12548819833588046,
          0.12769570385464427,
          0.130412633723892,
          0.13092205807437596,
          0.13516726099507556,
          0.13754457463066735,
          0.13941246391577516,
          0.14094073696722703,
          0.14212939378502293,
          0.1436576668364748,
          0.14603498047206656,
          0.15028018339276616,
          0.15180845644421803,
          0.15265749702835796,
          0.15418577007980983,
          0.15571404313126166,
          0.1618271353370691,
          0.16233655968755306,
          0.16386483273900493,
          0.16658176260825266,
          0.16777041942604856,
          0.17031754117846834,
          0.17218543046357615,
          0.17439293598233996,
          0.17524197656647988,
          0.17575140091696384,
          0.19527933435218203,
          0.19612837493632196,
          0.1979962642214298,
          0.19850568857191372,
          0.19935472915605365,
          0.20156223467481746,
          0.20207165902530141,
          0.20275089149261336,
          0.20376974019358127,
          0.2042791645440652,
          0.206656478179657,
          0.20988283239938868,
          0.21107148921718458,
          0.21242995415180846,
          0.2163355408388521,
          0.21803362200713194,
          0.22007131940906777,
          0.22210901681100356,
          0.22312786551197147,
          0.22363728986245543,
          0.22380709797928341,
          0.22465613856342334,
          0.23399558498896247,
          0.23450500933944643,
          0.2367125148582102,
          0.2380709797928341,
          0.24044829342842589,
          0.2414671421293938,
          0.2421463745967057,
          0.24520292069960944,
          0.24605196128374937,
          0.2477500424520292,
          0.24825946680251315,
          0.2513160129054169,
          0.2523348616063848,
          0.2536933265410087,
          0.25556121582611646,
          0.2564102564102564,
          0.2596366106299881,
          0.26133469179826796,
          0.2621837323824079,
          0.2628629648497198,
          0.271523178807947,
          0.2754287654949907,
          0.2801833927661742,
          0.28069281711665817,
          0.2815418577007981,
          0.28646629308880966,
          0.28952283919171334,
          0.29308880964510103,
          0.29410765834606895,
          0.29648497198166074,
          0.29869247750042455,
          0.29920190185090845,
          0.2998811343182204,
          0.304296145355748,
          0.3054848021735439,
          0.30939038886058756,
          0.31006962132789945,
          0.31210731872983527,
          0.31669213788419087,
          0.3200883002207506,
          0.32195618950585836,
          0.3250127356087621,
          0.33010697911360165,
          0.33418237391747324,
          0.3358804550857531,
          0.3402954661232807,
          0.34250297164204446,
          0.3435218203430124,
          0.347767023263712,
          0.3487858719646799,
          0.35184241806758365,
          0.3526914586517236,
          0.3550687722873153,
          0.3577857021565631,
          0.36542706741382236,
          0.3659364917643063,
          0.37154015961962983,
          0.37527593818984545,
          0.37748344370860926,
          0.3995584988962472,
          0.4043131261674308,
          0.40736967227033455,
          0.4087281372049584,
          0.413312956359314,
          0.4145016131771099,
          0.4153506537612498,
          0.41569026999490577,
          0.41840719986415353,
          0.42078451349974527,
          0.424180675836305,
          0.4284258787570046,
          0.4304635761589404,
          0.43419935472915605,
          0.43538801154695195,
          0.4379351332993717,
          0.43997283070130755,
          0.44268976057055526,
          0.4469349634912549,
          0.44863304465953474,
          0.4505009339446426,
          0.4532178638138903,
          0.45355748004754626,
          0.4542367125148582,
          0.4576328748514179,
          0.45814229920190186,
          0.46034980472066567,
          0.4628969264730854,
          0.46459500764136524,
          0.46544404822550517,
          0.4662930888096451,
          0.47121752419765667,
          0.47427407030056035,
          0.47546272711835624,
          0.47868908133808796,
          0.4795381219222279,
          0.48208524367464767,
          0.4859908303616913,
          0.48853795211411105,
          0.489386992698251,
          0.49617931737137033,
          0.4975377823059942,
          0.49923586347427407,
          0.500594328408898,
          0.5016131771098659,
          0.5034810663949737,
          0.5036508745118017,
          0.5038206826286297,
          0.5056885719137375,
          0.5090847342502972,
          0.5095941586007812,
          0.5140091696383087,
          0.5196128374936322,
          0.5230089998301919,
          0.5282730514518594,
          0.5313295975547632,
          0.5343861436576668,
          0.5401596196298183,
          0.5415180845644422,
          0.5427067413822381,
          0.5464425199524537,
          0.5515367634572933,
          0.5537442689760571,
          0.5561215826116488,
          0.5561215826116488,
          0.5581592800135846,
          0.5608762098828324,
          0.5630837154015962,
          0.5669893020886398,
          0.5683477670232637,
          0.5690269994905757,
          0.5700458481915436,
          0.5720835455934794,
          0.5739514348785872,
          0.5807437595517065,
          0.5848191543555782,
          0.5895737816267618,
          0.5939887926642894,
          0.5978943793513329,
          0.5997622686364408,
          0.6019697741552046,
          0.6031584309730005,
          0.6045168959076244,
          0.6062149770759042,
          0.60910171506198,
          0.6102903718797759,
          0.6116488368143997,
          0.6147053829173035,
          0.6181015452538632,
          0.6184411614875192,
          0.6187807777211751,
          0.6209882832399388,
          0.6240448293428426,
          0.6247240618101545,
          0.6272711835625743,
          0.6281202241467142,
          0.6287994566140261,
          0.6321956189505858,
          0.6345729325861776,
          0.6357615894039735,
          0.6403464085583291,
          0.6486670062829003,
          0.6512141280353201,
          0.6576668364747835,
          0.6588554932925794,
          0.6629308880964511,
          0.6676855153676345,
          0.6678553234844625,
          0.6700628290032263,
          0.6763457293258618,
          0.6768551536763457,
          0.6804211241297334,
          0.6872134488028527,
          0.6885719137374766,
          0.6936661572423162,
          0.69587366276108,
          0.6972321276957039,
          0.6979113601630158,
          0.6985905926303277,
          0.7033452199015113,
          0.7069111903548989,
          0.7101375445746306,
          0.71692986924775,
          0.7186279504160299,
          0.7255900832059773,
          0.7305145185939887,
          0.7400237731363559,
          0.7405331974868399,
          0.7415520461878078,
          0.7420614705382917,
          0.7430803192392597,
          0.7437595517065716,
          0.7444387841738835,
          0.7466462896926473,
          0.7483443708609272,
          0.7503820682628629,
          0.7515707250806588,
          0.7549668874172185,
          0.7558159280013584,
          0.7576838172864663,
          0.760570555272542,
          0.7615894039735099,
          0.7626082526744778,
          0.7665138393615215,
          0.7709288503990491,
          0.7736457802682968,
          0.7756834776702326,
          0.7772117507216845,
          0.7836644591611479,
          0.7851927322125998,
          0.7882492783155035,
          0.7890983188996434,
          0.7904567838342673,
          0.7916454406520632,
          0.7921548650025472,
          0.7924944812362031,
          0.7938529461708269,
          0.7962302598064187,
          0.7987773815588385,
          0.8025131601290542,
          0.804890473764646,
          0.8060791305824418,
          0.8086262523348616,
          0.8096451010358295,
          0.8135506877228732,
          0.8138903039565292,
          0.8172864662930888,
          0.8179656987604007,
          0.8210222448633044,
          0.8217014773306164,
          0.8245882153166921,
          0.8279843776532518,
          0.8308711156393276,
          0.8315503481066395,
          0.8352861266768552,
          0.8393615214807267,
          0.8397011377143827,
          0.8446255731023943,
          0.8459840380370182,
          0.8468330786211581,
          0.8515877058923417,
          0.8553234844625573,
          0.8554932925793853,
          0.8590592630327729,
          0.8619460010188487,
          0.8641535065376125,
          0.8656817795890643,
          0.869077941925624,
          0.86941755815928,
          0.8706062149770759,
          0.8721344880285278,
          0.8734929529631517,
          0.8750212260146035,
          0.8751910341314315,
          0.8760400747155714,
          0.8802852776362711,
          0.8824927831550348,
          0.8824927831550348,
          0.8836814399728307,
          0.8845304805569706,
          0.8874172185430463,
          0.8892851078281542,
          0.89132280523009,
          0.8948887756834777,
          0.8974358974358975,
          0.8994735948378333,
          0.9013414841229411,
          0.9060961113941246,
          0.9083036169128884,
          0.9094922737306843,
          0.9105111224316522,
          0.9106809305484802,
          0.913058244184072,
          0.9140770928850399,
          0.9145865172355239,
          0.9164544065206317,
          0.9173034471047716,
          0.9198505688571914,
          0.9201901850908474,
          0.9210392256749873,
          0.9217184581422992,
          0.9235863474274071,
          0.9242655798947189,
          0.9268127016471387,
          0.9286805909322465,
          0.9293598233995585,
          0.9298692477500424,
          0.9305484802173544,
          0.9315673289183223,
          0.934793683138054,
          0.9366615724231618,
          0.9371709967736458,
          0.9395483104092376,
          0.9398879266428936,
          0.9414161996943454,
          0.9482085243674647,
          0.9509254542367125,
          0.9522839191713364,
          0.9533027678723043,
          0.9577177789098319,
          0.9587366276107998,
          0.9592460519612838,
          0.9592460519612838,
          0.9597554763117677,
          0.9600950925454237,
          0.9604347087790797,
          0.9626422142978435,
          0.9634912548819834,
          0.9645101035829513,
          0.9656987604007472,
          0.9660383766344032,
          0.9665478009848871,
          0.9672270334521991,
          0.9679062659195109,
          0.9679062659195109,
          0.9680760740363389,
          0.9689251146204788,
          0.9692647308541348,
          0.9702835795551027,
          0.9728307013075225,
          0.9735099337748344,
          0.9735099337748344,
          0.9745287824758023,
          0.9748683987094583,
          0.9752080149431143,
          0.9760570555272542,
          0.9770759042282221,
          0.9775853285787061,
          0.9789437935133299,
          0.9789437935133299,
          0.9804720665647818,
          0.9809814909152658,
          0.9813211071489217,
          0.9814909152657497,
          0.9823399558498896,
          0.9823399558498896,
          0.9830191883172016,
          0.9835286126676855,
          0.9838682289013415,
          0.9847172694854814,
          0.9852266938359654,
          0.9857361181864494,
          0.9857361181864494,
          0.9860757344201053,
          0.9864153506537613,
          0.9869247750042452,
          0.9874341993547292,
          0.9882832399388691,
          1
         ]
        }
       ],
       "layout": {
        "font": {
         "size": 18
        },
        "height": 800,
        "legend": {
         "x": 0.65,
         "xanchor": "right",
         "y": 0.01,
         "yanchor": "bottom"
        },
        "margin": {
         "b": 10,
         "l": 10,
         "r": 10,
         "t": 100
        },
        "shapes": [
         {
          "line": {
           "dash": "dash"
          },
          "type": "line",
          "x0": 0,
          "x1": 1,
          "y0": 0,
          "y1": 1
         }
        ],
        "template": {
         "data": {
          "bar": [
           {
            "error_x": {
             "color": "#2a3f5f"
            },
            "error_y": {
             "color": "#2a3f5f"
            },
            "marker": {
             "line": {
              "color": "#E5ECF6",
              "width": 0.5
             },
             "pattern": {
              "fillmode": "overlay",
              "size": 10,
              "solidity": 0.2
             }
            },
            "type": "bar"
           }
          ],
          "barpolar": [
           {
            "marker": {
             "line": {
              "color": "#E5ECF6",
              "width": 0.5
             },
             "pattern": {
              "fillmode": "overlay",
              "size": 10,
              "solidity": 0.2
             }
            },
            "type": "barpolar"
           }
          ],
          "carpet": [
           {
            "aaxis": {
             "endlinecolor": "#2a3f5f",
             "gridcolor": "white",
             "linecolor": "white",
             "minorgridcolor": "white",
             "startlinecolor": "#2a3f5f"
            },
            "baxis": {
             "endlinecolor": "#2a3f5f",
             "gridcolor": "white",
             "linecolor": "white",
             "minorgridcolor": "white",
             "startlinecolor": "#2a3f5f"
            },
            "type": "carpet"
           }
          ],
          "choropleth": [
           {
            "colorbar": {
             "outlinewidth": 0,
             "ticks": ""
            },
            "type": "choropleth"
           }
          ],
          "contour": [
           {
            "colorbar": {
             "outlinewidth": 0,
             "ticks": ""
            },
            "colorscale": [
             [
              0,
              "#0d0887"
             ],
             [
              0.1111111111111111,
              "#46039f"
             ],
             [
              0.2222222222222222,
              "#7201a8"
             ],
             [
              0.3333333333333333,
              "#9c179e"
             ],
             [
              0.4444444444444444,
              "#bd3786"
             ],
             [
              0.5555555555555556,
              "#d8576b"
             ],
             [
              0.6666666666666666,
              "#ed7953"
             ],
             [
              0.7777777777777778,
              "#fb9f3a"
             ],
             [
              0.8888888888888888,
              "#fdca26"
             ],
             [
              1,
              "#f0f921"
             ]
            ],
            "type": "contour"
           }
          ],
          "contourcarpet": [
           {
            "colorbar": {
             "outlinewidth": 0,
             "ticks": ""
            },
            "type": "contourcarpet"
           }
          ],
          "heatmap": [
           {
            "colorbar": {
             "outlinewidth": 0,
             "ticks": ""
            },
            "colorscale": [
             [
              0,
              "#0d0887"
             ],
             [
              0.1111111111111111,
              "#46039f"
             ],
             [
              0.2222222222222222,
              "#7201a8"
             ],
             [
              0.3333333333333333,
              "#9c179e"
             ],
             [
              0.4444444444444444,
              "#bd3786"
             ],
             [
              0.5555555555555556,
              "#d8576b"
             ],
             [
              0.6666666666666666,
              "#ed7953"
             ],
             [
              0.7777777777777778,
              "#fb9f3a"
             ],
             [
              0.8888888888888888,
              "#fdca26"
             ],
             [
              1,
              "#f0f921"
             ]
            ],
            "type": "heatmap"
           }
          ],
          "heatmapgl": [
           {
            "colorbar": {
             "outlinewidth": 0,
             "ticks": ""
            },
            "colorscale": [
             [
              0,
              "#0d0887"
             ],
             [
              0.1111111111111111,
              "#46039f"
             ],
             [
              0.2222222222222222,
              "#7201a8"
             ],
             [
              0.3333333333333333,
              "#9c179e"
             ],
             [
              0.4444444444444444,
              "#bd3786"
             ],
             [
              0.5555555555555556,
              "#d8576b"
             ],
             [
              0.6666666666666666,
              "#ed7953"
             ],
             [
              0.7777777777777778,
              "#fb9f3a"
             ],
             [
              0.8888888888888888,
              "#fdca26"
             ],
             [
              1,
              "#f0f921"
             ]
            ],
            "type": "heatmapgl"
           }
          ],
          "histogram": [
           {
            "marker": {
             "pattern": {
              "fillmode": "overlay",
              "size": 10,
              "solidity": 0.2
             }
            },
            "type": "histogram"
           }
          ],
          "histogram2d": [
           {
            "colorbar": {
             "outlinewidth": 0,
             "ticks": ""
            },
            "colorscale": [
             [
              0,
              "#0d0887"
             ],
             [
              0.1111111111111111,
              "#46039f"
             ],
             [
              0.2222222222222222,
              "#7201a8"
             ],
             [
              0.3333333333333333,
              "#9c179e"
             ],
             [
              0.4444444444444444,
              "#bd3786"
             ],
             [
              0.5555555555555556,
              "#d8576b"
             ],
             [
              0.6666666666666666,
              "#ed7953"
             ],
             [
              0.7777777777777778,
              "#fb9f3a"
             ],
             [
              0.8888888888888888,
              "#fdca26"
             ],
             [
              1,
              "#f0f921"
             ]
            ],
            "type": "histogram2d"
           }
          ],
          "histogram2dcontour": [
           {
            "colorbar": {
             "outlinewidth": 0,
             "ticks": ""
            },
            "colorscale": [
             [
              0,
              "#0d0887"
             ],
             [
              0.1111111111111111,
              "#46039f"
             ],
             [
              0.2222222222222222,
              "#7201a8"
             ],
             [
              0.3333333333333333,
              "#9c179e"
             ],
             [
              0.4444444444444444,
              "#bd3786"
             ],
             [
              0.5555555555555556,
              "#d8576b"
             ],
             [
              0.6666666666666666,
              "#ed7953"
             ],
             [
              0.7777777777777778,
              "#fb9f3a"
             ],
             [
              0.8888888888888888,
              "#fdca26"
             ],
             [
              1,
              "#f0f921"
             ]
            ],
            "type": "histogram2dcontour"
           }
          ],
          "mesh3d": [
           {
            "colorbar": {
             "outlinewidth": 0,
             "ticks": ""
            },
            "type": "mesh3d"
           }
          ],
          "parcoords": [
           {
            "line": {
             "colorbar": {
              "outlinewidth": 0,
              "ticks": ""
             }
            },
            "type": "parcoords"
           }
          ],
          "pie": [
           {
            "automargin": true,
            "type": "pie"
           }
          ],
          "scatter": [
           {
            "fillpattern": {
             "fillmode": "overlay",
             "size": 10,
             "solidity": 0.2
            },
            "type": "scatter"
           }
          ],
          "scatter3d": [
           {
            "line": {
             "colorbar": {
              "outlinewidth": 0,
              "ticks": ""
             }
            },
            "marker": {
             "colorbar": {
              "outlinewidth": 0,
              "ticks": ""
             }
            },
            "type": "scatter3d"
           }
          ],
          "scattercarpet": [
           {
            "marker": {
             "colorbar": {
              "outlinewidth": 0,
              "ticks": ""
             }
            },
            "type": "scattercarpet"
           }
          ],
          "scattergeo": [
           {
            "marker": {
             "colorbar": {
              "outlinewidth": 0,
              "ticks": ""
             }
            },
            "type": "scattergeo"
           }
          ],
          "scattergl": [
           {
            "marker": {
             "colorbar": {
              "outlinewidth": 0,
              "ticks": ""
             }
            },
            "type": "scattergl"
           }
          ],
          "scattermapbox": [
           {
            "marker": {
             "colorbar": {
              "outlinewidth": 0,
              "ticks": ""
             }
            },
            "type": "scattermapbox"
           }
          ],
          "scatterpolar": [
           {
            "marker": {
             "colorbar": {
              "outlinewidth": 0,
              "ticks": ""
             }
            },
            "type": "scatterpolar"
           }
          ],
          "scatterpolargl": [
           {
            "marker": {
             "colorbar": {
              "outlinewidth": 0,
              "ticks": ""
             }
            },
            "type": "scatterpolargl"
           }
          ],
          "scatterternary": [
           {
            "marker": {
             "colorbar": {
              "outlinewidth": 0,
              "ticks": ""
             }
            },
            "type": "scatterternary"
           }
          ],
          "surface": [
           {
            "colorbar": {
             "outlinewidth": 0,
             "ticks": ""
            },
            "colorscale": [
             [
              0,
              "#0d0887"
             ],
             [
              0.1111111111111111,
              "#46039f"
             ],
             [
              0.2222222222222222,
              "#7201a8"
             ],
             [
              0.3333333333333333,
              "#9c179e"
             ],
             [
              0.4444444444444444,
              "#bd3786"
             ],
             [
              0.5555555555555556,
              "#d8576b"
             ],
             [
              0.6666666666666666,
              "#ed7953"
             ],
             [
              0.7777777777777778,
              "#fb9f3a"
             ],
             [
              0.8888888888888888,
              "#fdca26"
             ],
             [
              1,
              "#f0f921"
             ]
            ],
            "type": "surface"
           }
          ],
          "table": [
           {
            "cells": {
             "fill": {
              "color": "#EBF0F8"
             },
             "line": {
              "color": "white"
             }
            },
            "header": {
             "fill": {
              "color": "#C8D4E3"
             },
             "line": {
              "color": "white"
             }
            },
            "type": "table"
           }
          ]
         },
         "layout": {
          "annotationdefaults": {
           "arrowcolor": "#2a3f5f",
           "arrowhead": 0,
           "arrowwidth": 1
          },
          "autotypenumbers": "strict",
          "coloraxis": {
           "colorbar": {
            "outlinewidth": 0,
            "ticks": ""
           }
          },
          "colorscale": {
           "diverging": [
            [
             0,
             "#8e0152"
            ],
            [
             0.1,
             "#c51b7d"
            ],
            [
             0.2,
             "#de77ae"
            ],
            [
             0.3,
             "#f1b6da"
            ],
            [
             0.4,
             "#fde0ef"
            ],
            [
             0.5,
             "#f7f7f7"
            ],
            [
             0.6,
             "#e6f5d0"
            ],
            [
             0.7,
             "#b8e186"
            ],
            [
             0.8,
             "#7fbc41"
            ],
            [
             0.9,
             "#4d9221"
            ],
            [
             1,
             "#276419"
            ]
           ],
           "sequential": [
            [
             0,
             "#0d0887"
            ],
            [
             0.1111111111111111,
             "#46039f"
            ],
            [
             0.2222222222222222,
             "#7201a8"
            ],
            [
             0.3333333333333333,
             "#9c179e"
            ],
            [
             0.4444444444444444,
             "#bd3786"
            ],
            [
             0.5555555555555556,
             "#d8576b"
            ],
            [
             0.6666666666666666,
             "#ed7953"
            ],
            [
             0.7777777777777778,
             "#fb9f3a"
            ],
            [
             0.8888888888888888,
             "#fdca26"
            ],
            [
             1,
             "#f0f921"
            ]
           ],
           "sequentialminus": [
            [
             0,
             "#0d0887"
            ],
            [
             0.1111111111111111,
             "#46039f"
            ],
            [
             0.2222222222222222,
             "#7201a8"
            ],
            [
             0.3333333333333333,
             "#9c179e"
            ],
            [
             0.4444444444444444,
             "#bd3786"
            ],
            [
             0.5555555555555556,
             "#d8576b"
            ],
            [
             0.6666666666666666,
             "#ed7953"
            ],
            [
             0.7777777777777778,
             "#fb9f3a"
            ],
            [
             0.8888888888888888,
             "#fdca26"
            ],
            [
             1,
             "#f0f921"
            ]
           ]
          },
          "colorway": [
           "#636efa",
           "#EF553B",
           "#00cc96",
           "#ab63fa",
           "#FFA15A",
           "#19d3f3",
           "#FF6692",
           "#B6E880",
           "#FF97FF",
           "#FECB52"
          ],
          "font": {
           "color": "#2a3f5f"
          },
          "geo": {
           "bgcolor": "white",
           "lakecolor": "white",
           "landcolor": "#E5ECF6",
           "showlakes": true,
           "showland": true,
           "subunitcolor": "white"
          },
          "hoverlabel": {
           "align": "left"
          },
          "hovermode": "closest",
          "mapbox": {
           "style": "light"
          },
          "paper_bgcolor": "white",
          "plot_bgcolor": "#E5ECF6",
          "polar": {
           "angularaxis": {
            "gridcolor": "white",
            "linecolor": "white",
            "ticks": ""
           },
           "bgcolor": "#E5ECF6",
           "radialaxis": {
            "gridcolor": "white",
            "linecolor": "white",
            "ticks": ""
           }
          },
          "scene": {
           "xaxis": {
            "backgroundcolor": "#E5ECF6",
            "gridcolor": "white",
            "gridwidth": 2,
            "linecolor": "white",
            "showbackground": true,
            "ticks": "",
            "zerolinecolor": "white"
           },
           "yaxis": {
            "backgroundcolor": "#E5ECF6",
            "gridcolor": "white",
            "gridwidth": 2,
            "linecolor": "white",
            "showbackground": true,
            "ticks": "",
            "zerolinecolor": "white"
           },
           "zaxis": {
            "backgroundcolor": "#E5ECF6",
            "gridcolor": "white",
            "gridwidth": 2,
            "linecolor": "white",
            "showbackground": true,
            "ticks": "",
            "zerolinecolor": "white"
           }
          },
          "shapedefaults": {
           "line": {
            "color": "#2a3f5f"
           }
          },
          "ternary": {
           "aaxis": {
            "gridcolor": "white",
            "linecolor": "white",
            "ticks": ""
           },
           "baxis": {
            "gridcolor": "white",
            "linecolor": "white",
            "ticks": ""
           },
           "bgcolor": "#E5ECF6",
           "caxis": {
            "gridcolor": "white",
            "linecolor": "white",
            "ticks": ""
           }
          },
          "title": {
           "x": 0.05
          },
          "xaxis": {
           "automargin": true,
           "gridcolor": "white",
           "linecolor": "white",
           "ticks": "",
           "title": {
            "standoff": 15
           },
           "zerolinecolor": "white",
           "zerolinewidth": 2
          },
          "yaxis": {
           "automargin": true,
           "gridcolor": "white",
           "linecolor": "white",
           "ticks": "",
           "title": {
            "standoff": 15
           },
           "zerolinecolor": "white",
           "zerolinewidth": 2
          }
         }
        },
        "title": {
         "text": "ROC Plot",
         "x": 0.5
        },
        "width": 800,
        "xaxis": {
         "constrain": "domain",
         "title": {
          "text": "False Positive Rate"
         }
        },
        "yaxis": {
         "scaleanchor": "x",
         "scaleratio": 1,
         "title": {
          "text": "True Positive Rate"
         }
        }
       }
      }
     },
     "metadata": {},
     "output_type": "display_data"
    }
   ],
   "source": [
    "\n",
    "plot.plot_roc()\n",
    "\n",
    "# predicted probability histogram plot\n",
    "#plot_probability_histogram()"
   ]
  },
  {
   "cell_type": "code",
   "execution_count": null,
   "metadata": {},
   "outputs": [],
   "source": []
  }
 ],
 "metadata": {
  "kernelspec": {
   "display_name": "Python 3",
   "language": "python",
   "name": "python3"
  },
  "language_info": {
   "codemirror_mode": {
    "name": "ipython",
    "version": 3
   },
   "file_extension": ".py",
   "mimetype": "text/x-python",
   "name": "python",
   "nbconvert_exporter": "python",
   "pygments_lexer": "ipython3",
   "version": "3.11.4"
  }
 },
 "nbformat": 4,
 "nbformat_minor": 2
}
